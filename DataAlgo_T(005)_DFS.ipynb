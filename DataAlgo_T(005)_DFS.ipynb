{
  "nbformat": 4,
  "nbformat_minor": 0,
  "metadata": {
    "colab": {
      "name": "DataAlgo-T(005) DFS",
      "provenance": [],
      "collapsed_sections": [],
      "authorship_tag": "ABX9TyM0Dgj8sKnx4x8BNw8OYbhW",
      "include_colab_link": true
    },
    "kernelspec": {
      "name": "python3",
      "display_name": "Python 3"
    }
  },
  "cells": [
    {
      "cell_type": "markdown",
      "metadata": {
        "id": "view-in-github",
        "colab_type": "text"
      },
      "source": [
        "<a href=\"https://colab.research.google.com/github/kameda-yoshinari/DataAlgo-T/blob/master/DataAlgo_T(005)_DFS.ipynb\" target=\"_parent\"><img src=\"https://colab.research.google.com/assets/colab-badge.svg\" alt=\"Open In Colab\"/></a>"
      ]
    },
    {
      "cell_type": "markdown",
      "metadata": {
        "id": "yRmydXneMgT8"
      },
      "source": [
        "# 3.3. Depth-First Search\n",
        "\n",
        "We learn how to visit all the vertices in an undirected and connected graph by way of depth-first search.\n",
        "\n",
        "**Reminder**  \n",
        "On github, rendering might not be in good shape.  \n",
        "To see the expected layout, open this page in Google Colaboratory.\n",
        "To run one specific code cell in colab, click the icon on the left part or just type Ctrl + Enter.  \n",
        "  "
      ]
    },
    {
      "cell_type": "markdown",
      "metadata": {
        "id": "CdQdV_MJIlce"
      },
      "source": [
        "#Preparation\n",
        "Connect the Jupyter environment and invoke a runtime. Mount your Google Drive by the procedure below.  \n",
        "Change directory to the mounted point and make it as the working folder.  \n",
        "By then, files are preserved even after you terminate the runtime environment."
      ]
    },
    {
      "cell_type": "code",
      "metadata": {
        "id": "DMtqXRXJIPMR"
      },
      "source": [
        "!echo \"Mounting yout Google Drive\"\n",
        "from google.colab import drive \n",
        "drive.mount('/content/drive')"
      ],
      "execution_count": null,
      "outputs": []
    },
    {
      "cell_type": "code",
      "metadata": {
        "id": "SABzmuELIaj2"
      },
      "source": [
        "!echo \"Make a working folder and chnage directory to it\"\n",
        "%cd /content/drive/My\\ Drive\n",
        "%mkdir -p DataAlgo/005\n",
        "%cd       DataAlgo/005\n",
        "!ls"
      ],
      "execution_count": null,
      "outputs": []
    },
    {
      "cell_type": "markdown",
      "metadata": {
        "id": "227hkF2NhgRF"
      },
      "source": [
        "Consider Graph G3.  \n",
        "8 vertices, undirected, connected. \n",
        "It can be writen in C program by the form of adjacency matrix.\n",
        "Element-1 means the edge exists betweeen row-ID-vertex and column-ID-vertex (they are adjacent)."
      ]
    },
    {
      "cell_type": "markdown",
      "metadata": {
        "id": "NINxYWNgOSaw"
      },
      "source": [
        "![da2020-graph3](https://user-images.githubusercontent.com/45651568/84249701-1107b680-ab46-11ea-89b0-6a454ec80ec4.jpg)"
      ]
    },
    {
      "cell_type": "code",
      "metadata": {
        "id": "rz4_9z4rOQu4"
      },
      "source": [
        "%%writefile graph3.h\n",
        "// 8 vertices, undirected, no-weight.\n",
        "#define N 8\n",
        "int edge[N][N] = {\n",
        "//   0 1 2 3 4 5 6 7\n",
        "\t{0,1,0,0,1,0,0,0}, // 0\n",
        "\t{1,0,0,0,0,0,1,0}, // 1\n",
        "\t{0,0,0,1,0,0,1,0}, // 2\n",
        "\t{0,0,1,0,0,0,0,1}, // 3\n",
        "\t{1,0,0,0,0,1,0,0}, // 4\n",
        " \t{0,0,0,0,1,0,1,0}, // 5\n",
        "\t{0,1,1,0,0,1,0,1}, // 6\n",
        "\t{0,0,0,1,0,0,1,0}  // 7\n",
        "};"
      ],
      "execution_count": null,
      "outputs": []
    },
    {
      "cell_type": "markdown",
      "metadata": {
        "id": "Yexyi2uCeb0w"
      },
      "source": [
        "Or you can change the program to feed your own graph.  \n",
        "below is an example of a complete graph of 8 vertices.  \n",
        "(Make sure which one you are going to use for compiling the program later)"
      ]
    },
    {
      "cell_type": "code",
      "metadata": {
        "id": "DGmtmhDmIxIr"
      },
      "source": [
        "%%writefile graph3.h\n",
        "// 8 vertices, undirected, no-weight.\n",
        "#define N 8\n",
        "int edge[N][N] = {\n",
        "//   0 1 2 3 4 5 6 7\n",
        "\t{0,1,1,1,1,1,1,1}, // 0\n",
        "\t{1,0,1,1,1,1,1,1}, // 1\n",
        "\t{1,1,0,1,1,1,1,1}, // 2\n",
        "\t{1,1,1,0,1,1,1,1}, // 3\n",
        "\t{1,1,1,1,0,1,1,1}, // 4\n",
        "\t{1,1,1,1,1,0,1,1}, // 5\n",
        "\t{1,1,1,1,1,1,0,1}, // 6\n",
        "\t{1,1,1,1,1,1,1,0}, // 7\n",
        "};"
      ],
      "execution_count": null,
      "outputs": []
    },
    {
      "cell_type": "markdown",
      "metadata": {
        "id": "SgrerkN-Ox0L"
      },
      "source": [
        "# Outline of DFS\n",
        "\n",
        "In dungeon-type RPG like Rogue, it is a depth-first search to choose the room investigate from the room as far as possible as seen from the first room (start vertex). It can be said that it is a bold strategy.  \n",
        "\n",
        "The vertices in the middle leading to the vertex are also listed in order. Here, all edges shall have the same length. \n",
        "\n",
        "In fact, we don't know which room is far away. So, when you choose the next room from one room, you just choose a room that you have not been to yet. \n",
        "\n",
        "Quickly invade the chosen room. In other words, the last room chosen is processed first. This is equivalent to Last-In-First-Out. \n",
        "\n",
        "Stack (First-In-Last-Out = Last-In-First-Out) is used to describe the algorithm of depth-first search. \n",
        "\n",
        "Suppose you come to visit a new room. \n",
        "The room number is listed as \"visited\" now.\n",
        "Then, check the adjacent rooms and write down them on the stack (this action is called \"push\").\n",
        "Then, pick one of the rooms you just wrote in the stack (this action is called \"pop\"), and go for visit, Do the same thing...\n",
        "\n",
        "In some cases, you may come to a room where you can't find new rooms to go because every next room has already been visited.\n",
        "In this case, you go back along the road that you came. \n",
        "Memo on the stack will tell you which room to go back. \n",
        "\n",
        "In some cases, a room on the stacktop might be the one you have visited. In such a case, just skip the vertex and make the stack lower.\n",
        "\n",
        "For reference, when DFS was performed from vertex 0 for graph G3, the result of vertex enumeration by DFS was as follows. \n",
        "\n",
        "Here, when there are multiple vertices of the same priority, it is assumed that the vertex with the lower number is selected. \n",
        "\n",
        "DFS result: 0 1 6 2 3 7 5 4"
      ]
    },
    {
      "cell_type": "markdown",
      "metadata": {
        "id": "0_o0avWIHZqC"
      },
      "source": [
        "# C program of DFS\n",
        "\n",
        "**Purpose**\n",
        "\n",
        "List up the vertices of a given graph in the order of depth-first search that utilizes stack.\n",
        "\n",
        "**Explanation**\n",
        "\n",
        "A starting vertex is specified at the beginning.  \n",
        "Let's call the top of the stack stacktop.  \n",
        "When you add a new object, put it on top of the stack.   \n",
        "This action is called push.   \n",
        "The action of removing the top object is called pop.   \n",
        "\n",
        "**Program**\n",
        "\n",
        "The function bfs() is void because it never fails.  \n",
        "You do not need to move the data in the stack.\n",
        "So you need only one variable to remember the top position in the stack.\n",
        "\n",
        "Unlike queue, there is no listing result on stack area at the end of the process.  \n",
        "We use visited[] to record the listing order. \n",
        "\n",
        "**Remarks**\n",
        "\n",
        "Below is the figure of the stack in this program for Graph G3 starting at No.0.\n",
        "When we visit the stack-top vertex, new candidates to visit next are pushd on the stack top (red numbers). \n",
        "\n",
        "Then, The stack top object is poped out (we remove it from the stack top) and we visit the room.\n",
        "\n",
        "When visiting a vertex, if no new vertices are pushed, it means we choose a vertex that has been pushed previously.\n",
        "Visiting Vertex 7 is the case. Since the Vertex 7 does not push any vertices, the next vertex to visit is Vertex 5, which actually has been pushed by Vertex 6 (3 times ago).\n",
        "\n",
        "\n"
      ]
    },
    {
      "cell_type": "markdown",
      "metadata": {
        "id": "sCw_bpOMq7ds"
      },
      "source": [
        "![005-dfs-C](https://user-images.githubusercontent.com/45651568/117356920-44d29400-aeef-11eb-965e-f55c5dd30f02.png)"
      ]
    },
    {
      "cell_type": "code",
      "metadata": {
        "id": "Sfxsc_02JNc1"
      },
      "source": [
        "%%writefile dfs_simple_E.c\n",
        "// Depth First Search.\n",
        "// kameda[at]ccs.tsukuba.ac.jp, 2020.\n",
        "#include <stdio.h> // printf()\n",
        "#include \"graph3.h\"\n",
        "\n",
        "// DFS main body\n",
        "void dfs(int StartingRoom){\n",
        "\tint listed[N];  // 0 not yet, 1 listed\n",
        "\tint stack[N*N];\n",
        "\tint stacktop = 0;\n",
        "    \n",
        "    int CurrentRoom;\n",
        "    int RoomToCheck;\n",
        "\n",
        "\tint visited[N]; // memory to record the listing order\n",
        "\tint num_visited = 0; // number of recorded vetices\n",
        "\n",
        "\tfor (RoomToCheck = 0; RoomToCheck < N; RoomToCheck++)\n",
        "\t\tlisted[RoomToCheck] = 0;\n",
        "\t\n",
        "\tprintf(\"Start DFS from vertex %d.\\n\", StartingRoom);\n",
        "    // Push StartingRoom to the stack\n",
        "    stack[stacktop] = StartingRoom;\n",
        "    stacktop++;\n",
        "\n",
        "\t// Keep working if the vertices are in the stack.\n",
        "\twhile (stacktop > 0) {\n",
        "\t\tprintf(\"Stack status: length %d, vertex at the stack top is  %d\\n\", stacktop, stack[stacktop - 1]);\n",
        "\t\t{int i; for (i = 0; i < stacktop; i++) printf(\"%d \", stack[i]); printf(\"\\n\");}\n",
        "\n",
        "        // Investigate the vertex (taken from the stack top, removing it from the stack)\n",
        "\t\tprintf(\"Take vertex %d on the stack top and start process (it is deleted from the stack).\\n\", stack[stacktop - 1]);\n",
        "\t\tCurrentRoom = stack[stacktop - 1];\n",
        "        stacktop--;\n",
        "\n",
        "\t\t// Is this Vertex new to us?\n",
        "\t\tif (listed[CurrentRoom] == 0) {\n",
        "\t\t\t// Yes, so process this vertex.\n",
        "\t\t\t// Some extra process my be placed here.\n",
        "\n",
        "\t\t\t// It is recognized as being listed.\n",
        "\t\t\tprintf(\"Vertex %d is treated as already listed from now.\\n\", CurrentRoom);\n",
        "\t\t\tlisted[CurrentRoom] = 1;\n",
        "\t\t\t// Record the listing order.\n",
        "\t\t\tvisited[num_visited] = CurrentRoom;\n",
        "\t\t\tnum_visited++;\n",
        "\n",
        "    \t\t// CHoose next\n",
        "\t\t\t//   RoomToCheck is in descending order in order to follow the rule of \n",
        "\t\t\t//  \"smaller ID should be chosen if there are vertices at the same level\"\n",
        "\t\t\tfor (RoomToCheck = N-1; RoomToCheck >= 0; RoomToCheck--) {\n",
        "   \t    \t\tif (edge[CurrentRoom][RoomToCheck] == 0) {\n",
        "\t\t\t\t\tprintf(\"  (At Vertex %d) Vertex %d is not adjacent.\\n\", CurrentRoom, RoomToCheck);\n",
        "\t\t\t\t} else if (listed[RoomToCheck] != 0) {\n",
        "\t\t\t\t\tprintf(\"  (At Vertex %d) Vertex %d is adjacent, but already listed before.\\n\", CurrentRoom, RoomToCheck);\n",
        "        \t\t} else {         \n",
        "\t\t\t\t\tprintf(\"  (At Vertex %d) Vertex %d is adjacent, and not listed, so put it on the stack top.\\n\", CurrentRoom, RoomToCheck);\n",
        "               \t\t// Push RoomToCheck to the stack\n",
        "\t\t\t\t\tstack[stacktop] = RoomToCheck;\n",
        "               \t\tstacktop++;\n",
        "\t\t\t\t}\n",
        "\t\t\t}\n",
        "\t\t}\n",
        "\t}\n",
        "\tprintf(\"No vertices left in the stack. Quiting.\\n\");\n",
        "\n",
        "\tprintf(\"Result of List up by DFS.\\n\");\n",
        "\tfor (CurrentRoom = 0; CurrentRoom < num_visited; CurrentRoom++)\n",
        "\t\tprintf(\"%d \", visited[CurrentRoom]);\n",
        "    printf(\"\\n\");\n",
        "\n",
        "\treturn;\n",
        "}\n",
        "\n",
        "// Main function\n",
        "int main(int argc, char *argv[]){\n",
        "\tdfs(0); // Call dfs() with the starting vertex ID\n",
        "\treturn 0;\n",
        "}"
      ],
      "execution_count": null,
      "outputs": []
    },
    {
      "cell_type": "markdown",
      "metadata": {
        "id": "8y6NIDJEd6EF"
      },
      "source": [
        "Compile it and check no errors."
      ]
    },
    {
      "cell_type": "code",
      "metadata": {
        "id": "1fDHcZ_kw6w8"
      },
      "source": [
        "!gcc -Wall -o dfs_simple_E dfs_simple_E.c"
      ],
      "execution_count": null,
      "outputs": []
    },
    {
      "cell_type": "markdown",
      "metadata": {
        "id": "s8waNgg-d_Ke"
      },
      "source": [
        "Run it."
      ]
    },
    {
      "cell_type": "code",
      "metadata": {
        "id": "22ZwJ5yzCWKl"
      },
      "source": [
        "!./dfs_simple_E"
      ],
      "execution_count": null,
      "outputs": []
    },
    {
      "cell_type": "markdown",
      "metadata": {
        "id": "tPNqfN0aFChg"
      },
      "source": [
        "# Command line option to set starting vertex\n",
        "\n",
        "**Purpose**\n",
        "\n",
        "Let the program take the command line option as the ID of the starting vertex to list up vertices by BFS.\n",
        "\n",
        "**Explanation**\n",
        "\n",
        "Use atoi() to convert string at command line option to integer.\n",
        "(It is desirable to use strtol() since it can handle errors while atoi() cannot do it.)\n",
        "\n",
        "**Program**\n",
        "\n",
        "Command line option is processed within main().\n",
        "\n",
        "**Remarks**\n",
        "\n",
        "No changes at dfs() function.  \n",
        "As this is the second time, you should rewrite the above program by youself by following the DFS version before you see the program below.\n",
        "\n"
      ]
    },
    {
      "cell_type": "code",
      "metadata": {
        "id": "tQ1hSFbGFKlQ"
      },
      "source": [
        "%%writefile dfs_xtraCommandLine_E.c\n",
        "// Depth First Search.\n",
        "// kameda[at]ccs.tsukuba.ac.jp, 2020.\n",
        "// -- Extra --\n",
        "//    Accept command line option\n",
        "#include <stdio.h> // printf()\n",
        "#include <stdlib.h> // atoi()\n",
        "#include \"graph3.h\"\n",
        "\n",
        "// DFS main body\n",
        "void dfs(int StartingRoom){\n",
        "\tint listed[N];  // 0 not yet, 1 listed\n",
        "\tint stack[N*N];\n",
        "\tint stacktop = 0;\n",
        "    \n",
        "    int CurrentRoom;\n",
        "    int RoomToCheck;\n",
        "\n",
        "\tint visited[N]; // memory to record the listing order\n",
        "\tint num_visited = 0; // number of recorded vetices\n",
        "\n",
        "\tfor (RoomToCheck = 0; RoomToCheck < N; RoomToCheck++)\n",
        "\t\tlisted[RoomToCheck] = 0;\n",
        "\t\n",
        "\tprintf(\"Start DFS from vertex %d.\\n\", StartingRoom);\n",
        "    // Push StartingRoom to the stack\n",
        "    stack[stacktop] = StartingRoom;\n",
        "    stacktop++;\n",
        "\n",
        "\t// Keep working if the vertices are in the stack.\n",
        "\twhile (stacktop > 0) {\n",
        "\t\tprintf(\"Stack status: length %d, vertex at the stack top is  %d\\n\", stacktop, stack[stacktop - 1]);\n",
        "\t\t{int i; for (i = 0; i < stacktop; i++) printf(\"%d \", stack[i]); printf(\"\\n\");}\n",
        "\n",
        "        // Investigate the vertex (taken from the stack top, removing it from the stack)\n",
        "\t\tprintf(\"Take vertex %d on the stack top and start process (it is deleted from the stack).\\n\", stack[stacktop - 1]);\n",
        "\t\tCurrentRoom = stack[stacktop - 1];\n",
        "        stacktop--;\n",
        "\n",
        "\t\t// Is this Vertex new to us?\n",
        "\t\tif (listed[CurrentRoom] == 0) {\n",
        "\t\t\t// Yes, so process this vertex.\n",
        "\t\t\t// Some extra process my be placed here.\n",
        "\n",
        "\t\t\t// It is recognized as being listed.\n",
        "\t\t\tprintf(\"Vertex %d is treated as already listed from now.\\n\", CurrentRoom);\n",
        "\t\t\tlisted[CurrentRoom] = 1;\n",
        "\t\t\t// Record the listing order.\n",
        "\t\t\tvisited[num_visited] = CurrentRoom;\n",
        "\t\t\tnum_visited++;\n",
        "\n",
        "    \t\t// Choose next\n",
        "\t\t\t//  RoomToCheck is in descending order in order to follow the rule of \n",
        "\t\t\t//  \"smaller ID should be chosen if there are vertices at the same level\"\n",
        "\t\t\tfor (RoomToCheck = N-1; RoomToCheck >= 0; RoomToCheck--) {\n",
        "   \t    \t\tif (edge[CurrentRoom][RoomToCheck] == 0) {\n",
        "\t\t\t\t\tprintf(\"  (At Vertex %d) Vertex %d is not adjacent.\\n\", CurrentRoom, RoomToCheck);\n",
        "\t\t\t\t} else if (listed[RoomToCheck] != 0) {\n",
        "\t\t\t\t\tprintf(\"  (At Vertex %d) Vertex %d is adjacent, but already listed before.\\n\", CurrentRoom, RoomToCheck);\n",
        "        \t\t} else {         \n",
        "\t\t\t\t\tprintf(\"  (At Vertex %d) Vertex %d is adjacent, and not listed, so put it on the stack top.\\n\", CurrentRoom, RoomToCheck);\n",
        "               \t\t// Push RoomToCheck to the stack\n",
        "\t\t\t\t\tstack[stacktop] = RoomToCheck;\n",
        "               \t\tstacktop++;\n",
        "\t\t\t\t}\n",
        "\t\t\t}\n",
        "\t\t}\n",
        "\t}\n",
        "\tprintf(\"No vertices left in the stack. Quiting.\\n\");\n",
        "\n",
        "\tprintf(\"Result of List up by DFS.\\n\");\n",
        "\tfor (CurrentRoom = 0; CurrentRoom < num_visited; CurrentRoom++)\n",
        "\t\tprintf(\"%d \", visited[CurrentRoom]);\n",
        "    printf(\"\\n\");\n",
        "\n",
        "\treturn;\n",
        "}\n",
        "\n",
        "// Main function\n",
        "int main(int argc, char *argv[]){\n",
        "    int startvertex = 0;\n",
        "    if (argc == 1) {\n",
        "        printf(\"Start vertex not specified, so set No.0 as start.\\n\");\n",
        "        startvertex = 0;\n",
        "    } else if (argc == 2) {\n",
        "        startvertex = atoi(argv[1]);\n",
        "        if (startvertex < 0 || startvertex >= N) {\n",
        "            printf(\"Illegal ID specified, so quit.\\n\");\n",
        "            return -1;\n",
        "        }\n",
        "    }\n",
        "\n",
        "\tdfs(startvertex);  // Call dfs() with the starting vertex ID \n",
        "\treturn 0;\n",
        "}"
      ],
      "execution_count": null,
      "outputs": []
    },
    {
      "cell_type": "markdown",
      "metadata": {
        "id": "QD7n0zqyeDgm"
      },
      "source": [
        "Compile it and check no errors."
      ]
    },
    {
      "cell_type": "code",
      "metadata": {
        "id": "W4ShaOLyKaAt"
      },
      "source": [
        "!gcc -Wall -o dfs_xtraCommandLine_E dfs_xtraCommandLine_E.c"
      ],
      "execution_count": null,
      "outputs": []
    },
    {
      "cell_type": "markdown",
      "metadata": {
        "id": "PpEZbIIseIB1"
      },
      "source": [
        "Run it."
      ]
    },
    {
      "cell_type": "code",
      "metadata": {
        "id": "eES9GPwVLg4z"
      },
      "source": [
        "!./dfs_xtraCommandLine_E 0"
      ],
      "execution_count": null,
      "outputs": []
    },
    {
      "cell_type": "markdown",
      "metadata": {
        "id": "lZXa6FVXIzoI"
      },
      "source": [
        "# C program of DFS by function call\n",
        "\n",
        "**Purpose**\n",
        "\n",
        "push and pop by user defined functions.\n",
        "\n",
        "**Explanation**\n",
        "\n",
        "Write user defined functions in a different source file.  \n",
        "It could be treated as an external library in the future.．\n",
        "\n",
        "**Program**\n",
        "\n",
        "Original source file is splitted into three parts.\n",
        "* a header file of queue operation\n",
        "* source file of user defined functions\n",
        "* application source file of BFS\n",
        "\n",
        "**Remarks**\n",
        "\n",
        "Separate compilation method is applied.\n",
        "．"
      ]
    },
    {
      "cell_type": "code",
      "metadata": {
        "id": "5jU5gpnlYoAy"
      },
      "source": [
        "%%writefile StackLib_E.h\n",
        "// Stack management\n",
        "// kameda[at]ccs.tsukuba.ac.jp, 2020.\n",
        "\n",
        "// Initialization of stack\n",
        "int *initstack(int );\n",
        "\n",
        "// Add to the stack\n",
        "int stackpush(int );\n",
        "\n",
        "// Delete from the stack\n",
        "int stackpop(void);\n",
        "\n",
        "// Show the status of the stack\n",
        "int showstack(void);\n",
        "\n",
        "// Show the whole status of the stack\n",
        "int showallstack(void);\n"
      ],
      "execution_count": null,
      "outputs": []
    },
    {
      "cell_type": "code",
      "metadata": {
        "id": "Iotxsvy8MktG"
      },
      "source": [
        "%%writefile StackLib_E.c\n",
        "// Stack management\n",
        "// kameda[at]ccs.tsukuba.ac.jp, 2020.\n",
        "#include <stdio.h> // printf()\n",
        "#include <stdlib.h> // calloc()\n",
        "#include \"StackLib_E.h\" // Prototype check\n",
        "\n",
        "int *stack = NULL; // Stack mainbody (needs initialization)\n",
        "int stacksize = 0; // Stack size\n",
        "int stacktop = 0; // Stack top position\n",
        "\n",
        "// Initialization of stack\n",
        "int *initstack(int n) {\n",
        "    stack = calloc(n, sizeof(*stack));\n",
        "    if (stack == NULL) {\n",
        "        printf(\"[Error] Cannot obtain stack memory for %d elements.\\n\", n);\n",
        "    }\n",
        "    stacksize = n;\n",
        "    return stack;\n",
        "}\n",
        "\n",
        "// Add to the stack\n",
        "int stackpush(int v) {\n",
        "    if (stack == NULL) {\n",
        "        printf(\"[Error] Stack is not ready.\\n\");\n",
        "        return -1;\n",
        "    } else if (stacktop >= stacksize) {\n",
        "        printf(\"[Error] Running out of stack memory. Currently %d elements.\\n\", stacksize);\n",
        "        return -2;\n",
        "    }\n",
        "    printf(\"--stack:push %d (stacktop=%d)\\n\", v, stacktop);\n",
        "    stack[stacktop] = v;\n",
        "    stacktop++;\n",
        "    return 0;\n",
        "}\n",
        "\n",
        "// Delete from the stack\n",
        "int stackpop(void) {\n",
        "    int v;\n",
        "    if (stack == NULL) {\n",
        "        printf(\"[Error] Stack is not ready.\\n\");\n",
        "        return -1;\n",
        "    } else if (stacktop <= 0) {\n",
        "        printf(\"[Report] No elements in the stack.\\n\");\n",
        "        return -2;\n",
        "    }\n",
        "    printf(\"--stack:pop    (stacktop=%d)\\n\", stacktop);\n",
        "    v = stack[stacktop - 1];\n",
        "    stacktop--;\n",
        "    printf(\"--stack:pop %2d (stacktop=%d)\\n\", v, stacktop);\n",
        "    return v;\n",
        "}\n",
        "\n",
        "// Show the status of the stack\n",
        "int showstack(void) {\n",
        "    int i;\n",
        "\n",
        "    if (stack == NULL) {\n",
        "        printf(\"[Error] Stack is not ready.\\n\");\n",
        "        return -1;\n",
        "    }\n",
        "\n",
        "    printf(\"showstack : stacksize = %d, stacktop = %d\\n\", stacksize, stacktop);\n",
        "    printf(\"showstack : \");\n",
        "    for (i = 0; i < stacktop; i++) {\n",
        "        printf(\"%d \", stack[i]);\n",
        "    }\n",
        "    printf(\"\\n\");\n",
        "\n",
        "    return stacktop;\n",
        "}\n",
        "\n",
        "// Swho the whole status of the stack\n",
        "int showallstack(void) {\n",
        "    int i;\n",
        "\n",
        "    if (stack == NULL) {\n",
        "        printf(\"[Error] Stack is not ready.\\n\");\n",
        "        return -1;\n",
        "    }\n",
        "\n",
        "    printf(\"showallstack: stacksize = %d, stacktop = %d\\n\", stacksize, stacktop);\n",
        "    printf(\"showallstack: \");\n",
        "    for (i = 0; i < stacksize; i++) {\n",
        "        printf(\"%d \", stack[i]);\n",
        "    }\n",
        "    printf(\"\\n\");\n",
        "\n",
        "    return stacksize;\n",
        "}\n",
        "\n"
      ],
      "execution_count": null,
      "outputs": []
    },
    {
      "cell_type": "markdown",
      "metadata": {
        "id": "ih41_eQXePu8"
      },
      "source": [
        "\n",
        "Compile only the source file of user defined functions. This is equivalent to create a new (user degined) library."
      ]
    },
    {
      "cell_type": "code",
      "metadata": {
        "id": "OpW_zclrVXLi"
      },
      "source": [
        "!gcc -Wall -c StackLib_E.c"
      ],
      "execution_count": null,
      "outputs": []
    },
    {
      "cell_type": "markdown",
      "metadata": {
        "id": "m9m4DOyLe5bz"
      },
      "source": [
        "Rewrite the dfs() function to use external user-defined functions for handling the stack.\n",
        "StackLib_E.h will be a help as a quick reference.\n"
      ]
    },
    {
      "cell_type": "code",
      "metadata": {
        "id": "ylsnCjsQSrOg"
      },
      "source": [
        "%%writefile dfs_xtraFuncCalls_E.c\n",
        "// Depth First Search.\n",
        "// kameda[at]ccs.tsukuba.ac.jp, 2020.\n",
        "// -- Extra --\n",
        "//    Accept command line option\n",
        "//    Call functions for stackpush and stackpop\n",
        "#include <stdio.h> // printf()\n",
        "#include <stdlib.h> // atoi()\n",
        "#include \"StackLib_E.h\"\n",
        "#include \"graph3.h\"\n",
        "\n",
        "// DFS main body\n",
        "void dfs(int StartingRoom){\n",
        "\tint listed[N];  // 0 not yet, 1 done\n",
        "    \n",
        "    int CurrentRoom;\n",
        "    int RoomToCheck;\n",
        "\n",
        "\tint visited[N]; // memory to record the listing order\n",
        "\tint num_visited = 0; // number of recorded vetices\n",
        "\n",
        "\tfor (RoomToCheck = 0; RoomToCheck < N; RoomToCheck++)\n",
        "\t\tlisted[RoomToCheck] = 0;\n",
        "\n",
        "    // Initialization of the stack\n",
        "    initstack(N*N);\n",
        "\t\n",
        "\tprintf(\"Start DFS from vertex %d.\\n\", StartingRoom);\n",
        "    // Push StartingRoom to the stack\n",
        "    stackpush(StartingRoom);\n",
        "\n",
        "    // Stack status\n",
        "    // Stack operation is made at while() , so show the status just before that\n",
        "    showstack();\n",
        "\n",
        "\t// Keep working if the vertices are in the stack.\n",
        "\twhile ((CurrentRoom = stackpop()) >= 0) {\n",
        "        // Investigate the vertex (taken from the stack top, removing it from the stack)\n",
        "\t\tprintf(\"Take vertex %d on the stack top and start process (it is deleted from the stack).\\n\", CurrentRoom);\n",
        "\n",
        "\t\tif (listed[CurrentRoom] == 0) {\n",
        "\t\t\t// Some extra process my be placed here.\n",
        "\n",
        "\t\t\t// It is recognized as being listed.\t  \n",
        "\t\t\tprintf(\"Vertex %d is treated as already listed from now.\\n\", CurrentRoom);\n",
        "\t\t\tlisted[CurrentRoom] = 1;\n",
        "\t\t\t// Record the listing order.\n",
        "\t\t\tvisited[num_visited] = CurrentRoom;\n",
        "\t\t\tnum_visited++;\n",
        "\n",
        "        \t// Choose next\n",
        "\t\t\t//  RoomToCheck is in descending order in order to follow the rule of \n",
        "\t\t\t//  \"smaller ID should be chosen if there are vertices at the same level\"\n",
        "\t\t\tfor (RoomToCheck = N-1; RoomToCheck >= 0; RoomToCheck--) {\n",
        "   \t    \t\tif (edge[CurrentRoom][RoomToCheck] == 0) {\n",
        "\t\t\t\t\tprintf(\"  (At Vertex %d) Vertex %d is not adjacent.\\n\", CurrentRoom, RoomToCheck);\n",
        "\t\t\t\t} else if (listed[RoomToCheck] != 0) {\n",
        "\t\t\t\t\tprintf(\"  (At Vertex %d) Vertex %d is adjacent, but already listed before.\\n\", CurrentRoom, RoomToCheck);\n",
        "        \t\t} else {         \n",
        "\t\t\t\t\tprintf(\"  (At Vertex %d) Vertex %d is adjacent, and not listed, so put it on the stack top.\\n\", CurrentRoom, RoomToCheck);\n",
        "               \t\t// Push RoomToCheck to the stack\n",
        "\t\t\t\t\tstackpush(RoomToCheck);\n",
        "\t\t\t\t}\n",
        "\t\t\t}\n",
        "\t\t}\n",
        "\t\t\n",
        "\t    // Stack status\n",
        "    \t// Stack operation is made at while() , so show the status just before that\n",
        "        showstack();\n",
        "\t}\n",
        "\tprintf(\"No vertices left in the stack. Quiting.\\n\");\n",
        "\n",
        "\tprintf(\"Result of List up by DFS.\\n\");\n",
        "\tfor (CurrentRoom = 0; CurrentRoom < N; CurrentRoom++)\n",
        "\t\tprintf(\"%d \", visited[CurrentRoom]);\n",
        "    printf(\"\\n\");\n",
        "\n",
        "\treturn ;\n",
        "}\n",
        "\n",
        "// Main function\n",
        "int main(int argc, char *argv[]){\n",
        "    int startvertex = 0;\n",
        "    if (argc == 1) {\n",
        "        printf(\"Start vertex not specified, so set No.0 as start.\\n\");\n",
        "        startvertex = 0;\n",
        "    } else if (argc == 2) {\n",
        "        startvertex = atoi(argv[1]);\n",
        "        if (startvertex < 0 || startvertex >= N) {\n",
        "            printf(\"Illegal ID specified, so quit.\\n\");\n",
        "            return -1;\n",
        "        }\n",
        "    }\n",
        "\n",
        "\tdfs(startvertex);  // Call dfs() with the starting vertex ID \n",
        "\treturn 0;\n",
        "}"
      ],
      "execution_count": null,
      "outputs": []
    },
    {
      "cell_type": "markdown",
      "metadata": {
        "id": "RIzCCG_HefwJ"
      },
      "source": [
        "Compile the dfs program part."
      ]
    },
    {
      "cell_type": "code",
      "metadata": {
        "id": "4FjvSOZuZhy4"
      },
      "source": [
        "!gcc -Wall -c dfs_xtraFuncCalls_E.c"
      ],
      "execution_count": null,
      "outputs": []
    },
    {
      "cell_type": "markdown",
      "metadata": {
        "id": "el5mxVABeoT4"
      },
      "source": [
        "Link the object files (*.o) to make the binary file (dfs_xtraFuncCalls_E)."
      ]
    },
    {
      "cell_type": "code",
      "metadata": {
        "id": "mzRyl1IDZyrF"
      },
      "source": [
        "!gcc -o dfs_xtraFuncCalls_E dfs_xtraFuncCalls_E.o StackLib_E.o"
      ],
      "execution_count": null,
      "outputs": []
    },
    {
      "cell_type": "markdown",
      "metadata": {
        "id": "KUi66tQ9ezAc"
      },
      "source": [
        "Run it. Output should be same as the previous one."
      ]
    },
    {
      "cell_type": "code",
      "metadata": {
        "id": "cnqUOVDEaAvA"
      },
      "source": [
        "!./dfs_xtraFuncCalls_E 0"
      ],
      "execution_count": null,
      "outputs": []
    },
    {
      "cell_type": "markdown",
      "metadata": {
        "id": "oVlm1UA8X1Z2"
      },
      "source": [
        "# C program of DFS by recursive calls\n",
        "\n",
        "**Purpose**\n",
        "\n",
        "Write DFS program by using recursive function calls that are C language nature.\n",
        "\n",
        "\n",
        "**Explanation**\n",
        "\n",
        "Stack should be organized by the smart use of recursive function calls of C language.\n",
        "On calling a function in C language, its arguments and local variables are stored in stack area.\n",
        "When we call the same function for the several times, they are stacked (pushed) every time when the function is called.\n",
        "\n",
        "This indicates the program shall be compact as we do not need to prepare stack operations by ourselves anymore.\n",
        "\n",
        "**Program**\n",
        "\n",
        "The use of listed[] and visited[] are same as before, but they are prepared as global variables because they are accessed at any function calls.\n",
        "Initialization of the global variables are done at main function.\n",
        "Result is also shown at the main function.\n",
        "\n",
        "Note that the alogirhm is slightly different from the previous one because this program visits the new vertex while it is checking the adjacency of all the vertices in the graph (in other words, before checking ALL the adjacent vertices).\n",
        "\n",
        "The stack diagram below is showing the relationship between the procedure and the stack area. Multiple \"RoomToCheck and CurrentRoom\" variable sets are stored (at most 4-layered; this means reccursive calls are 4 times nested). The arrow at RoomToCheck (X to Y) local variable indicates the loop (line 31-41) is going down from initial value X to value Y. If the Y comes to N (N=8 here), it means the recursive function call of that time ends.\n",
        "\n",
        "**Remarks**\n",
        "\n",
        "Note that the stack is changed in the different fashion as the previous program. Yet the result is the same."
      ]
    },
    {
      "cell_type": "markdown",
      "metadata": {
        "id": "Q83IGBO6zgPB"
      },
      "source": [
        "![image](https://user-images.githubusercontent.com/45651568/90209118-75384680-de25-11ea-8b23-21203f576a68.png)\n",
        "Figure: Recusive procedure diagram"
      ]
    },
    {
      "cell_type": "code",
      "metadata": {
        "id": "Eo2CM8EqZi97"
      },
      "source": [
        "%%writefile dfs_recursive_E.c\n",
        "// Depth First Search by recursive call\n",
        "// kameda[at]ccs.tsukuba.ac.jp, 2020.\n",
        "#include <stdio.h> // printf()\n",
        "#include <stdlib.h> // atoi()\n",
        "#include \"graph3.h\"\n",
        "\n",
        "int listed[N];  // 0 not yet, 1 listed\n",
        "\n",
        "int visited[N]; // memory to record the listing order\n",
        "int num_visited = 0; // number of recorded vetices\n",
        "\n",
        "\n",
        "// DFS main body by recursive calls\n",
        "void dfs(int CurrentRoom){\n",
        "    int RoomToCheck;\n",
        "\n",
        "    // Start the process with something on the stack\n",
        "\tprintf(\"Start process at this new Vertex %d.\\n\", CurrentRoom);\n",
        "\n",
        "\t// Some extra process my be placed here.\n",
        "\n",
        "\t// It is recognized as being listed.\n",
        "\tprintf(\"Vertex %d is treated as already listed from now.\\n\", CurrentRoom);\n",
        "\tlisted[CurrentRoom] = 1;\n",
        "\t// Record the listing order.\n",
        "\tvisited[num_visited] = CurrentRoom;\n",
        "\tnum_visited++;\n",
        "\n",
        "    // Choose next\n",
        "\tfor (RoomToCheck = 0; RoomToCheck < N; RoomToCheck++) {\n",
        "   \t\tif (edge[CurrentRoom][RoomToCheck] == 0) {\n",
        "\t\t\tprintf(\"  (At Vertex %d) Vertex %d is not adjacent.\\n\", CurrentRoom, RoomToCheck);\n",
        "\t\t} else if (listed[RoomToCheck] != 0) {\n",
        "\t\t\tprintf(\"  (At Vertex %d) Vertex %d is adjacent, but already listed before.\\n\", CurrentRoom, RoomToCheck);\n",
        "        } else {         \n",
        "\t\t\tprintf(\"  (At Vertex %d) Vertex %d is adjacent, and not listed, so visit that vetex right now!\\n\", CurrentRoom, RoomToCheck);\n",
        "           \t// Visit Vertex RoomToCheck (recursive call)\n",
        "\t\t\tdfs(RoomToCheck);\n",
        "\t\t}\n",
        "\t}\n",
        "\n",
        "\treturn;\n",
        "}\n",
        "\n",
        "// Main function\n",
        "int main(int argc, char *argv[]){\n",
        "    int RoomToCheck;\n",
        "    int startvertex = 0;\n",
        "    if (argc == 1) {\n",
        "        printf(\"Start vertex not specified, so set No.0 as start.\\n\");\n",
        "        startvertex = 0;\n",
        "    } else if (argc == 2) {\n",
        "        startvertex = atoi(argv[1]);\n",
        "        if (startvertex < 0 || startvertex >= N) {\n",
        "            printf(\"Illegal ID specified, so quit.\\n\");\n",
        "            return -1;\n",
        "        }\n",
        "    }\n",
        "\n",
        "\tfor (RoomToCheck = 0; RoomToCheck < N; RoomToCheck++)\n",
        "\t\tlisted[RoomToCheck] = 0;\n",
        "\n",
        "\tdfs(startvertex); // Call dfs() with the starting vertex ID\n",
        "\n",
        "   \tprintf(\"Result of List up by DFS.\\n\");\n",
        "\tfor (RoomToCheck = 0; RoomToCheck < N; RoomToCheck++)\n",
        "\t\tprintf(\"%d \", visited[RoomToCheck]);\n",
        "    printf(\"\\n\");\n",
        "\n",
        "\treturn 0;\n",
        "}"
      ],
      "execution_count": null,
      "outputs": []
    },
    {
      "cell_type": "markdown",
      "metadata": {
        "id": "zhechXUNbvva"
      },
      "source": [
        "Compile it and check no errors."
      ]
    },
    {
      "cell_type": "code",
      "metadata": {
        "id": "5gxNiHT-bvEd"
      },
      "source": [
        "!gcc -Wall -o dfs_recursive_E dfs_recursive_E.c"
      ],
      "execution_count": null,
      "outputs": []
    },
    {
      "cell_type": "markdown",
      "metadata": {
        "id": "CxBI4UbEcB9L"
      },
      "source": [
        "Run it."
      ]
    },
    {
      "cell_type": "code",
      "metadata": {
        "id": "O3zzVD4tcA3h"
      },
      "source": [
        "!./dfs_recursive_E"
      ],
      "execution_count": null,
      "outputs": []
    },
    {
      "cell_type": "markdown",
      "metadata": {
        "id": "MpROEk5Zr51r"
      },
      "source": [
        "# Short C program of DFS by recursive call\n",
        "\n",
        "In the previous program, many printf() are inserted to show the flow of the procedure.\n",
        "\n",
        "In the next program, dfs() consists of only the necessary statements. \n",
        "Exept for recursive call(line 22), there only one substitution statement (line 15), one printf() (line 17), one for() (line20), and one if() (line 21).\n",
        "\n",
        "This is quite a good example of sophisticated use of built-in stack structure for DFS algorithm."
      ]
    },
    {
      "cell_type": "code",
      "metadata": {
        "id": "eUJKZIidr4pi"
      },
      "source": [
        "%%writefile dfs_recursive-short_E.c\n",
        "// Depth First Search by recursive call\n",
        "// kameda[at]ccs.tsukuba.ac.jp, 2020.\n",
        "#include <stdio.h> // printf()\n",
        "#include <stdlib.h> // atoi()\n",
        "#include \"graph3.h\"\n",
        "\n",
        "int listed[N];  // 0 not yet, 1 listed\n",
        "\n",
        "// DFS main body by recursive calls\n",
        "void dfs(int CurrentRoom){\n",
        "    int RoomToCheck;\n",
        "\n",
        "\t// It is recognized as being listed.\n",
        "\tlisted[CurrentRoom] = 1;\n",
        "\t// Show the listing order.\n",
        "    printf(\"Listing: %d\\n\", CurrentRoom);\n",
        "\n",
        "    // Choose next\n",
        "\tfor (RoomToCheck = 0; RoomToCheck < N; RoomToCheck++) {\n",
        "        if (edge[CurrentRoom][RoomToCheck] != 0 && listed[RoomToCheck] == 0) \n",
        "\t\t\tdfs(RoomToCheck);\n",
        "\t}\n",
        "\treturn;\n",
        "}\n",
        "\n",
        "// Main function\n",
        "int main(int argc, char *argv[]){\n",
        "    int RoomToCheck;\n",
        "    int startvertex = 0;\n",
        "    if (argc == 1) {\n",
        "        printf(\"Start vertex not specified, so set No.0 as start.\\n\");\n",
        "        startvertex = 0;\n",
        "    } else if (argc == 2) {\n",
        "        startvertex = atoi(argv[1]);\n",
        "        if (startvertex < 0 || startvertex >= N) {\n",
        "            printf(\"Illegal ID specified, so quit.\\n\");\n",
        "            return -1;\n",
        "        }\n",
        "    }\n",
        "\n",
        "\tfor (RoomToCheck = 0; RoomToCheck < N; RoomToCheck++)\n",
        "\t\tlisted[RoomToCheck] = 0;\n",
        "\n",
        "\tdfs(startvertex); // Call dfs() with the starting vertex ID\n",
        "\n",
        "\treturn 0;\n",
        "}"
      ],
      "execution_count": null,
      "outputs": []
    },
    {
      "cell_type": "code",
      "metadata": {
        "id": "D3GEb9WEKYQs"
      },
      "source": [
        "!gcc -Wall -o dfs_recursive-short_E dfs_recursive-short_E.c"
      ],
      "execution_count": null,
      "outputs": []
    },
    {
      "cell_type": "code",
      "metadata": {
        "id": "BVfu0aXytnqc"
      },
      "source": [
        "!./dfs_recursive-short_E 0"
      ],
      "execution_count": null,
      "outputs": []
    },
    {
      "cell_type": "markdown",
      "metadata": {
        "id": "h8ktAzQOYv0W"
      },
      "source": [
        "# Alternative DFS algorithm (without recursive calls)\n",
        "\n",
        "**Purpose**\n",
        "\n",
        "Write the program that works same as the recursive-call program without using the recursive calls.\n",
        "See the difference.\n",
        "\n",
        "**Explanation**\n",
        "\n",
        "Since we do not use recursive calls, we need to prepare stacks by ourselves.\n",
        "\n",
        "**Program**\n",
        "\n",
        "A mixture of dfs_xtraCommandLine_E.c and dfs_recursive_E.c.  \n",
        "Make sure where is the part that works as recursive call.  \n",
        "A structure variable is introduced to support CurrentRoom and RoomToCheck as stack.\n",
        "\n",
        "**Remarks**\n",
        "\n",
        "See how long (and complicated) the code is if we do not use recursive calls."
      ]
    },
    {
      "cell_type": "code",
      "metadata": {
        "id": "QrR5OCVkNG2o"
      },
      "source": [
        "%%writefile dfs_NoRecursive_E.c\n",
        "// Depth First Search.\n",
        "// kameda[at]ccs.tsukuba.ac.jp, 2021.\n",
        "// -- Extra --\n",
        "//    Accept command line option\n",
        "//    No recursive calls\n",
        "#include <stdio.h> // printf()\n",
        "#include <stdlib.h> // atoi()\n",
        "#include \"graph3.h\"\n",
        "\n",
        "// A stack element\n",
        "struct stackelement {\n",
        "    int CurrentRoom;\n",
        "    int RoomToCheck;\n",
        "};\n",
        "\n",
        "// DFS main body\n",
        "void dfs(int StartingRoom){\n",
        "\tint listed[N];  // 0 not yet, 1 listed\n",
        "    struct stackelement stack[N];\n",
        "\tint stacktop = 0;\n",
        "\n",
        "\tint visited[N]; // memory to record the listing order\n",
        "\tint num_visited = 0; // number of recorded vetices\n",
        "    \n",
        "    struct stackelement visiting; // local use (CurrentRoom and RoomToCheck)\n",
        "    int r;\n",
        "\n",
        "\tfor (r = 0; r < N; r++)\n",
        "\t\tlisted[r] = 0;\n",
        "\t\n",
        "\tprintf(\"Start DFS from vertex %d.\\n\", StartingRoom);\n",
        "    // Push StartingRoom to the stack\n",
        "    visiting.CurrentRoom = StartingRoom;\n",
        "    visiting.RoomToCheck = 0;\n",
        "\n",
        "\t// Keep working if the vertices are in the stack.\n",
        "\tdo {\n",
        "\t\tprintf(\"Stack status: length %d, vertex at the stack top is  %d\\n\", stacktop, stack[stacktop - 1].CurrentRoom);\n",
        "\t\t{int i; printf(\"stack:RoomToCheck: \"); for (i = 0; i < stacktop; i++) printf(\"%d \", stack[i].RoomToCheck); printf(\"\\n\");}\n",
        "\t\t{int i; printf(\"stack:CurrentRoom: \"); for (i = 0; i < stacktop; i++) printf(\"%d \", stack[i].CurrentRoom); printf(\"\\n\");}\n",
        "\n",
        "        // This part should be explicitly done only when it is new\n",
        "        if (listed[visiting.CurrentRoom] == 0) {\n",
        "    \t\t// It is recognized as being listed.\n",
        "\t    \tlisted[visiting.CurrentRoom] = 1;\n",
        "            // Show the listing (visiting) order\n",
        "\t\t    printf(\"Listing (Visiting): %d\\n\", visiting.CurrentRoom);\n",
        "\t\t    // Record the order just for the final report\n",
        "\t\t    visited[num_visited] = visiting.CurrentRoom;\n",
        "\t\t    num_visited++;\n",
        "        }\n",
        "\n",
        "   \t\t// Choose next\n",
        "\t\t//  \"smaller ID should be chosen if there are vertices at the same level\"\n",
        "\t\tfor ( ; visiting.RoomToCheck < N; visiting.RoomToCheck++) {\n",
        "    \t\tif (edge[visiting.CurrentRoom][visiting.RoomToCheck] == 0) {\n",
        "\t\t\t\tprintf(\"  (At Vertex %d) Vertex %d is not adjacent.\\n\", visiting.CurrentRoom, visiting.RoomToCheck);\n",
        "\t\t\t} else if (listed[visiting.RoomToCheck] != 0) {\n",
        "\t\t\t\tprintf(\"  (At Vertex %d) Vertex %d is adjacent, but already listed before.\\n\", visiting.CurrentRoom, visiting.RoomToCheck);\n",
        "       \t\t} else {         \n",
        "\t\t\t\tprintf(\"  (At Vertex %d) Vertex %d is adjacent, and not listed, so put the current room %d on the stack top and go to the new room.\\n\", visiting.CurrentRoom, visiting.RoomToCheck, visiting.CurrentRoom);\n",
        "        \t\t// Push CurrentRoom/RoomToCheck to the stack for future use\n",
        "\t\t\t\tstack[stacktop] = visiting;\n",
        "          \t\tstacktop++;\n",
        "                // And set new values to visit the new room\n",
        "                visiting.CurrentRoom = visiting.RoomToCheck;\n",
        "                visiting.RoomToCheck = 0;\n",
        "                break; // go to the new room (by breaking the for loop)\n",
        "\t\t\t}\n",
        "\t\t}\n",
        "\n",
        "        // End of CurrentRoom visiting?\n",
        "        if (visiting.RoomToCheck >= N) {\n",
        "     \t\tprintf(\"Remove (pop-up) an element on the stack top and back to vertex No. %d.\\n\", stack[stacktop - 1].CurrentRoom);\n",
        "\t    \tvisiting = stack[stacktop - 1];\n",
        "            stacktop--;\n",
        "        }\n",
        "\t} while (stacktop > 0) ;\n",
        "\tprintf(\"No vertices left in the stack. Quiting.\\n\");\n",
        "\n",
        "\tprintf(\"Result of List up by DFS.\\n\");\n",
        "\tfor (r = 0; r < num_visited; r++)\n",
        "\t\tprintf(\"%d \", visited[r]);\n",
        "    printf(\"\\n\");\n",
        "\n",
        "\treturn;\n",
        "}\n",
        "\n",
        "// Main function\n",
        "int main(int argc, char *argv[]){\n",
        "    int startvertex = 0;\n",
        "    if (argc == 1) {\n",
        "        printf(\"Start vertex not specified, so set No.0 as start.\\n\");\n",
        "        startvertex = 0;\n",
        "    } else if (argc == 2) {\n",
        "        startvertex = atoi(argv[1]);\n",
        "        if (startvertex < 0 || startvertex >= N) {\n",
        "            printf(\"Illegal ID specified, so quit.\\n\");\n",
        "            return -1;\n",
        "        }\n",
        "    }\n",
        "\n",
        "\tdfs(startvertex);  // Call dfs() with the starting vertex ID \n",
        "\treturn 0;\n",
        "}"
      ],
      "execution_count": null,
      "outputs": []
    },
    {
      "cell_type": "code",
      "metadata": {
        "id": "aFPT5d6kKS-S"
      },
      "source": [
        "!gcc -Wall -o dfs_NoRecursive_E dfs_NoRecursive_E.c"
      ],
      "execution_count": null,
      "outputs": []
    },
    {
      "cell_type": "code",
      "metadata": {
        "id": "MbXGSPRaa9WY"
      },
      "source": [
        "!./dfs_NoRecursive_E 0"
      ],
      "execution_count": null,
      "outputs": []
    },
    {
      "cell_type": "markdown",
      "metadata": {
        "id": "qtFCRKrRky1q"
      },
      "source": [
        "# Problems\n",
        "\n",
        "1. Description of the algorithm   \n",
        "Describe the breadth-first search algorithm using queues in Human language.   \n",
        "The description must follow be the explanation in  this lecture.    \n",
        "The diagram of the stack should be inserted. \n",
        "\n",
        "\n",
        "2. Complete Algorithm  \n",
        "As long as a given graph is undirected and connected, the breadth-first search algorithm shown in this section always list up all vertices successfully. Try to explain that this is true. \n",
        "\n",
        "\n",
        "3. Computation amount   \n",
        "Discuss the computation amount of time and space of the program in dfs_xtraCommandLine_E.c. \n",
        "\n",
        "\n",
        "4. Memory size of stack area  \n",
        "No matter what undirected and connected graph is specified, show that the memory size required for stack does not exceed the number of vertices in dfs-alt_xtraFuncCalls_E.c program. \n",
        "\n",
        "\n",
        "5. Largest stack   \n",
        "Find out the shape of a graph that gives the largest stack tentatively on processing the graph in dfs-alt_xtraFuncCalls_E.c program.\n",
        "\n",
        "\n",
        "6. Simpler program by recursive call  \n",
        "Why is the dfs_recursive_E.c program much simpler than dfs_simple_E.c program?\n",
        "Try to explain the reason by refering C language structure.\n",
        "\n",
        "\n",
        "7. Description of Recursive procedure  \n",
        "Write down the document to understand the recursive prodedure diagram.\n",
        "\n",
        "\n",
        "\n",
        "\n",
        "8. Insertion of extra phrase  \n",
        "If you are asked to insert the statement of  \n",
        "printf(\"  (At Vertex %d) Nothing to do here, so we are evacuated from this room.\\n\", CurrentRoom);  \n",
        "in dfs_recursive_E.c, whch line should be the best place?\n",
        "\n",
        "\n",
        "9. Distance display  \n",
        "Modify the dfs_recursive-short_E.c program to show the distance from the starting vertex for each vertex on listing result, like:  \n",
        "Start vertex not specified, so set No.0 as start.  \n",
        "Listing: 0 (distance 0)  \n",
        "Listing: 1 (distance 1)  \n",
        "Listing: 6 (distance 2)  \n",
        "Listing: 2 (distance 3)  \n",
        "Listing: 3 (distance 4)  \n",
        "Listing: 7 (distance 5)  \n",
        "Listing: 5 (distance 3)  \n",
        "Listing: 4 (distance 4)  \n",
        "\n",
        "\n",
        "\n"
      ]
    },
    {
      "cell_type": "markdown",
      "metadata": {
        "id": "ezKmkVsxeowi"
      },
      "source": [
        "#**Course Info**\n",
        "\n",
        "https://github.com/kameda-yoshinari/DataAlgo-T  \n",
        "Course: Data structure and algorithm  \n",
        "Department of Engineering Systems, University of Tsukuba,Japan.  \n",
        "Author: KAMEDA, Yoshinari  \n",
        "2021.05.07. revised  \n",
        "2020.05.19. -  \n"
      ]
    }
  ]
}