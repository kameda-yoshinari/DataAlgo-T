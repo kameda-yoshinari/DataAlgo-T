{
  "nbformat": 4,
  "nbformat_minor": 0,
  "metadata": {
    "colab": {
      "name": "DataAlgo-T(004) BFS",
      "provenance": [],
      "collapsed_sections": [],
      "authorship_tag": "ABX9TyNTUfnZtKMkb+32wGvfZhsG",
      "include_colab_link": true
    },
    "kernelspec": {
      "name": "python3",
      "display_name": "Python 3"
    }
  },
  "cells": [
    {
      "cell_type": "markdown",
      "metadata": {
        "id": "view-in-github",
        "colab_type": "text"
      },
      "source": [
        "<a href=\"https://colab.research.google.com/github/kameda-yoshinari/DataAlgo-T/blob/master/DataAlgo_T(004)_BFS.ipynb\" target=\"_parent\"><img src=\"https://colab.research.google.com/assets/colab-badge.svg\" alt=\"Open In Colab\"/></a>"
      ]
    },
    {
      "cell_type": "markdown",
      "metadata": {
        "id": "yRmydXneMgT8",
        "colab_type": "text"
      },
      "source": [
        "# 3.2. Breadth-First Search\n",
        "\n",
        "We learn how to visit all the vertices in an undirected and connected graph by way of breadth-first search.\n",
        "\n",
        "**Reminder**  \n",
        "To run one code cell, type Ctrl + Enter.    \n"
      ]
    },
    {
      "cell_type": "markdown",
      "metadata": {
        "id": "CdQdV_MJIlce",
        "colab_type": "text"
      },
      "source": [
        "# Preparation\n",
        "\n",
        "Connect the Jupyter environment and invoke a runtime. \n",
        "Mount your Google Drive by the procedure below.  \n",
        "Change directory to the mounted point and make it as the working folder.  \n",
        "By then, files are preserved even after you terminate the runtime environment."
      ]
    },
    {
      "cell_type": "code",
      "metadata": {
        "id": "DMtqXRXJIPMR",
        "colab_type": "code",
        "colab": {
          "base_uri": "https://localhost:8080/",
          "height": 141
        },
        "outputId": "b8dcaf92-6e06-4e8d-de95-0c55fe047594"
      },
      "source": [
        "!echo \"Mounting yout Google Drive\"\n",
        "from google.colab import drive \n",
        "drive.mount('/content/drive')"
      ],
      "execution_count": 3,
      "outputs": [
        {
          "output_type": "stream",
          "text": [
            "Mounting yout Google Drive\n",
            "Go to this URL in a browser: https://accounts.google.com/o/oauth2/auth?client_id=947318989803-6bn6qk8qdgf4n4g3pfee6491hc0brc4i.apps.googleusercontent.com&redirect_uri=urn%3aietf%3awg%3aoauth%3a2.0%3aoob&response_type=code&scope=email%20https%3a%2f%2fwww.googleapis.com%2fauth%2fdocs.test%20https%3a%2f%2fwww.googleapis.com%2fauth%2fdrive%20https%3a%2f%2fwww.googleapis.com%2fauth%2fdrive.photos.readonly%20https%3a%2f%2fwww.googleapis.com%2fauth%2fpeopleapi.readonly\n",
            "\n",
            "Enter your authorization code:\n",
            "··········\n",
            "Mounted at /content/drive\n"
          ],
          "name": "stdout"
        }
      ]
    },
    {
      "cell_type": "code",
      "metadata": {
        "id": "SABzmuELIaj2",
        "colab_type": "code",
        "colab": {
          "base_uri": "https://localhost:8080/",
          "height": 173
        },
        "outputId": "9cece4ba-eee4-4b1d-f26d-e512887fbc0f"
      },
      "source": [
        "!echo \"Make a working folder and chnage directory to it\"\n",
        "%cd /content/drive/My\\ Drive/202004_DataAlgo\n",
        "%mkdir -p DA2020_004\n",
        "%cd DA2020_004\n",
        "!ls"
      ],
      "execution_count": 4,
      "outputs": [
        {
          "output_type": "stream",
          "text": [
            "Make a working folder and chnage directory to it\n",
            "/content/drive/My Drive/202004_DataAlgo\n",
            "/content/drive/My Drive/202004_DataAlgo/DA2020_004\n",
            "bfs_simple_E\t\t bfs_xtraCommandLine_J\t  QueueLib_E.c\n",
            "bfs_simple_E.c\t\t bfs_xtraCommandLine_J.c  QueueLib_E.h\n",
            "bfs_simple_J\t\t bfs_xtraFuncCalls_J\t  QueueLib_E.o\n",
            "bfs_simple_J.c\t\t bfs_xtraFuncCalls_J.c\t  QueueLib_J.c\n",
            "bfs_xtraCommandLine_E\t bfs_xtraFuncCalls_J.o\t  QueueLib_J.h\n",
            "bfs_xtraCommandLine_E.c  graph3.h\t\t  QueueLib_J.o\n"
          ],
          "name": "stdout"
        }
      ]
    },
    {
      "cell_type": "markdown",
      "metadata": {
        "id": "QTSCrxILiWsC",
        "colab_type": "text"
      },
      "source": [
        "Consider Graph G3.  \n",
        "8 vertices, undirected, connected. \n",
        "It can be writen in C program by the form of adjacency matrix.\n",
        "Element-1 means the edge exists betweeen row-ID-vertex and column-ID-vertex (they are adjacent)."
      ]
    },
    {
      "cell_type": "markdown",
      "metadata": {
        "id": "NINxYWNgOSaw",
        "colab_type": "text"
      },
      "source": [
        "![da2020-graph3](https://user-images.githubusercontent.com/45651568/84249701-1107b680-ab46-11ea-89b0-6a454ec80ec4.jpg)"
      ]
    },
    {
      "cell_type": "code",
      "metadata": {
        "id": "rz4_9z4rOQu4",
        "colab_type": "code",
        "colab": {
          "base_uri": "https://localhost:8080/",
          "height": 34
        },
        "outputId": "41eeca62-2894-4236-cff2-5fb8ff106ade"
      },
      "source": [
        "%%writefile graph3.h\n",
        "// 8 nodes, undirected, no-weight.\n",
        "#define N 8\n",
        "int edge[N][N] = {\n",
        "//   0 1 2 3 4 5 6 7\n",
        "\t{0,1,0,0,1,0,0,0}, // 0\n",
        "\t{1,0,0,0,0,0,1,0}, // 1\n",
        "\t{0,0,0,1,0,0,1,0}, // 2\n",
        "\t{0,0,1,0,0,0,0,1}, // 3\n",
        "\t{1,0,0,0,0,1,0,0}, // 4\n",
        " \t{0,0,0,0,1,0,1,0}, // 5\n",
        "\t{0,1,1,0,0,1,0,1}, // 6\n",
        "\t{0,0,0,1,0,0,1,0}  // 7\n",
        "};"
      ],
      "execution_count": 3,
      "outputs": [
        {
          "output_type": "stream",
          "text": [
            "Overwriting graph3.h\n"
          ],
          "name": "stdout"
        }
      ]
    },
    {
      "cell_type": "markdown",
      "metadata": {
        "id": "SgrerkN-Ox0L",
        "colab_type": "text"
      },
      "source": [
        "# Outline of BFS\n",
        "\n",
        "In dungeon-type RPG like Rogue, it is a breadth-first search to choose the room close to the first room (start vertex). It can be said that it is a careful strategy. \n",
        " \n",
        "More precisely, the search that enumerates the vertices close from the starting vertex is the width-first search. We assume all the edges in the graph shall have the same length. \n",
        " \n",
        "In the description of the algorithm of breadth-first search, a queue (First-In-First-Out) is used. We first investigate the vertex closest to the starting vertex and enumerate it. At this time, the unenumerated vertices adjacent to the vertex is put on the tail of the waiting line (connect them to the queue). When the investigation of a particular vertex is completed, the next vertex to investigate is the oldest one in the queue (First-In-First-Out). The reason for this is that it becomes the vertex farther from the starting vertex as the one connected later. \n",
        "\n",
        "For reference, when BFS was performed from vertex 0 for graph G3, the vertex enumeration by breadth-first is as follows.   \n",
        "Here, if there are multiple vertices of the same priority, the lower ID number of vertices shall be selected first. \n",
        "\n",
        "BFS result: 0 1 4 6 5 2 7 3"
      ]
    },
    {
      "cell_type": "markdown",
      "metadata": {
        "id": "0_o0avWIHZqC",
        "colab_type": "text"
      },
      "source": [
        "# C program of BFS\n",
        "\n",
        "**Purpose**\n",
        "\n",
        "List up the vertices of a given graph in the order of breadth-first search that utilizes queue.\n",
        "\n",
        "**Explanation**\n",
        "\n",
        "A starting vertex is specified at the beginning.  \n",
        "\n",
        "Queue could be a line in a supermarket.  \n",
        "When an object newly arrived, it shall be placed at the tail of the queue. This is called enqueue operation.  \n",
        "When the next turn comes, the object in the head of the queue is always processed. This is called dequeue operation.  \n",
        "On dequeueing a vertex (at the head of the queue), the associateed adjacent vertices are enumalted and they are enqueued. \n",
        "\n",
        "The list up should always ends up with listing all the vertices in the graph if it is undirected and connected.\n",
        "\n",
        "**Program**\n",
        "\n",
        "The function bfs() is void because it never fails.\n",
        "Since the data in the queue does not move, we need to prepare two variables to remember the head position and the tail position in the queue.\n",
        "\n",
        "**Remarks**\n",
        "\n",
        "On supermarket, people in the line walk as the procedure goes on. In such a case, the head position is fixed (in front of the register). But in the C program, data won't move. That is the reason why we need to remember head position too."
      ]
    },
    {
      "cell_type": "code",
      "metadata": {
        "id": "Sfxsc_02JNc1",
        "colab_type": "code",
        "colab": {
          "base_uri": "https://localhost:8080/",
          "height": 34
        },
        "outputId": "e2c35dd1-bc3e-4e8c-d37c-d2bf03dd8548"
      },
      "source": [
        "%%writefile bfs_simple_E.c\n",
        "// Breadth First Search.\n",
        "// 2020/05 kameda[at]ccs.tsukuba.ac.jp\n",
        "#include <stdio.h> // printf()\n",
        "#include \"graph3.h\"\n",
        "\n",
        "// BFS main body\n",
        "void bfs(int StartingRoom){\n",
        "\tint listed[N]; // 0 not yet, 1 queued\n",
        "\tint queue[N];\n",
        "\tint qhead = 0; // queue head position\n",
        "\tint qtail = 0; // queue tail position\n",
        "    \n",
        "    int CurrentRoom;\n",
        "    int RoomToCheck;\n",
        "\n",
        "\tfor (RoomToCheck = 0; RoomToCheck < N; RoomToCheck++)\n",
        "\t\tlisted[RoomToCheck] = 0;\n",
        "\t\n",
        "\tprintf(\"Start BFS from vertex %d.\\n\", StartingRoom);\n",
        "    // Enqueue the starting vertex at the tail position of the queue\n",
        "    queue[qtail] = StartingRoom;\n",
        "    qtail++;\n",
        "\n",
        "    // Mark as queued\n",
        "\tprintf(\"Vertex %d is now on the queue.\\n\", StartingRoom);\n",
        "    listed[StartingRoom] = 1;\n",
        " \n",
        "    // Keep working if the vertices are in the queue.\n",
        "\twhile (qhead < qtail) {\n",
        "\t\tprintf(\"Queue  status: length %d, vertex at head is %d, vertex at tail is %d\\n\", qtail - qhead, queue[qhead], queue[qtail - 1]);\n",
        "    \t{int i; printf(\"Current queue: \"); for (i = qhead; i < qtail; i++) printf(\"%d \", queue[i]); printf(\"\\n\");}\n",
        "\n",
        "        // Invesitgate the vertex (taken from the head of the queue, removing it from the queue)\n",
        "        printf(\"Take vertex %d on the queue head and start process (it is deleted from the queue.)\\n\", queue[qhead]);\n",
        "\t\tCurrentRoom = queue[qhead];\n",
        "        qhead++;\n",
        "\n",
        "        // Some extra process may be placed here.\n",
        "\n",
        "        // Choose next\n",
        "\t\tfor (RoomToCheck = 0; RoomToCheck < N; RoomToCheck++) {\n",
        "            if (edge[CurrentRoom][RoomToCheck] == 0) {\n",
        "\t\t\t\tprintf(\"  (At Vertex %d) Vertex %d is not adjacent.\\n\", CurrentRoom, RoomToCheck);\n",
        "            } else if (listed[RoomToCheck] != 0) {\n",
        "\t\t\t\tprintf(\"  (At Vertex %d) Vertex %d is adjacent, but already listed before.\\n\", CurrentRoom, RoomToCheck);\n",
        "            } else {         \n",
        "\t\t\t\tprintf(\"  (At Vertex %d) Vertex %d is adjacent, and not listed, so put it on the tail of the queue.\\n\", CurrentRoom, RoomToCheck);\n",
        "                // Enqueue RoomToCheck\n",
        "\t\t\t\tqueue[qtail] = RoomToCheck;\n",
        "                qtail++;\n",
        "\n",
        "                // Once enqueued, it is recognized as being listed.\n",
        "                printf(\"  (At Vertex %d) Vertex %d is treated as already listed from now.\\n\", CurrentRoom, RoomToCheck);\n",
        "\t\t\t\tlisted[RoomToCheck] = 1;\n",
        "\t\t\t}\n",
        "\t\t}\n",
        "\t}\n",
        "\tprintf(\"No vertices left in the queue. Quiting.\\n\");\n",
        "\n",
        "\tprintf(\"Result of List up by BFS.\\n\");\n",
        "\tfor (CurrentRoom = 0; CurrentRoom < N; CurrentRoom++)\n",
        "\t\tprintf(\"%d \", queue[CurrentRoom]);\n",
        "    printf(\"\\n\");\n",
        "\n",
        "\treturn;\n",
        "}\n",
        "\n",
        "// Main function\n",
        "int main(int argc, char *argv[]){\n",
        "\tbfs(0); // Call bfs() with the starting vertex ID \n",
        "\treturn 0;\n",
        "}"
      ],
      "execution_count": 8,
      "outputs": [
        {
          "output_type": "stream",
          "text": [
            "Overwriting bfs_simple_E.c\n"
          ],
          "name": "stdout"
        }
      ]
    },
    {
      "cell_type": "markdown",
      "metadata": {
        "id": "8y6NIDJEd6EF",
        "colab_type": "text"
      },
      "source": [
        "Compile it and check no errors."
      ]
    },
    {
      "cell_type": "code",
      "metadata": {
        "id": "1fDHcZ_kw6w8",
        "colab_type": "code",
        "colab": {}
      },
      "source": [
        "!gcc -Wall -o bfs_simple_E bfs_simple_E.c"
      ],
      "execution_count": 9,
      "outputs": []
    },
    {
      "cell_type": "markdown",
      "metadata": {
        "id": "s8waNgg-d_Ke",
        "colab_type": "text"
      },
      "source": [
        "Run it."
      ]
    },
    {
      "cell_type": "code",
      "metadata": {
        "id": "22ZwJ5yzCWKl",
        "colab_type": "code",
        "colab": {
          "base_uri": "https://localhost:8080/",
          "height": 1000
        },
        "outputId": "dd047cc6-3fa2-4643-efbe-1a49459c12c5"
      },
      "source": [
        "!./bfs_simple_E"
      ],
      "execution_count": 10,
      "outputs": [
        {
          "output_type": "stream",
          "text": [
            "Start BFS from vertex 0.\n",
            "Vertex 0 is now on the queue.\n",
            "Queue  status: length 1, vertex at head is 0, vertex at tail is 0\n",
            "Current queue: 0 \n",
            "Take vertex 0 on the queue head and start process (it is deleted from the queue.)\n",
            "  (At Vertex 0) Vertex 0 is not adjacent.\n",
            "  (At Vertex 0) Vertex 1 is adjacent, and not listed, so put it on the tail of the queue.\n",
            "  (At Vertex 0) Vertex 1 is treated as already listed from now.\n",
            "  (At Vertex 0) Vertex 2 is not adjacent.\n",
            "  (At Vertex 0) Vertex 3 is not adjacent.\n",
            "  (At Vertex 0) Vertex 4 is adjacent, and not listed, so put it on the tail of the queue.\n",
            "  (At Vertex 0) Vertex 4 is treated as already listed from now.\n",
            "  (At Vertex 0) Vertex 5 is not adjacent.\n",
            "  (At Vertex 0) Vertex 6 is not adjacent.\n",
            "  (At Vertex 0) Vertex 7 is not adjacent.\n",
            "Queue  status: length 2, vertex at head is 1, vertex at tail is 4\n",
            "Current queue: 1 4 \n",
            "Take vertex 1 on the queue head and start process (it is deleted from the queue.)\n",
            "  (At Vertex 1) Vertex 0 is adjacent, but already listed before.\n",
            "  (At Vertex 1) Vertex 1 is not adjacent.\n",
            "  (At Vertex 1) Vertex 2 is not adjacent.\n",
            "  (At Vertex 1) Vertex 3 is not adjacent.\n",
            "  (At Vertex 1) Vertex 4 is not adjacent.\n",
            "  (At Vertex 1) Vertex 5 is not adjacent.\n",
            "  (At Vertex 1) Vertex 6 is adjacent, and not listed, so put it on the tail of the queue.\n",
            "  (At Vertex 1) Vertex 6 is treated as already listed from now.\n",
            "  (At Vertex 1) Vertex 7 is not adjacent.\n",
            "Queue  status: length 2, vertex at head is 4, vertex at tail is 6\n",
            "Current queue: 4 6 \n",
            "Take vertex 4 on the queue head and start process (it is deleted from the queue.)\n",
            "  (At Vertex 4) Vertex 0 is adjacent, but already listed before.\n",
            "  (At Vertex 4) Vertex 1 is not adjacent.\n",
            "  (At Vertex 4) Vertex 2 is not adjacent.\n",
            "  (At Vertex 4) Vertex 3 is not adjacent.\n",
            "  (At Vertex 4) Vertex 4 is not adjacent.\n",
            "  (At Vertex 4) Vertex 5 is adjacent, and not listed, so put it on the tail of the queue.\n",
            "  (At Vertex 4) Vertex 5 is treated as already listed from now.\n",
            "  (At Vertex 4) Vertex 6 is not adjacent.\n",
            "  (At Vertex 4) Vertex 7 is not adjacent.\n",
            "Queue  status: length 2, vertex at head is 6, vertex at tail is 5\n",
            "Current queue: 6 5 \n",
            "Take vertex 6 on the queue head and start process (it is deleted from the queue.)\n",
            "  (At Vertex 6) Vertex 0 is not adjacent.\n",
            "  (At Vertex 6) Vertex 1 is adjacent, but already listed before.\n",
            "  (At Vertex 6) Vertex 2 is adjacent, and not listed, so put it on the tail of the queue.\n",
            "  (At Vertex 6) Vertex 2 is treated as already listed from now.\n",
            "  (At Vertex 6) Vertex 3 is not adjacent.\n",
            "  (At Vertex 6) Vertex 4 is not adjacent.\n",
            "  (At Vertex 6) Vertex 5 is adjacent, but already listed before.\n",
            "  (At Vertex 6) Vertex 6 is not adjacent.\n",
            "  (At Vertex 6) Vertex 7 is adjacent, and not listed, so put it on the tail of the queue.\n",
            "  (At Vertex 6) Vertex 7 is treated as already listed from now.\n",
            "Queue  status: length 3, vertex at head is 5, vertex at tail is 7\n",
            "Current queue: 5 2 7 \n",
            "Take vertex 5 on the queue head and start process (it is deleted from the queue.)\n",
            "  (At Vertex 5) Vertex 0 is not adjacent.\n",
            "  (At Vertex 5) Vertex 1 is not adjacent.\n",
            "  (At Vertex 5) Vertex 2 is not adjacent.\n",
            "  (At Vertex 5) Vertex 3 is not adjacent.\n",
            "  (At Vertex 5) Vertex 4 is adjacent, but already listed before.\n",
            "  (At Vertex 5) Vertex 5 is not adjacent.\n",
            "  (At Vertex 5) Vertex 6 is adjacent, but already listed before.\n",
            "  (At Vertex 5) Vertex 7 is not adjacent.\n",
            "Queue  status: length 2, vertex at head is 2, vertex at tail is 7\n",
            "Current queue: 2 7 \n",
            "Take vertex 2 on the queue head and start process (it is deleted from the queue.)\n",
            "  (At Vertex 2) Vertex 0 is not adjacent.\n",
            "  (At Vertex 2) Vertex 1 is not adjacent.\n",
            "  (At Vertex 2) Vertex 2 is not adjacent.\n",
            "  (At Vertex 2) Vertex 3 is adjacent, and not listed, so put it on the tail of the queue.\n",
            "  (At Vertex 2) Vertex 3 is treated as already listed from now.\n",
            "  (At Vertex 2) Vertex 4 is not adjacent.\n",
            "  (At Vertex 2) Vertex 5 is not adjacent.\n",
            "  (At Vertex 2) Vertex 6 is adjacent, but already listed before.\n",
            "  (At Vertex 2) Vertex 7 is not adjacent.\n",
            "Queue  status: length 2, vertex at head is 7, vertex at tail is 3\n",
            "Current queue: 7 3 \n",
            "Take vertex 7 on the queue head and start process (it is deleted from the queue.)\n",
            "  (At Vertex 7) Vertex 0 is not adjacent.\n",
            "  (At Vertex 7) Vertex 1 is not adjacent.\n",
            "  (At Vertex 7) Vertex 2 is not adjacent.\n",
            "  (At Vertex 7) Vertex 3 is adjacent, but already listed before.\n",
            "  (At Vertex 7) Vertex 4 is not adjacent.\n",
            "  (At Vertex 7) Vertex 5 is not adjacent.\n",
            "  (At Vertex 7) Vertex 6 is adjacent, but already listed before.\n",
            "  (At Vertex 7) Vertex 7 is not adjacent.\n",
            "Queue  status: length 1, vertex at head is 3, vertex at tail is 3\n",
            "Current queue: 3 \n",
            "Take vertex 3 on the queue head and start process (it is deleted from the queue.)\n",
            "  (At Vertex 3) Vertex 0 is not adjacent.\n",
            "  (At Vertex 3) Vertex 1 is not adjacent.\n",
            "  (At Vertex 3) Vertex 2 is adjacent, but already listed before.\n",
            "  (At Vertex 3) Vertex 3 is not adjacent.\n",
            "  (At Vertex 3) Vertex 4 is not adjacent.\n",
            "  (At Vertex 3) Vertex 5 is not adjacent.\n",
            "  (At Vertex 3) Vertex 6 is not adjacent.\n",
            "  (At Vertex 3) Vertex 7 is adjacent, but already listed before.\n",
            "No vertices left in the queue. Quiting.\n",
            "Result of List up result by BFS.\n",
            "0 1 4 6 5 2 7 3 \n"
          ],
          "name": "stdout"
        }
      ]
    },
    {
      "cell_type": "markdown",
      "metadata": {
        "id": "tPNqfN0aFChg",
        "colab_type": "text"
      },
      "source": [
        "# Coomand line option to set starting vertex\n",
        "\n",
        "**Purpose**\n",
        "\n",
        "Let the program take the command line option as the ID of the starting vertex to list up vertices by BFS.\n",
        "\n",
        "**Explanation**\n",
        "\n",
        "Use atoi() to convert string at command line option to integer.\n",
        "(It is desirable to use strtol() since it can handle errors while atoi() cannot do it.)\n",
        "\n",
        "**Program**\n",
        "\n",
        "Command line option is processed within main().\n",
        "\n",
        "**Remarks**\n",
        "\n",
        "No changes at bfs() function.\n"
      ]
    },
    {
      "cell_type": "code",
      "metadata": {
        "id": "tQ1hSFbGFKlQ",
        "colab_type": "code",
        "colab": {
          "base_uri": "https://localhost:8080/",
          "height": 34
        },
        "outputId": "14ef29c3-a6bb-4d53-9f3e-48c2c3a2407c"
      },
      "source": [
        "%%writefile bfs_xtraCommandLine_E.c\n",
        "// Breadth First Search.\n",
        "// 2020/05 kameda[at]ccs.tsukuba.ac.jp\n",
        "// -- Extra --\n",
        "//    Accept command line option\n",
        "#include <stdio.h> // printf()\n",
        "#include <stdlib.h> // atoi()\n",
        "#include \"graph3.h\"\n",
        "\n",
        "// BFS main body\n",
        "void bfs(int StartingRoom){\n",
        "\tint listed[N]; // 0 not yet, 1 queued\n",
        "\tint queue[N];\n",
        "\tint qhead = 0; // queue head position\n",
        "\tint qtail = 0; // queue tail position\n",
        "    \n",
        "    int CurrentRoom;\n",
        "    int RoomToCheck;\n",
        "\n",
        "\tfor (RoomToCheck = 0; RoomToCheck < N; RoomToCheck++)\n",
        "\t\tlisted[RoomToCheck] = 0;\n",
        "\t\n",
        "\tprintf(\"Start BFS from vertex %d.\\n\", StartingRoom);\n",
        "    // Enqueue the starting vertex at the tail position of the queue\n",
        "    queue[qtail] = StartingRoom;\n",
        "    qtail++;\n",
        "\n",
        "    // Mark as queued\n",
        "\tprintf(\"Vertex %d is now on the queue.\\n\", StartingRoom);\n",
        "    listed[StartingRoom] = 1;\n",
        " \n",
        "    // Keep working if the vertices are in the queue.\n",
        "\twhile (qhead < qtail) {\n",
        "\t\tprintf(\"Queue  status: length %d, vertex at head is %d, vertex at tail is %d\\n\", qtail - qhead, queue[qhead], queue[qtail - 1]);\n",
        "    \t{int i; printf(\"Current queue: \"); for (i = qhead; i < qtail; i++) printf(\"%d \", queue[i]); printf(\"\\n\");}\n",
        "\n",
        "        // Invesitgate the vertex (taken from the head of the queue, removing it from the queue)\n",
        "        printf(\"Take vertex %d on the queue head and start process (it is deleted from the queue.)\\n\", queue[qhead]);\n",
        "\t\tCurrentRoom = queue[qhead];\n",
        "        qhead++;\n",
        "\n",
        "        // Some extra process may be placed here.\n",
        "\n",
        "        // Choose next\n",
        "\t\tfor (RoomToCheck = 0; RoomToCheck < N; RoomToCheck++) {\n",
        "            if (edge[CurrentRoom][RoomToCheck] == 0) {\n",
        "\t\t\t\tprintf(\"  (At Vertex %d) Vertex %d is not adjacent.\\n\", CurrentRoom, RoomToCheck);\n",
        "            } else if (listed[RoomToCheck] != 0) {\n",
        "\t\t\t\tprintf(\"  (At Vertex %d) Vertex %d is adjacent, but already listed before.\\n\", CurrentRoom, RoomToCheck);\n",
        "            } else {         \n",
        "\t\t\t\tprintf(\"  (At Vertex %d) Vertex %d is adjacent, and not listed, so put it on the tail of the queue.\\n\", CurrentRoom, RoomToCheck);\n",
        "                // Enqueue RoomToCheck\n",
        "\t\t\t\tqueue[qtail] = RoomToCheck;\n",
        "                qtail++;\n",
        "\n",
        "                // Once enqueued, it is recognized as being listed.\n",
        "                printf(\"  (At Vertex %d) Vertex %d is treated as already listed from now.\\n\", CurrentRoom, RoomToCheck);\n",
        "\t\t\t\tlisted[RoomToCheck] = 1;\n",
        "\t\t\t}\n",
        "\t\t}\n",
        "\t}\n",
        "\tprintf(\"No vertices left in the queue. Quiting.\\n\");\n",
        "\n",
        "\tprintf(\"Result of List up by BFS.\\n\");\n",
        "\tfor (CurrentRoom = 0; CurrentRoom < N; CurrentRoom++)\n",
        "\t\tprintf(\"%d \", queue[CurrentRoom]);\n",
        "    printf(\"\\n\");\n",
        "\n",
        "\treturn;\n",
        "}\n",
        "\n",
        "// Main function\n",
        "int main(int argc, char *argv[]){\n",
        "    int startnode = 0;\n",
        "    if (argc == 1) {\n",
        "        printf(\"Start vertex not specified, so set No.0 as start.\\n\");\n",
        "        startnode = 0;\n",
        "    } else if (argc == 2) {\n",
        "        startnode = atoi(argv[1]);\n",
        "        if (startnode < 0 || startnode >= N) {\n",
        "            printf(\"Illegal ID specified, so quit.\\n\");\n",
        "            return -1;\n",
        "        }\n",
        "    }\n",
        "\n",
        "\tbfs(startnode);  // Call bfs() with the starting vertex ID \n",
        "\treturn 0;\n",
        "}"
      ],
      "execution_count": 11,
      "outputs": [
        {
          "output_type": "stream",
          "text": [
            "Writing bfs_xtraCommandLine_E.c\n"
          ],
          "name": "stdout"
        }
      ]
    },
    {
      "cell_type": "markdown",
      "metadata": {
        "id": "QD7n0zqyeDgm",
        "colab_type": "text"
      },
      "source": [
        "Compile it and check no errors."
      ]
    },
    {
      "cell_type": "code",
      "metadata": {
        "id": "W4ShaOLyKaAt",
        "colab_type": "code",
        "colab": {}
      },
      "source": [
        "!gcc -Wall -o bfs_xtraCommandLine_E bfs_xtraCommandLine_E.c"
      ],
      "execution_count": 12,
      "outputs": []
    },
    {
      "cell_type": "markdown",
      "metadata": {
        "id": "PpEZbIIseIB1",
        "colab_type": "text"
      },
      "source": [
        "Run it."
      ]
    },
    {
      "cell_type": "code",
      "metadata": {
        "id": "eES9GPwVLg4z",
        "colab_type": "code",
        "colab": {
          "base_uri": "https://localhost:8080/",
          "height": 1000
        },
        "outputId": "98c1a2db-c598-4845-8a79-c196c89cca0f"
      },
      "source": [
        "!./bfs_xtraCommandLine_E 2"
      ],
      "execution_count": 14,
      "outputs": [
        {
          "output_type": "stream",
          "text": [
            "Start BFS from vertex 2.\n",
            "Vertex 2 is now on the queue.\n",
            "Queue  status: length 1, vertex at head is 2, vertex at tail is 2\n",
            "Current queue: 2 \n",
            "Take vertex 2 on the queue head and start process (it is deleted from the queue.)\n",
            "  (At Vertex 2) Vertex 0 is not adjacent.\n",
            "  (At Vertex 2) Vertex 1 is not adjacent.\n",
            "  (At Vertex 2) Vertex 2 is not adjacent.\n",
            "  (At Vertex 2) Vertex 3 is adjacent, and not listed, so put it on the tail of the queue.\n",
            "  (At Vertex 2) Vertex 3 is treated as already listed from now.\n",
            "  (At Vertex 2) Vertex 4 is not adjacent.\n",
            "  (At Vertex 2) Vertex 5 is not adjacent.\n",
            "  (At Vertex 2) Vertex 6 is adjacent, and not listed, so put it on the tail of the queue.\n",
            "  (At Vertex 2) Vertex 6 is treated as already listed from now.\n",
            "  (At Vertex 2) Vertex 7 is not adjacent.\n",
            "Queue  status: length 2, vertex at head is 3, vertex at tail is 6\n",
            "Current queue: 3 6 \n",
            "Take vertex 3 on the queue head and start process (it is deleted from the queue.)\n",
            "  (At Vertex 3) Vertex 0 is not adjacent.\n",
            "  (At Vertex 3) Vertex 1 is not adjacent.\n",
            "  (At Vertex 3) Vertex 2 is adjacent, but already listed before.\n",
            "  (At Vertex 3) Vertex 3 is not adjacent.\n",
            "  (At Vertex 3) Vertex 4 is not adjacent.\n",
            "  (At Vertex 3) Vertex 5 is not adjacent.\n",
            "  (At Vertex 3) Vertex 6 is not adjacent.\n",
            "  (At Vertex 3) Vertex 7 is adjacent, and not listed, so put it on the tail of the queue.\n",
            "  (At Vertex 3) Vertex 7 is treated as already listed from now.\n",
            "Queue  status: length 2, vertex at head is 6, vertex at tail is 7\n",
            "Current queue: 6 7 \n",
            "Take vertex 6 on the queue head and start process (it is deleted from the queue.)\n",
            "  (At Vertex 6) Vertex 0 is not adjacent.\n",
            "  (At Vertex 6) Vertex 1 is adjacent, and not listed, so put it on the tail of the queue.\n",
            "  (At Vertex 6) Vertex 1 is treated as already listed from now.\n",
            "  (At Vertex 6) Vertex 2 is adjacent, but already listed before.\n",
            "  (At Vertex 6) Vertex 3 is not adjacent.\n",
            "  (At Vertex 6) Vertex 4 is not adjacent.\n",
            "  (At Vertex 6) Vertex 5 is adjacent, and not listed, so put it on the tail of the queue.\n",
            "  (At Vertex 6) Vertex 5 is treated as already listed from now.\n",
            "  (At Vertex 6) Vertex 6 is not adjacent.\n",
            "  (At Vertex 6) Vertex 7 is adjacent, but already listed before.\n",
            "Queue  status: length 3, vertex at head is 7, vertex at tail is 5\n",
            "Current queue: 7 1 5 \n",
            "Take vertex 7 on the queue head and start process (it is deleted from the queue.)\n",
            "  (At Vertex 7) Vertex 0 is not adjacent.\n",
            "  (At Vertex 7) Vertex 1 is not adjacent.\n",
            "  (At Vertex 7) Vertex 2 is not adjacent.\n",
            "  (At Vertex 7) Vertex 3 is adjacent, but already listed before.\n",
            "  (At Vertex 7) Vertex 4 is not adjacent.\n",
            "  (At Vertex 7) Vertex 5 is not adjacent.\n",
            "  (At Vertex 7) Vertex 6 is adjacent, but already listed before.\n",
            "  (At Vertex 7) Vertex 7 is not adjacent.\n",
            "Queue  status: length 2, vertex at head is 1, vertex at tail is 5\n",
            "Current queue: 1 5 \n",
            "Take vertex 1 on the queue head and start process (it is deleted from the queue.)\n",
            "  (At Vertex 1) Vertex 0 is adjacent, and not listed, so put it on the tail of the queue.\n",
            "  (At Vertex 1) Vertex 0 is treated as already listed from now.\n",
            "  (At Vertex 1) Vertex 1 is not adjacent.\n",
            "  (At Vertex 1) Vertex 2 is not adjacent.\n",
            "  (At Vertex 1) Vertex 3 is not adjacent.\n",
            "  (At Vertex 1) Vertex 4 is not adjacent.\n",
            "  (At Vertex 1) Vertex 5 is not adjacent.\n",
            "  (At Vertex 1) Vertex 6 is adjacent, but already listed before.\n",
            "  (At Vertex 1) Vertex 7 is not adjacent.\n",
            "Queue  status: length 2, vertex at head is 5, vertex at tail is 0\n",
            "Current queue: 5 0 \n",
            "Take vertex 5 on the queue head and start process (it is deleted from the queue.)\n",
            "  (At Vertex 5) Vertex 0 is not adjacent.\n",
            "  (At Vertex 5) Vertex 1 is not adjacent.\n",
            "  (At Vertex 5) Vertex 2 is not adjacent.\n",
            "  (At Vertex 5) Vertex 3 is not adjacent.\n",
            "  (At Vertex 5) Vertex 4 is adjacent, and not listed, so put it on the tail of the queue.\n",
            "  (At Vertex 5) Vertex 4 is treated as already listed from now.\n",
            "  (At Vertex 5) Vertex 5 is not adjacent.\n",
            "  (At Vertex 5) Vertex 6 is adjacent, but already listed before.\n",
            "  (At Vertex 5) Vertex 7 is not adjacent.\n",
            "Queue  status: length 2, vertex at head is 0, vertex at tail is 4\n",
            "Current queue: 0 4 \n",
            "Take vertex 0 on the queue head and start process (it is deleted from the queue.)\n",
            "  (At Vertex 0) Vertex 0 is not adjacent.\n",
            "  (At Vertex 0) Vertex 1 is adjacent, but already listed before.\n",
            "  (At Vertex 0) Vertex 2 is not adjacent.\n",
            "  (At Vertex 0) Vertex 3 is not adjacent.\n",
            "  (At Vertex 0) Vertex 4 is adjacent, but already listed before.\n",
            "  (At Vertex 0) Vertex 5 is not adjacent.\n",
            "  (At Vertex 0) Vertex 6 is not adjacent.\n",
            "  (At Vertex 0) Vertex 7 is not adjacent.\n",
            "Queue  status: length 1, vertex at head is 4, vertex at tail is 4\n",
            "Current queue: 4 \n",
            "Take vertex 4 on the queue head and start process (it is deleted from the queue.)\n",
            "  (At Vertex 4) Vertex 0 is adjacent, but already listed before.\n",
            "  (At Vertex 4) Vertex 1 is not adjacent.\n",
            "  (At Vertex 4) Vertex 2 is not adjacent.\n",
            "  (At Vertex 4) Vertex 3 is not adjacent.\n",
            "  (At Vertex 4) Vertex 4 is not adjacent.\n",
            "  (At Vertex 4) Vertex 5 is adjacent, but already listed before.\n",
            "  (At Vertex 4) Vertex 6 is not adjacent.\n",
            "  (At Vertex 4) Vertex 7 is not adjacent.\n",
            "No vertices left in the queue. Quiting.\n",
            "Result of List up result by BFS.\n",
            "2 3 6 7 1 5 0 4 \n"
          ],
          "name": "stdout"
        }
      ]
    },
    {
      "cell_type": "markdown",
      "metadata": {
        "id": "lZXa6FVXIzoI",
        "colab_type": "text"
      },
      "source": [
        "# Implementation by function call\n",
        "\n",
        "**Purpose**\n",
        "\n",
        "enqueue and dequeue by user defined functions.\n",
        "\n",
        "**Explanation**\n",
        "\n",
        "Write user defined functions in a different source file.  \n",
        "It could be treated as an external library in the future.．\n",
        "\n",
        "**Program**\n",
        "\n",
        "Original source file is splitted into three parts.\n",
        "* a header file of queue operation\n",
        "* source file of user defined functions\n",
        "* application source file of BFS\n",
        "\n",
        "**Remarks**\n",
        "\n",
        "Separate compilation method is applied."
      ]
    },
    {
      "cell_type": "code",
      "metadata": {
        "id": "5jU5gpnlYoAy",
        "colab_type": "code",
        "colab": {
          "base_uri": "https://localhost:8080/",
          "height": 34
        },
        "outputId": "92854f1c-46a6-4826-b075-ac5ab5aedc8b"
      },
      "source": [
        "%%writefile QueueLib_E.h\n",
        "// Queue management\n",
        "// 2020/05 kameda[at]ccs.tsukuba.ac.jp\n",
        "\n",
        "// Initialization of queue\n",
        "int *initqueue(int );\n",
        "\n",
        "// Add to the queue\n",
        "int enqueue(int );\n",
        "\n",
        "// Delete from the queue\n",
        "int dequeue(void);\n",
        "\n",
        "// Show the status of the queue\n",
        "int showqueue(void);\n",
        "\n",
        "// Show the whole status of the queue\n",
        "int showallqueue(void);\n"
      ],
      "execution_count": 5,
      "outputs": [
        {
          "output_type": "stream",
          "text": [
            "Overwriting QueueLib_E.h\n"
          ],
          "name": "stdout"
        }
      ]
    },
    {
      "cell_type": "code",
      "metadata": {
        "id": "Iotxsvy8MktG",
        "colab_type": "code",
        "colab": {
          "base_uri": "https://localhost:8080/",
          "height": 34
        },
        "outputId": "a34484ff-53ef-46c5-ab77-14189abf006d"
      },
      "source": [
        "%%writefile QueueLib_E.c\n",
        "// Queue management\n",
        "// 2020/05 kameda[at]ccs.tsukuba.ac.jp\n",
        "#include <stdio.h> // printf()\n",
        "#include <stdlib.h> // calloc()\n",
        "#include \"QueueLib_E.h\" // Prototype check\n",
        "\n",
        "int *queue = NULL; // Queue mainbody (needs initialization)\n",
        "int qsize = 0; // Queue size\n",
        "int qhead = 0; // Queue head position in queue[]\n",
        "int qtail = 0; // Queue tail position in queue[]\n",
        "\n",
        "// Initialization of queue\n",
        "int *initqueue(int n) {\n",
        "    queue = calloc(n, sizeof(*queue));\n",
        "    qsize = n;\n",
        "    if (queue == NULL) {\n",
        "        printf(\"[Error] Cannot obtain queue memory for %d elements.\\n\", n);\n",
        "        qsize = 0;\n",
        "    }\n",
        "    return queue;\n",
        "}\n",
        "\n",
        "// Add to the queue\n",
        "int enqueue(int v) {\n",
        "    if (queue == NULL) {\n",
        "        printf(\"[Error] Queue is not ready.\\n\");\n",
        "        return -1;\n",
        "    } else if (qtail >= qsize) {\n",
        "        printf(\"[Error] Running out of queue memory. Currently %d elements.\\n\", qsize);\n",
        "        return -2;\n",
        "    }\n",
        "    queue[qtail] = v;\n",
        "    qtail++;\n",
        "    return 0;\n",
        "}\n",
        "\n",
        "// Delete from the queue\n",
        "int dequeue(void) {\n",
        "    int v;\n",
        "    if (queue == NULL) {\n",
        "        printf(\"[Error] Queue is not ready.\\n\");\n",
        "        return -1;\n",
        "    } else if (qhead >= qtail) {\n",
        "        printf(\"[Report] Ne elements in the queue.\\n\");\n",
        "        return -2;\n",
        "    }\n",
        "    v = queue[qhead];\n",
        "    qhead++;\n",
        "    return v;\n",
        "}\n",
        "\n",
        "// Show the status of the queue\n",
        "int showqueue(void) {\n",
        "    int i;\n",
        "\n",
        "    if (queue == NULL) {\n",
        "        printf(\"[Error] Queue is not ready.\\n\");\n",
        "        return -1;\n",
        "    }\n",
        "\n",
        "    printf(\"qsize = %d, qhead = %d, qtail = %d\\n\", qsize, qhead, qtail);\n",
        "    for (i = qhead; i < qtail; i++) {\n",
        "        printf(\"%d \", queue[i]);\n",
        "    }\n",
        "    printf(\"\\n\");\n",
        "\n",
        "    return qtail - qhead;\n",
        "}\n",
        "\n",
        "// Show the whole status of the queue\n",
        "int showallqueue(void) {\n",
        "    int i;\n",
        "\n",
        "    if (queue == NULL) {\n",
        "        printf(\"[Error] Queue is not ready.\\n\");\n",
        "        return -1;\n",
        "    }\n",
        "\n",
        "    printf(\"qsize = %d, qhead = %d, qtail = %d\\n\", qsize, qhead, qtail);\n",
        "    for (i = 0; i < qsize; i++) {\n",
        "        printf(\"%d \", queue[i]);\n",
        "    }\n",
        "    printf(\"\\n\");\n",
        "\n",
        "    return qsize;\n",
        "}\n",
        "\n"
      ],
      "execution_count": 6,
      "outputs": [
        {
          "output_type": "stream",
          "text": [
            "Overwriting QueueLib_E.c\n"
          ],
          "name": "stdout"
        }
      ]
    },
    {
      "cell_type": "markdown",
      "metadata": {
        "id": "ih41_eQXePu8",
        "colab_type": "text"
      },
      "source": [
        "Compile only the source file of user defined functions.\n",
        "This is equivalent to create a new (user degined) library."
      ]
    },
    {
      "cell_type": "code",
      "metadata": {
        "id": "OpW_zclrVXLi",
        "colab_type": "code",
        "colab": {}
      },
      "source": [
        "!gcc -Wall -c QueueLib_E.c"
      ],
      "execution_count": 7,
      "outputs": []
    },
    {
      "cell_type": "markdown",
      "metadata": {
        "id": "m9m4DOyLe5bz",
        "colab_type": "text"
      },
      "source": [
        "キュー関係の関数は外部のを用いるので，それに合わせて書き直す．   \n",
        "\"QueueLib_J.h\"の内容のみ参照して書き直せればよい．   \n",
        "（この辺りの内容はプログラミング序論Dで学習済み）  \n",
        "\n",
        "外部関数等を使いながらmain()関数などを書く場合，ユーザプログラムと呼ぶことがある．  "
      ]
    },
    {
      "cell_type": "code",
      "metadata": {
        "id": "QrR5OCVkNG2o",
        "colab_type": "code",
        "colab": {
          "base_uri": "https://localhost:8080/",
          "height": 34
        },
        "outputId": "3ae3c017-d432-415d-891f-aa9cd197828c"
      },
      "source": [
        "%%writefile bfs_xtraFuncCalls_E.c\n",
        "// Breadth First Search.\n",
        "// 2020/05 kameda[at]ccs.tsukuba.ac.jp\n",
        "// -- Extra --\n",
        "//    Accept command line option\n",
        "//    Call functions for enqueue and dequeue\n",
        "#include <stdio.h> // printf()\n",
        "#include <stdlib.h> // atoi()\n",
        "#include \"QueueLib_J.h\"\n",
        "#include \"graph3.h\"\n",
        "\n",
        "// BFS main body\n",
        "void bfs(int StartingRoom){\n",
        "    int listed[N]; // 0 not yet, 1 queued\n",
        "    \n",
        "    int CurrentRoom;\n",
        "    int RoomToCheck;\n",
        "\n",
        "\tfor (RoomToCheck = 0; RoomToCheck < N; RoomToCheck++)\n",
        "\t\tlisted[RoomToCheck] = 0;\n",
        "\n",
        "    // Initialization of queue\n",
        "    initqueue(N);\n",
        "\t\n",
        "\tprintf(\"Start BFS at Vertex %d.\\n\", StartingRoom);\n",
        "    // Enqueue StartingRoom\n",
        "    enqueue(StartingRoom);\n",
        "\n",
        "    // Once enqueued, it is recognized as being listed.\n",
        "    printf(\"Vertex %d is treated as already listed from now.\\n\", RoomToCheck);\n",
        "    listed[StartingRoom] = 1;\n",
        "\n",
        "    // Show the status of the queue\n",
        "    // the timing to show the status has been moved to this position so as to show the status just before enqueue that is done in while() eveluation\n",
        "    showqueue();\n",
        "\n",
        "    // Keep working if the vertices are in the queue\n",
        "\twhile ((CurrentRoom = dequeue()) >= 0) {\n",
        "        // Invesitgate the vertex (taken from the head of the queue, removing it from the queue)\n",
        "\t\tprintf(\"Take vertex %d on the queue head and start process (it is deleted from the queue.)\\n\", CurrentRoom);\n",
        "        \n",
        "        // Some extra process may be placed here\n",
        "\n",
        "        // Choose next\n",
        "\t\tfor (RoomToCheck = 0; RoomToCheck < N; RoomToCheck++) {\n",
        "            if (edge[CurrentRoom][RoomToCheck] == 0) {\n",
        "\t\t\t\tprintf(\"  (At Vertex %d) Vertex %d is not adjacent.\\n\", CurrentRoom, RoomToCheck);\n",
        "            } else if (listed[RoomToCheck] != 0) {\n",
        "\t\t\t\tprintf(\"  (At Vertex %d) Vertex %d is adjacent, but already listed before.\\n\", CurrentRoom, RoomToCheck);\n",
        "            } else {         \n",
        "\t\t\t\tprintf(\"  (At Vertex %d) Vertex %d is adjacent, and not listed, so put it on the tail of the queue.\\n\", CurrentRoom, RoomToCheck);\n",
        "                // Enqueue RoomToCheck\n",
        "\t\t\t\tenqueue(RoomToCheck);\n",
        "                \n",
        "                // Once enqueued, it is recognized as being listed.\n",
        "                printf(\"  (At Vertex %d) Vertex %d is treated as already listed from now.\\n\", CurrentRoom, RoomToCheck);\n",
        "\t\t\t\tlisted[RoomToCheck] = 1;\n",
        "\t\t\t}\n",
        "\t\t}\n",
        "        // Show the status of the queue\n",
        "        // the timing to show the status has been moved to this position so as to show the status just before enqueue that is done in while() eveluation\n",
        "        showqueue();\n",
        "\t}\n",
        "\tprintf(\"No vertices left in the queue. Quiting.\\n\");\n",
        "\n",
        "\tprintf(\"Result of List up by BFS.\\n\");\n",
        "    showallqueue();\n",
        "\n",
        "\treturn;\n",
        "}\n",
        "\n",
        "// Main function\n",
        "int main(int argc, char *argv[]){\n",
        "    int startnode = 0;\n",
        "    if (argc == 1) {\n",
        "        printf(\"Start vertex not specified, so set No.0 as start.\\n\");\n",
        "        startnode = 0;\n",
        "    } else if (argc == 2) {\n",
        "        startnode = atoi(argv[1]);\n",
        "        if (startnode < 0 || startnode >= N) {\n",
        "            printf(\"Illegal ID specified, so quit.\\n\");\n",
        "            return -1;\n",
        "        }\n",
        "    }\n",
        "\n",
        "\tbfs(startnode);  // Call bfs() with the starting vertex ID \n",
        "\treturn 0;\n",
        "}"
      ],
      "execution_count": 11,
      "outputs": [
        {
          "output_type": "stream",
          "text": [
            "Overwriting bfs_xtraFuncCalls_E.c\n"
          ],
          "name": "stdout"
        }
      ]
    },
    {
      "cell_type": "markdown",
      "metadata": {
        "id": "RIzCCG_HefwJ",
        "colab_type": "text"
      },
      "source": [
        "ユーザプログラムのコンパイル（のみ）．"
      ]
    },
    {
      "cell_type": "code",
      "metadata": {
        "id": "4FjvSOZuZhy4",
        "colab_type": "code",
        "colab": {}
      },
      "source": [
        "!gcc -Wall -c bfs_xtraFuncCalls_E.c"
      ],
      "execution_count": 12,
      "outputs": []
    },
    {
      "cell_type": "markdown",
      "metadata": {
        "id": "el5mxVABeoT4",
        "colab_type": "text"
      },
      "source": [
        "リンカを実行して，実行ファイルを作成．"
      ]
    },
    {
      "cell_type": "code",
      "metadata": {
        "id": "mzRyl1IDZyrF",
        "colab_type": "code",
        "colab": {}
      },
      "source": [
        "!gcc -o bfs_xtraFuncCalls_E bfs_xtraFuncCalls_E.o QueueLib_E.o"
      ],
      "execution_count": 14,
      "outputs": []
    },
    {
      "cell_type": "markdown",
      "metadata": {
        "id": "KUi66tQ9ezAc",
        "colab_type": "text"
      },
      "source": [
        "実行．"
      ]
    },
    {
      "cell_type": "code",
      "metadata": {
        "id": "cnqUOVDEaAvA",
        "colab_type": "code",
        "colab": {
          "base_uri": "https://localhost:8080/",
          "height": 1000
        },
        "outputId": "86687303-188a-42a5-e2b5-979ac5ca3fbf"
      },
      "source": [
        "!./bfs_xtraFuncCalls_E 0"
      ],
      "execution_count": 15,
      "outputs": [
        {
          "output_type": "stream",
          "text": [
            "Start BFS at Vertex 0.\n",
            "Vertex 8 is treated as already listed from now.\n",
            "qsize = 8, qhead = 0, qtail = 1\n",
            "0 \n",
            "Take vertex 0 on the queue head and start process (it is deleted from the queue.)\n",
            "  (At Vertex 0) Vertex 0 is not adjacent.\n",
            "  (At Vertex 0) Vertex 1 is adjacent, and not listed, so put it on the tail of the queue.\n",
            "  (At Vertex 0) Vertex 1 is treated as already listed from now.\n",
            "  (At Vertex 0) Vertex 2 is not adjacent.\n",
            "  (At Vertex 0) Vertex 3 is not adjacent.\n",
            "  (At Vertex 0) Vertex 4 is adjacent, and not listed, so put it on the tail of the queue.\n",
            "  (At Vertex 0) Vertex 4 is treated as already listed from now.\n",
            "  (At Vertex 0) Vertex 5 is not adjacent.\n",
            "  (At Vertex 0) Vertex 6 is not adjacent.\n",
            "  (At Vertex 0) Vertex 7 is not adjacent.\n",
            "qsize = 8, qhead = 1, qtail = 3\n",
            "1 4 \n",
            "Take vertex 1 on the queue head and start process (it is deleted from the queue.)\n",
            "  (At Vertex 1) Vertex 0 is adjacent, but already listed before.\n",
            "  (At Vertex 1) Vertex 1 is not adjacent.\n",
            "  (At Vertex 1) Vertex 2 is not adjacent.\n",
            "  (At Vertex 1) Vertex 3 is not adjacent.\n",
            "  (At Vertex 1) Vertex 4 is not adjacent.\n",
            "  (At Vertex 1) Vertex 5 is not adjacent.\n",
            "  (At Vertex 1) Vertex 6 is adjacent, and not listed, so put it on the tail of the queue.\n",
            "  (At Vertex 1) Vertex 6 is treated as already listed from now.\n",
            "  (At Vertex 1) Vertex 7 is not adjacent.\n",
            "qsize = 8, qhead = 2, qtail = 4\n",
            "4 6 \n",
            "Take vertex 4 on the queue head and start process (it is deleted from the queue.)\n",
            "  (At Vertex 4) Vertex 0 is adjacent, but already listed before.\n",
            "  (At Vertex 4) Vertex 1 is not adjacent.\n",
            "  (At Vertex 4) Vertex 2 is not adjacent.\n",
            "  (At Vertex 4) Vertex 3 is not adjacent.\n",
            "  (At Vertex 4) Vertex 4 is not adjacent.\n",
            "  (At Vertex 4) Vertex 5 is adjacent, and not listed, so put it on the tail of the queue.\n",
            "  (At Vertex 4) Vertex 5 is treated as already listed from now.\n",
            "  (At Vertex 4) Vertex 6 is not adjacent.\n",
            "  (At Vertex 4) Vertex 7 is not adjacent.\n",
            "qsize = 8, qhead = 3, qtail = 5\n",
            "6 5 \n",
            "Take vertex 6 on the queue head and start process (it is deleted from the queue.)\n",
            "  (At Vertex 6) Vertex 0 is not adjacent.\n",
            "  (At Vertex 6) Vertex 1 is adjacent, but already listed before.\n",
            "  (At Vertex 6) Vertex 2 is adjacent, and not listed, so put it on the tail of the queue.\n",
            "  (At Vertex 6) Vertex 2 is treated as already listed from now.\n",
            "  (At Vertex 6) Vertex 3 is not adjacent.\n",
            "  (At Vertex 6) Vertex 4 is not adjacent.\n",
            "  (At Vertex 6) Vertex 5 is adjacent, but already listed before.\n",
            "  (At Vertex 6) Vertex 6 is not adjacent.\n",
            "  (At Vertex 6) Vertex 7 is adjacent, and not listed, so put it on the tail of the queue.\n",
            "  (At Vertex 6) Vertex 7 is treated as already listed from now.\n",
            "qsize = 8, qhead = 4, qtail = 7\n",
            "5 2 7 \n",
            "Take vertex 5 on the queue head and start process (it is deleted from the queue.)\n",
            "  (At Vertex 5) Vertex 0 is not adjacent.\n",
            "  (At Vertex 5) Vertex 1 is not adjacent.\n",
            "  (At Vertex 5) Vertex 2 is not adjacent.\n",
            "  (At Vertex 5) Vertex 3 is not adjacent.\n",
            "  (At Vertex 5) Vertex 4 is adjacent, but already listed before.\n",
            "  (At Vertex 5) Vertex 5 is not adjacent.\n",
            "  (At Vertex 5) Vertex 6 is adjacent, but already listed before.\n",
            "  (At Vertex 5) Vertex 7 is not adjacent.\n",
            "qsize = 8, qhead = 5, qtail = 7\n",
            "2 7 \n",
            "Take vertex 2 on the queue head and start process (it is deleted from the queue.)\n",
            "  (At Vertex 2) Vertex 0 is not adjacent.\n",
            "  (At Vertex 2) Vertex 1 is not adjacent.\n",
            "  (At Vertex 2) Vertex 2 is not adjacent.\n",
            "  (At Vertex 2) Vertex 3 is adjacent, and not listed, so put it on the tail of the queue.\n",
            "  (At Vertex 2) Vertex 3 is treated as already listed from now.\n",
            "  (At Vertex 2) Vertex 4 is not adjacent.\n",
            "  (At Vertex 2) Vertex 5 is not adjacent.\n",
            "  (At Vertex 2) Vertex 6 is adjacent, but already listed before.\n",
            "  (At Vertex 2) Vertex 7 is not adjacent.\n",
            "qsize = 8, qhead = 6, qtail = 8\n",
            "7 3 \n",
            "Take vertex 7 on the queue head and start process (it is deleted from the queue.)\n",
            "  (At Vertex 7) Vertex 0 is not adjacent.\n",
            "  (At Vertex 7) Vertex 1 is not adjacent.\n",
            "  (At Vertex 7) Vertex 2 is not adjacent.\n",
            "  (At Vertex 7) Vertex 3 is adjacent, but already listed before.\n",
            "  (At Vertex 7) Vertex 4 is not adjacent.\n",
            "  (At Vertex 7) Vertex 5 is not adjacent.\n",
            "  (At Vertex 7) Vertex 6 is adjacent, but already listed before.\n",
            "  (At Vertex 7) Vertex 7 is not adjacent.\n",
            "qsize = 8, qhead = 7, qtail = 8\n",
            "3 \n",
            "Take vertex 3 on the queue head and start process (it is deleted from the queue.)\n",
            "  (At Vertex 3) Vertex 0 is not adjacent.\n",
            "  (At Vertex 3) Vertex 1 is not adjacent.\n",
            "  (At Vertex 3) Vertex 2 is adjacent, but already listed before.\n",
            "  (At Vertex 3) Vertex 3 is not adjacent.\n",
            "  (At Vertex 3) Vertex 4 is not adjacent.\n",
            "  (At Vertex 3) Vertex 5 is not adjacent.\n",
            "  (At Vertex 3) Vertex 6 is not adjacent.\n",
            "  (At Vertex 3) Vertex 7 is adjacent, but already listed before.\n",
            "qsize = 8, qhead = 8, qtail = 8\n",
            "\n",
            "[Report] Ne elements in the queue.\n",
            "No vertices left in the queue. Quiting.\n",
            "Result of List up by BFS.\n",
            "qsize = 8, qhead = 8, qtail = 8\n",
            "0 1 4 6 5 2 7 3 \n"
          ],
          "name": "stdout"
        }
      ]
    },
    {
      "cell_type": "markdown",
      "metadata": {
        "id": "zWc0IUeckVCy",
        "colab_type": "text"
      },
      "source": [
        "# Problems\n",
        "\n",
        "1. Description of the algorithm   \n",
        "Describe the breadth-first search algorithm using queues in Human’s language.   \n",
        "The description must follow be the explanation in  this lecture.    \n",
        "The diagram of the queue should be inserted. \n",
        "\n",
        "2. Algorithm integrity   \n",
        "As long as a given graph is undirected and connected, the breadth-first search algorithm shown in this section should always enumerate all vertices successfully. Try to proof that  this is true. \n",
        "\n",
        "3. Computation amount   \n",
        "Discuss the computation amount of time and space of the program in bfs_xtraCommandLine_E.c. \n",
        "\n",
        "4. Memory size queue[]   \n",
        "No matter what undirected and connected graph is specified, show that the memory size required for queue[] does not exceed the number of vertices. \n",
        "\n",
        "5. Longest queue   \n",
        "Find out the shape of a graph that gives the longest queue tentatively on processing the graph. (In the program, the queue length is qtail – qhead + 1.) \n",
        "\n",
        "6. Show distance from the starting vertex   \n",
        "Modifiy the program (bfs_xtraCommandLine_E.c) to show the distance of each vertex from the starting vertex in numbers on showing the result of the list up. The distance is indicated by the number of edges from the starting vertex.   \n",
        "(e.g.) BFS result: 0(0) 1(1) 4(1) 6(2) 5(2) 2(3) 7(3) 3(4) \n",
        "\n",
        "7. About the atoi() function   \n",
        "(a) Describe what happens if you pass a string that cannot be interpreted as an integer to the atoi() function.  \n",
        "(b) Show what actually happens if you pass a string that cannot be interpreted as an integer to the atoi() function.  \n",
        "\n",
        "8. About strtol() functions   \n",
        "(a) Describe how the strtol() function traps errors.  \n",
        "(b) Write a simple program that traps error with strtol() function.   \n",
        "(Tip: Stortol() function uses errno to handle errors.) \n",
        "\n",
        "9. Moving queue   \n",
        "Modify the program (bfs_xtraCommandLine_E.c) that move the elements of queue[] forward when dequeueing a vertex from queue[]. (In other words, make sure that queue[0] is always at the head position of the queue like people do at supermarket.) \n",
        "\n",
        "10. Specifying a graph   \n",
        "Instead of including \"graph3.h\", let the program (bfs_xtraCommandLine_E.c) accept a text file describing the adjacent matrix of the graph. The text filename should be given by a command line option.  \n",
        "\n",
        "\n",
        "\n"
      ]
    },
    {
      "cell_type": "markdown",
      "metadata": {
        "id": "b9NHWToN2T3E",
        "colab_type": "text"
      },
      "source": [
        "#**Course Info**\n",
        "\n",
        "https://github.com/kameda-yoshinari/DataAlgo-T  \n",
        "Course: Data structure and algorithm  \n",
        "Department of Engineering Systems, University of Tsukuba,Japan.  \n",
        "Author: KAMEDA, Yoshinari  \n",
        "2020.05.19. -  "
      ]
    }
  ]
}