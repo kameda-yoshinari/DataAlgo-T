{
  "nbformat": 4,
  "nbformat_minor": 0,
  "metadata": {
    "colab": {
      "name": "DataAlgo2020-T(012) EightQueens",
      "provenance": [],
      "collapsed_sections": [],
      "authorship_tag": "ABX9TyP37dg7Vqr06+feiouPjEWu",
      "include_colab_link": true
    },
    "kernelspec": {
      "name": "python3",
      "display_name": "Python 3"
    }
  },
  "cells": [
    {
      "cell_type": "markdown",
      "metadata": {
        "id": "view-in-github",
        "colab_type": "text"
      },
      "source": [
        "<a href=\"https://colab.research.google.com/github/kameda-yoshinari/DataAlgo-T/blob/master/DataAlgo2020_T(012)_EightQueens.ipynb\" target=\"_parent\"><img src=\"https://colab.research.google.com/assets/colab-badge.svg\" alt=\"Open In Colab\"/></a>"
      ]
    },
    {
      "cell_type": "markdown",
      "metadata": {
        "id": "yRmydXneMgT8",
        "colab_type": "text"
      },
      "source": [
        "# 6.2.2. Eight Queens\n",
        "\n",
        "Let's visit famous eight queens problem as an typical example of backtracking.\n",
        "\n",
        "**Reminder**  \n",
        "On github, rendering might not be in good shape.  \n",
        "To see the expected layout, open this page in Google Colaboratory.\n",
        "To run one specific code cell in colab, click the icon on the left part or just type Ctrl + Enter.  \n"
      ]
    },
    {
      "cell_type": "markdown",
      "metadata": {
        "id": "CdQdV_MJIlce",
        "colab_type": "text"
      },
      "source": [
        "# Preparation\n",
        "\n",
        "Connect the Jupyter environment and invoke a runtime. \n",
        "Mount your Google Drive by the procedure below.  \n",
        "Change directory to the mounted point and make it as the working folder.  \n",
        "By then, files are preserved even after you terminate the runtime environment."
      ]
    },
    {
      "cell_type": "code",
      "metadata": {
        "id": "DMtqXRXJIPMR",
        "colab_type": "code",
        "colab": {}
      },
      "source": [
        "!echo \"Mounting your Google Drive\"\n",
        "from google.colab import drive \n",
        "drive.mount('/content/drive')"
      ],
      "execution_count": null,
      "outputs": []
    },
    {
      "cell_type": "code",
      "metadata": {
        "id": "SABzmuELIaj2",
        "colab_type": "code",
        "colab": {}
      },
      "source": [
        "!echo \"Make a working folder and chnage directory to it\"\n",
        "%cd /content/drive/My\\ Drive\n",
        "%mkdir -p DataAlgo-T/012\n",
        "%cd       DataAlgo-T/012\n",
        "!ls"
      ],
      "execution_count": null,
      "outputs": []
    },
    {
      "cell_type": "markdown",
      "metadata": {
        "id": "4s3BWazcz1FB",
        "colab_type": "text"
      },
      "source": [
        "# Eight queens\n",
        "\n",
        "**Problem definition**\n",
        "\n",
        "Queen of chess game can move back/forth /left/right to arbitrary distance.\n",
        "\n",
        "The eight queens problem can be defined to investigate it is possible \n",
        "\n",
        "1. in a given board (normlly 8 by 8)\n",
        "2. to place eight queens\n",
        "3. so as not to take each other by their one move\n",
        "\n",
        "The problem could be extented to N-Queens problem where the N is the size of the square board.\n",
        "\n"
      ]
    },
    {
      "cell_type": "markdown",
      "metadata": {
        "id": "dd-hVe7gXiCk",
        "colab_type": "text"
      },
      "source": [
        "# Brute-force search for eight queens\n",
        "\n",
        "Consider the only the condition 1 and  condition 2. \n",
        "A solution candidate could be made by just pick up eight cells among the 64 cells. Since the queens are same, the number of the candidates is <sub>64</sub>C<sub>8</sub>.\n",
        "\n",
        "<sub>64</sub>C<sub>8</sub> = (64 x ... x 57) / (8 x ... x 1) = 4,426,165,368\n",
        "\n",
        "For each candidate, verify it by checking the the condition 3."
      ]
    },
    {
      "cell_type": "markdown",
      "metadata": {
        "id": "5QkNub1bXi1l",
        "colab_type": "text"
      },
      "source": [
        "# Backtracking search for eight queens\n",
        "\n",
        "\n",
        "On putting the queens, if queens start being taken each other, stop making candidates and going back the procedure. \n",
        "\n",
        "Queens can move for four directions. We split their motions into vertical motion and three others.\n",
        "\n",
        "In order to avoid taking each other, one queen is placed at a y=const (vertical) line. Since there are 8 vertical lines, and there are 8 cells at each line, the number of candidtes is 8<sup>8</sup>=16,777,216 now.\n",
        "\n",
        "Then, placements are fixed from the left to the right. On puting the next queen at next vertical line, it should be placed only when we can find a place to safely surviving. If there is no places to put, backtracking should happen then.\n",
        "\n"
      ]
    },
    {
      "cell_type": "markdown",
      "metadata": {
        "id": "Zy3sSTwQ7Nn9",
        "colab_type": "text"
      },
      "source": [
        "# C program of the backtracking search\n",
        "\n",
        "**Purpose**\n",
        "\n",
        "Write the program to solve N-queens problem by backtracking method.\n",
        "\n",
        "**Explanation**\n",
        "\n",
        "Queens are place from left to right of the board (yellows in the diagram below).  \n",
        "On placing the next queen (red), there are 8 choices. To avoid being taken, YY (horizontal), RD (right-down), LD(left-down) check arrays are used.\n",
        "\n",
        "On the backtracking, line 41 and line 42 (writing back) corresponds to the line 38 and line 39. (line 42 is empty becaue line 39 is just for reporting the result.)\n",
        "\n",
        "**Program**\n",
        "\n",
        "For arrya RD and LD, they need 2N-1 elements to mark.\n",
        "\n",
        "**Remarks**\n",
        "\n",
        "Note that the program structure using recursive call is same as the Knight's tour.\n",
        "\n"
      ]
    },
    {
      "cell_type": "markdown",
      "metadata": {
        "id": "ryPIcpYcAO1z",
        "colab_type": "text"
      },
      "source": [
        "![eightqeens](https://user-images.githubusercontent.com/45651568/90338504-0fb2a880-e025-11ea-81b0-0a96c52e8b77.png)\n"
      ]
    },
    {
      "cell_type": "code",
      "metadata": {
        "id": "Eo2CM8EqZi97",
        "colab_type": "code",
        "colab": {}
      },
      "source": [
        "%%writefile NQueens_E.c\n",
        "// N Queens, back track version\n",
        "//    kameda[ccs]tsukuba.ac.jp, 2020.\n",
        "#include <stdio.h>\n",
        "\n",
        "int n_answer = 0;\n",
        "\n",
        "#define N 8\n",
        "int rd[2*N-1]; // right-down direction checker\n",
        "int ld[2*N-1]; // left-down  direction checker\n",
        "int yy[N];     // Y-line checker\n",
        "int board[N]; // if a queen is at (X,Y), board[X]=Y\n",
        "\n",
        "// Counting the number of answers and display its layout\n",
        "void print_board(void){\n",
        "\tint x, y;\n",
        "\tprintf(\"Answer No. %d ==========\\n\", n_answer++);\n",
        "\tfor (y = 0; y < N; y++) {\n",
        "\t\tfor (x = 0; x < N; x++) \n",
        "\t\t\tprintf(\"%c\", board[y]==x ? 'Q' : '.');\n",
        "\t\tprintf(\"\\n\");\n",
        "\t}\n",
        "}\n",
        "\n",
        "// N queens are examined from X = 0 to N-1), now try to place a queen on X=x\n",
        "void placeaqueen(int x){\n",
        "\tint y;\n",
        "\n",
        "\t// Rearch to an answer\n",
        "\tif (x == N) {\n",
        "\t\tprint_board();\n",
        "\t\treturn;\n",
        "\t}\n",
        "\n",
        "\t// check all y's at X=x\n",
        "\tfor (y = 0; y < N; y++) {\n",
        "\t\tif (yy[y] == 0 && rd[x+y] == 0 && ld[x-y+N-1] == 0) {\n",
        "\t\t\tyy[y] =  1 ;  rd[x+y] =  1 ;  ld[x-y+N-1] =  1; // Mark / yy, rd, ld\n",
        "\t\t\tboard[x] = y;                                   // Mark / board\n",
        "\t\t\tplaceaqueen(x+1);\n",
        "\t\t\tyy[y] =  0 ;  rd[x+y] =  0 ;  ld[x-y+N-1] =  0; // Unmark / yy, rd, ld\n",
        "\t\t\t                                                // Unmark / board (actually nothing to do)\n",
        "\t\t}\n",
        "\t}\n",
        "}\n",
        "\n",
        "// Main function\n",
        "int main(int argc, char *argv[]){\n",
        "\tint x, d;\n",
        "\n",
        "\t// No queens there at the begining\n",
        "\tfor (x = 0; x < N; x++) {\n",
        "\t\tyy[x] = 0;\n",
        "\t}\n",
        "\tfor (d = 0; d < 2*N-1; d++) {\n",
        "\t\trd[d] = 0; \n",
        "\t\tld[d] = 0; \n",
        "\t}\n",
        "\n",
        "\tplaceaqueen(0); // Starting with X = 0\n",
        "\n",
        "\treturn 0;\n",
        "}\n"
      ],
      "execution_count": null,
      "outputs": []
    },
    {
      "cell_type": "markdown",
      "metadata": {
        "id": "zhechXUNbvva",
        "colab_type": "text"
      },
      "source": [
        "Compile it and check no errors."
      ]
    },
    {
      "cell_type": "code",
      "metadata": {
        "id": "UcFL-3AR8XSu",
        "colab_type": "code",
        "colab": {}
      },
      "source": [
        "!gcc -Wall -o NQueens_E NQueens_E.c"
      ],
      "execution_count": null,
      "outputs": []
    },
    {
      "cell_type": "markdown",
      "metadata": {
        "id": "CxBI4UbEcB9L",
        "colab_type": "text"
      },
      "source": [
        "Run it."
      ]
    },
    {
      "cell_type": "code",
      "metadata": {
        "id": "O3zzVD4tcA3h",
        "colab_type": "code",
        "colab": {}
      },
      "source": [
        "!time ./NQueens_E"
      ],
      "execution_count": null,
      "outputs": []
    },
    {
      "cell_type": "markdown",
      "metadata": {
        "id": "DY_MbwoPf_9h",
        "colab_type": "text"
      },
      "source": [
        "# Problems\n",
        "\n",
        "1. Computation amount\n",
        "Discuss the computation amount of time and space of NQueens_E.c program. Take the number of queens as input N.\n",
        "\n",
        "2. Hit check for three directions  \n",
        "Explain how to avoid being taken each other in NQueens_E.c program. Especially, describe the indices of yy[], rd[], ld[] in detail.\n",
        "\n",
        "\n",
        "\n",
        "\n",
        "\n",
        "\n"
      ]
    },
    {
      "cell_type": "markdown",
      "metadata": {
        "id": "cZ-1SycnqxVa",
        "colab_type": "text"
      },
      "source": [
        "#**Course Info**\n",
        "\n",
        "https://github.com/kameda-yoshinari/DataAlgo-T  \n",
        "Course: Data structure and algorithm  \n",
        "Department of Engineering Systems, University of Tsukuba,Japan.  \n",
        "Author: KAMEDA, Yoshinari  \n",
        "2020.05.19. - "
      ]
    }
  ]
}