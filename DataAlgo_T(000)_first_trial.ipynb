{
  "nbformat": 4,
  "nbformat_minor": 0,
  "metadata": {
    "colab": {
      "name": "DataAlgo-T(000) first trial",
      "provenance": [],
      "authorship_tag": "ABX9TyMB9fmj7HTuMk4dpaokKkCf",
      "include_colab_link": true
    },
    "kernelspec": {
      "name": "python3",
      "display_name": "Python 3"
    }
  },
  "cells": [
    {
      "cell_type": "markdown",
      "metadata": {
        "id": "view-in-github",
        "colab_type": "text"
      },
      "source": [
        "<a href=\"https://colab.research.google.com/github/kameda-yoshinari/DataAlgo-T/blob/master/DataAlgo_T(000)_first_trial.ipynb\" target=\"_parent\"><img src=\"https://colab.research.google.com/assets/colab-badge.svg\" alt=\"Open In Colab\"/></a>"
      ]
    },
    {
      "cell_type": "markdown",
      "metadata": {
        "id": "i2vKNOZ1ecz8",
        "colab_type": "text"
      },
      "source": [
        "# Google Colaboratory at github\n",
        "\n",
        "This is the very simple page to make a first practice.  \n",
        "Before getting started, we assume you have already done the tutorial of google colaboratory.  \n",
        "https://colab.research.google.com/notebooks/welcome.ipynb?hl=en"
      ]
    },
    {
      "cell_type": "markdown",
      "metadata": {
        "id": "pNb8UTvw7tyK",
        "colab_type": "text"
      },
      "source": [
        "# Taking the course material from github.\n",
        "\n",
        "Course materials will be shown at a github site.  \n",
        "https://github.com  \n",
        "Each course materials are prepared in ipynb (i-python notebook) format which could be visible on github, and it could be (of course) available on your google colaboratory.\n",
        "\n",
        "By clicking the \"Open in Colab\" icon, you import the page on the github onto your colaboratory."
      ]
    },
    {
      "cell_type": "markdown",
      "metadata": {
        "id": "_1GNjUd3m21U",
        "colab_type": "text"
      },
      "source": [
        "#**Course Info**\n",
        "\n",
        "https://github.com/kameda-yoshinari/DataAlgo-T  \n",
        "Course: Data structure and algorithm  \n",
        "Department of Engineering Systems, University of Tsukuba,Japan.  \n",
        "Author: KAMEDA, Yoshinari  \n",
        "2020.05.19. - \n"
      ]
    }
  ]
}