{
  "nbformat": 4,
  "nbformat_minor": 0,
  "metadata": {
    "colab": {
      "name": "DataAlgo-T(004) BFS",
      "provenance": [],
      "collapsed_sections": [],
      "authorship_tag": "ABX9TyOfXVlt1g8VRSlOmp7d+wdu",
      "include_colab_link": true
    },
    "kernelspec": {
      "name": "python3",
      "display_name": "Python 3"
    }
  },
  "cells": [
    {
      "cell_type": "markdown",
      "metadata": {
        "id": "view-in-github",
        "colab_type": "text"
      },
      "source": [
        "<a href=\"https://colab.research.google.com/github/kameda-yoshinari/DataAlgo-T/blob/master/DataAlgo_T(004)_BFS.ipynb\" target=\"_parent\"><img src=\"https://colab.research.google.com/assets/colab-badge.svg\" alt=\"Open In Colab\"/></a>"
      ]
    },
    {
      "cell_type": "markdown",
      "metadata": {
        "id": "yRmydXneMgT8",
        "colab_type": "text"
      },
      "source": [
        "# 3.2. Breadth-First Search\n",
        "\n",
        "We learn how to visit all the vertices in an undirected and connected graph by way of breadth-first search.\n",
        "\n",
        "**Reminder**  \n",
        "On github, rendering might not be in good shape.  \n",
        "To see the expected layout, open this page in Google Colaboratory.\n",
        "To run one specific code cell in colab, click the icon on the left part or just type Ctrl + Enter.  \n",
        "  \n"
      ]
    },
    {
      "cell_type": "markdown",
      "metadata": {
        "id": "CdQdV_MJIlce",
        "colab_type": "text"
      },
      "source": [
        "# Preparation\n",
        "\n",
        "Connect the Jupyter environment and invoke a runtime. \n",
        "Mount your Google Drive by the procedure below.  \n",
        "Change directory to the mounted point and make it as the working folder.  \n",
        "By then, files are preserved even after you terminate the runtime environment."
      ]
    },
    {
      "cell_type": "code",
      "metadata": {
        "id": "DMtqXRXJIPMR",
        "colab_type": "code",
        "colab": {}
      },
      "source": [
        "!echo \"Mounting your Google Drive\"\n",
        "from google.colab import drive \n",
        "drive.mount('/content/drive')"
      ],
      "execution_count": null,
      "outputs": []
    },
    {
      "cell_type": "code",
      "metadata": {
        "id": "SABzmuELIaj2",
        "colab_type": "code",
        "colab": {}
      },
      "source": [
        "!echo \"Make a working folder and chnage directory to it\"\n",
        "%cd /content/drive/My\\ Drive\n",
        "%mkdir -p DataAlgo-T/004\n",
        "%cd       DataAlgo-T/004\n",
        "!ls"
      ],
      "execution_count": null,
      "outputs": []
    },
    {
      "cell_type": "markdown",
      "metadata": {
        "id": "QTSCrxILiWsC",
        "colab_type": "text"
      },
      "source": [
        "Consider Graph G3.  \n",
        "8 vertices, undirected, connected. \n",
        "It can be writen in C program by the form of adjacency matrix.\n",
        "Element-1 means the edge exists betweeen row-ID-vertex and column-ID-vertex (they are adjacent)."
      ]
    },
    {
      "cell_type": "markdown",
      "metadata": {
        "id": "NINxYWNgOSaw",
        "colab_type": "text"
      },
      "source": [
        "![da2020-graph3](https://user-images.githubusercontent.com/45651568/84249701-1107b680-ab46-11ea-89b0-6a454ec80ec4.jpg)"
      ]
    },
    {
      "cell_type": "code",
      "metadata": {
        "id": "rz4_9z4rOQu4",
        "colab_type": "code",
        "colab": {}
      },
      "source": [
        "%%writefile graph3.h\n",
        "// 8 vertices, undirected, no-weight.\n",
        "#define N 8\n",
        "int edge[N][N] = {\n",
        "//   0 1 2 3 4 5 6 7\n",
        "\t{0,1,0,0,1,0,0,0}, // 0\n",
        "\t{1,0,0,0,0,0,1,0}, // 1\n",
        "\t{0,0,0,1,0,0,1,0}, // 2\n",
        "\t{0,0,1,0,0,0,0,1}, // 3\n",
        "\t{1,0,0,0,0,1,0,0}, // 4\n",
        " \t{0,0,0,0,1,0,1,0}, // 5\n",
        "\t{0,1,1,0,0,1,0,1}, // 6\n",
        "\t{0,0,0,1,0,0,1,0}  // 7\n",
        "};"
      ],
      "execution_count": null,
      "outputs": []
    },
    {
      "cell_type": "markdown",
      "metadata": {
        "id": "SgrerkN-Ox0L",
        "colab_type": "text"
      },
      "source": [
        "# Outline of BFS\n",
        "\n",
        "In dungeon-type RPG like Rogue, it is a breadth-first search to choose the room close to the first room (start vertex). It can be said that it is a careful strategy. \n",
        " \n",
        "More precisely, the search that enumerates the vertices close from the starting vertex is the width-first search. We assume all the edges in the graph shall have the same length. \n",
        " \n",
        "In the description of the algorithm of breadth-first search, a queue (First-In-First-Out) is used. We first investigate the vertex closest to the starting vertex and enumerate it. At this time, the unenumerated vertices adjacent to the vertex is put on the tail of the waiting line (connect them to the queue). When the investigation of a particular vertex is completed, the next vertex to investigate is the oldest one in the queue (First-In-First-Out). The reason for this is that it becomes the vertex farther from the starting vertex as the one connected later. \n",
        "\n",
        "For reference, when BFS was performed from vertex 0 for graph G3, the vertex enumeration by breadth-first is as follows.   \n",
        "Here, if there are multiple vertices of the same priority, the lower ID number of vertices shall be selected first. \n",
        "\n",
        "BFS result: 0 1 4 6 5 2 7 3"
      ]
    },
    {
      "cell_type": "markdown",
      "metadata": {
        "id": "TNkPHbM3arXZ",
        "colab_type": "text"
      },
      "source": [
        "![image](https://user-images.githubusercontent.com/45651568/90238137-6753e700-de60-11ea-9eac-0cd2ea206a7b.png)\n",
        "Figure: \n",
        "BFS procedure (Graph G3, starting at 0)"
      ]
    },
    {
      "cell_type": "markdown",
      "metadata": {
        "id": "0_o0avWIHZqC",
        "colab_type": "text"
      },
      "source": [
        "# C program of BFS\n",
        "\n",
        "**Purpose**\n",
        "\n",
        "List up the vertices of a given graph in the order of breadth-first search that utilizes queue.\n",
        "\n",
        "**Explanation**\n",
        "\n",
        "A starting vertex is specified at the beginning.  \n",
        "\n",
        "Queue could be a line in a supermarket.  \n",
        "When an object newly arrived, it shall be placed at the tail of the queue. This is called enqueue operation.  \n",
        "When the next turn comes, the object in the head of the queue is always processed. This is called dequeue operation.  \n",
        "On dequeueing a vertex (at the head of the queue), the associateed adjacent vertices are enumalted and they are enqueued. \n",
        "\n",
        "The list up should always ends up with listing all the vertices in the graph if it is undirected and connected.\n",
        "\n",
        "**Program**\n",
        "\n",
        "The function bfs() is void because it never fails.\n",
        "Since the data in the queue does not move, we need to prepare two variables to remember the head position and the tail position in the queue.\n",
        "\n",
        "**Remarks**\n",
        "\n",
        "On supermarket, people in the line walk as the procedure goes on. In such a case, the head position is fixed (in front of the register). But in the C program, data won't move. That is the reason why we need to remember head position too."
      ]
    },
    {
      "cell_type": "code",
      "metadata": {
        "id": "Sfxsc_02JNc1",
        "colab_type": "code",
        "colab": {}
      },
      "source": [
        "%%writefile bfs_simple_E.c\n",
        "// Breadth First Search.\n",
        "// kameda[at]ccs.tsukuba.ac.jp, 2020.\n",
        "#include <stdio.h> // printf()\n",
        "#include \"graph3.h\"\n",
        "\n",
        "// BFS main body\n",
        "void bfs(int StartingRoom){\n",
        "\tint listed[N]; // 0 not yet, 1 queued\n",
        "\tint queue[N];\n",
        "\tint qhead = 0; // queue head position\n",
        "\tint qtail = 0; // queue tail position\n",
        "    \n",
        "    int CurrentRoom;\n",
        "    int RoomToCheck;\n",
        "\n",
        "\tfor (RoomToCheck = 0; RoomToCheck < N; RoomToCheck++)\n",
        "\t\tlisted[RoomToCheck] = 0;\n",
        "\t\n",
        "\tprintf(\"Start BFS from vertex %d.\\n\", StartingRoom);\n",
        "    // Enqueue the starting vertex at the tail position of the queue\n",
        "    queue[qtail] = StartingRoom;\n",
        "    qtail++;\n",
        "\n",
        "    // Mark as queued\n",
        "\tprintf(\"Vertex %d is now on the queue.\\n\", StartingRoom);\n",
        "    listed[StartingRoom] = 1;\n",
        " \n",
        "    // Keep working if the vertices are in the queue.\n",
        "\twhile (qhead < qtail) {\n",
        "\t\tprintf(\"Queue  status: length %d, vertex at head is %d, vertex at tail is %d\\n\", qtail - qhead, queue[qhead], queue[qtail - 1]);\n",
        "    \t{int i; printf(\"Current queue: \"); for (i = qhead; i < qtail; i++) printf(\"%d \", queue[i]); printf(\"\\n\");}\n",
        "\n",
        "        // Invesitgate the vertex (taken from the head of the queue, removing it from the queue)\n",
        "        printf(\"Take vertex %d on the queue head and start process (it is deleted from the queue).\\n\", queue[qhead]);\n",
        "\t\tCurrentRoom = queue[qhead];\n",
        "        qhead++;\n",
        "\n",
        "        // Some extra process may be placed here.\n",
        "\n",
        "        // Choose next\n",
        "\t\tfor (RoomToCheck = 0; RoomToCheck < N; RoomToCheck++) {\n",
        "            if (edge[CurrentRoom][RoomToCheck] == 0) {\n",
        "\t\t\t\tprintf(\"  (At Vertex %d) Vertex %d is not adjacent.\\n\", CurrentRoom, RoomToCheck);\n",
        "            } else if (listed[RoomToCheck] != 0) {\n",
        "\t\t\t\tprintf(\"  (At Vertex %d) Vertex %d is adjacent, but already listed before.\\n\", CurrentRoom, RoomToCheck);\n",
        "            } else {         \n",
        "\t\t\t\tprintf(\"  (At Vertex %d) Vertex %d is adjacent, and not listed, so put it on the tail of the queue.\\n\", CurrentRoom, RoomToCheck);\n",
        "                // Enqueue RoomToCheck\n",
        "\t\t\t\tqueue[qtail] = RoomToCheck;\n",
        "                qtail++;\n",
        "\n",
        "                // Once enqueued, it is recognized as being listed.\n",
        "                printf(\"  (At Vertex %d) Vertex %d is treated as already listed from now.\\n\", CurrentRoom, RoomToCheck);\n",
        "\t\t\t\tlisted[RoomToCheck] = 1;\n",
        "\t\t\t}\n",
        "\t\t}\n",
        "\t}\n",
        "\tprintf(\"No vertices left in the queue. Quiting.\\n\");\n",
        "\n",
        "\tprintf(\"Result of List up by BFS.\\n\");\n",
        "\tfor (CurrentRoom = 0; CurrentRoom < N; CurrentRoom++)\n",
        "\t\tprintf(\"%d \", queue[CurrentRoom]);\n",
        "    printf(\"\\n\");\n",
        "\n",
        "\treturn;\n",
        "}\n",
        "\n",
        "// Main function\n",
        "int main(int argc, char *argv[]){\n",
        "\tbfs(0); // Call bfs() with the starting vertex ID \n",
        "\treturn 0;\n",
        "}"
      ],
      "execution_count": null,
      "outputs": []
    },
    {
      "cell_type": "markdown",
      "metadata": {
        "id": "8y6NIDJEd6EF",
        "colab_type": "text"
      },
      "source": [
        "Compile it and check no errors."
      ]
    },
    {
      "cell_type": "code",
      "metadata": {
        "id": "1fDHcZ_kw6w8",
        "colab_type": "code",
        "colab": {}
      },
      "source": [
        "!gcc -Wall -o bfs_simple_E bfs_simple_E.c"
      ],
      "execution_count": null,
      "outputs": []
    },
    {
      "cell_type": "markdown",
      "metadata": {
        "id": "s8waNgg-d_Ke",
        "colab_type": "text"
      },
      "source": [
        "Run it."
      ]
    },
    {
      "cell_type": "code",
      "metadata": {
        "id": "22ZwJ5yzCWKl",
        "colab_type": "code",
        "colab": {}
      },
      "source": [
        "!./bfs_simple_E"
      ],
      "execution_count": null,
      "outputs": []
    },
    {
      "cell_type": "markdown",
      "metadata": {
        "id": "tPNqfN0aFChg",
        "colab_type": "text"
      },
      "source": [
        "# Coomand line option to set starting vertex\n",
        "\n",
        "**Purpose**\n",
        "\n",
        "Let the program take the command line option as the ID of the starting vertex to list up vertices by BFS.\n",
        "\n",
        "**Explanation**\n",
        "\n",
        "Use atoi() to convert string at command line option to integer.\n",
        "(It is desirable to use strtol() since it can handle errors while atoi() cannot do it.)\n",
        "\n",
        "**Program**\n",
        "\n",
        "Command line option is processed within main().\n",
        "\n",
        "**Remarks**\n",
        "\n",
        "No changes at bfs() function.\n"
      ]
    },
    {
      "cell_type": "code",
      "metadata": {
        "id": "tQ1hSFbGFKlQ",
        "colab_type": "code",
        "colab": {}
      },
      "source": [
        "%%writefile bfs_xtraCommandLine_E.c\n",
        "// Breadth First Search.\n",
        "// kameda[at]ccs.tsukuba.ac.jp, 2020.\n",
        "// -- Extra --\n",
        "//    Accept command line option\n",
        "#include <stdio.h> // printf()\n",
        "#include <stdlib.h> // atoi()\n",
        "#include \"graph3.h\"\n",
        "\n",
        "// BFS main body\n",
        "void bfs(int StartingRoom){\n",
        "\tint listed[N]; // 0 not yet, 1 queued\n",
        "\tint queue[N];\n",
        "\tint qhead = 0; // queue head position\n",
        "\tint qtail = 0; // queue tail position\n",
        "    \n",
        "    int CurrentRoom;\n",
        "    int RoomToCheck;\n",
        "\n",
        "\tfor (RoomToCheck = 0; RoomToCheck < N; RoomToCheck++)\n",
        "\t\tlisted[RoomToCheck] = 0;\n",
        "\t\n",
        "\tprintf(\"Start BFS from vertex %d.\\n\", StartingRoom);\n",
        "    // Enqueue the starting vertex at the tail position of the queue\n",
        "    queue[qtail] = StartingRoom;\n",
        "    qtail++;\n",
        "\n",
        "    // Mark as queued\n",
        "\tprintf(\"Vertex %d is now on the queue.\\n\", StartingRoom);\n",
        "    listed[StartingRoom] = 1;\n",
        " \n",
        "    // Keep working if the vertices are in the queue.\n",
        "\twhile (qhead < qtail) {\n",
        "\t\tprintf(\"Queue  status: length %d, vertex at head is %d, vertex at tail is %d\\n\", qtail - qhead, queue[qhead], queue[qtail - 1]);\n",
        "    \t{int i; printf(\"Current queue: \"); for (i = qhead; i < qtail; i++) printf(\"%d \", queue[i]); printf(\"\\n\");}\n",
        "\n",
        "        // Invesitgate the vertex (taken from the head of the queue, removing it from the queue)\n",
        "        printf(\"Take vertex %d on the queue head and start process (it is deleted from the queue.)\\n\", queue[qhead]);\n",
        "\t\tCurrentRoom = queue[qhead];\n",
        "        qhead++;\n",
        "\n",
        "        // Some extra process may be placed here.\n",
        "\n",
        "        // Choose next\n",
        "\t\tfor (RoomToCheck = 0; RoomToCheck < N; RoomToCheck++) {\n",
        "            if (edge[CurrentRoom][RoomToCheck] == 0) {\n",
        "\t\t\t\tprintf(\"  (At Vertex %d) Vertex %d is not adjacent.\\n\", CurrentRoom, RoomToCheck);\n",
        "            } else if (listed[RoomToCheck] != 0) {\n",
        "\t\t\t\tprintf(\"  (At Vertex %d) Vertex %d is adjacent, but already listed before.\\n\", CurrentRoom, RoomToCheck);\n",
        "            } else {         \n",
        "\t\t\t\tprintf(\"  (At Vertex %d) Vertex %d is adjacent, and not listed, so put it on the tail of the queue.\\n\", CurrentRoom, RoomToCheck);\n",
        "                // Enqueue RoomToCheck\n",
        "\t\t\t\tqueue[qtail] = RoomToCheck;\n",
        "                qtail++;\n",
        "\n",
        "                // Once enqueued, it is recognized as being listed.\n",
        "                printf(\"  (At Vertex %d) Vertex %d is treated as already listed from now.\\n\", CurrentRoom, RoomToCheck);\n",
        "\t\t\t\tlisted[RoomToCheck] = 1;\n",
        "\t\t\t}\n",
        "\t\t}\n",
        "\t}\n",
        "\tprintf(\"No vertices left in the queue. Quiting.\\n\");\n",
        "\n",
        "\tprintf(\"Result of List up by BFS.\\n\");\n",
        "\tfor (CurrentRoom = 0; CurrentRoom < N; CurrentRoom++)\n",
        "\t\tprintf(\"%d \", queue[CurrentRoom]);\n",
        "    printf(\"\\n\");\n",
        "\n",
        "\treturn;\n",
        "}\n",
        "\n",
        "// Main function\n",
        "int main(int argc, char *argv[]){\n",
        "    int startvertex = 0;\n",
        "    if (argc == 1) {\n",
        "        printf(\"Start vertex not specified, so set No.0 as start.\\n\");\n",
        "        startvertex = 0;\n",
        "    } else if (argc == 2) {\n",
        "        startvertex = atoi(argv[1]);\n",
        "        if (startvertex < 0 || startvertex >= N) {\n",
        "            printf(\"Illegal ID specified, so quit.\\n\");\n",
        "            return -1;\n",
        "        }\n",
        "    }\n",
        "\n",
        "\tbfs(startvertex);  // Call bfs() with the starting vertex ID \n",
        "\treturn 0;\n",
        "}"
      ],
      "execution_count": null,
      "outputs": []
    },
    {
      "cell_type": "markdown",
      "metadata": {
        "id": "QD7n0zqyeDgm",
        "colab_type": "text"
      },
      "source": [
        "Compile it and check no errors."
      ]
    },
    {
      "cell_type": "code",
      "metadata": {
        "id": "W4ShaOLyKaAt",
        "colab_type": "code",
        "colab": {}
      },
      "source": [
        "!gcc -Wall -o bfs_xtraCommandLine_E bfs_xtraCommandLine_E.c"
      ],
      "execution_count": null,
      "outputs": []
    },
    {
      "cell_type": "markdown",
      "metadata": {
        "id": "PpEZbIIseIB1",
        "colab_type": "text"
      },
      "source": [
        "Run it."
      ]
    },
    {
      "cell_type": "code",
      "metadata": {
        "id": "eES9GPwVLg4z",
        "colab_type": "code",
        "colab": {}
      },
      "source": [
        "!./bfs_xtraCommandLine_E 2"
      ],
      "execution_count": null,
      "outputs": []
    },
    {
      "cell_type": "markdown",
      "metadata": {
        "id": "lZXa6FVXIzoI",
        "colab_type": "text"
      },
      "source": [
        "# C program of BFS by function call\n",
        "\n",
        "**Purpose**\n",
        "\n",
        "Enqueue and dequeue by user defined functions.\n",
        "\n",
        "**Explanation**\n",
        "\n",
        "Write user defined functions in a different source file.  \n",
        "It could be treated as an external library in the future.．\n",
        "\n",
        "**Program**\n",
        "\n",
        "Original source file is splitted into three parts.\n",
        "* a header file of queue operation\n",
        "* source file of user defined functions\n",
        "* application source file of BFS\n",
        "\n",
        "**Remarks**\n",
        "\n",
        "Separate compilation method is applied."
      ]
    },
    {
      "cell_type": "code",
      "metadata": {
        "id": "5jU5gpnlYoAy",
        "colab_type": "code",
        "colab": {}
      },
      "source": [
        "%%writefile QueueLib_E.h\n",
        "// Queue management\n",
        "// kameda[at]ccs.tsukuba.ac.jp, 2020.\n",
        "\n",
        "// Initialization of queue\n",
        "int *initqueue(int );\n",
        "\n",
        "// Add to the queue\n",
        "int enqueue(int );\n",
        "\n",
        "// Delete from the queue\n",
        "int dequeue(void);\n",
        "\n",
        "// Show the status of the queue\n",
        "int showqueue(void);\n",
        "\n",
        "// Show the whole status of the queue\n",
        "int showallqueue(void);\n"
      ],
      "execution_count": null,
      "outputs": []
    },
    {
      "cell_type": "code",
      "metadata": {
        "id": "Iotxsvy8MktG",
        "colab_type": "code",
        "colab": {}
      },
      "source": [
        "%%writefile QueueLib_E.c\n",
        "// Queue management\n",
        "// kameda[at]ccs.tsukuba.ac.jp, 2020.\n",
        "#include <stdio.h> // printf()\n",
        "#include <stdlib.h> // calloc()\n",
        "#include \"QueueLib_E.h\" // Prototype check\n",
        "\n",
        "int *queue = NULL; // Queue mainbody (needs initialization)\n",
        "int qsize = 0; // Queue size\n",
        "int qhead = 0; // Queue head position in queue[]\n",
        "int qtail = 0; // Queue tail position in queue[]\n",
        "\n",
        "// Initialization of queue\n",
        "int *initqueue(int n) {\n",
        "    queue = calloc(n, sizeof(*queue));\n",
        "    qsize = n;\n",
        "    if (queue == NULL) {\n",
        "        printf(\"[Error] Cannot obtain queue memory for %d elements.\\n\", n);\n",
        "        qsize = 0;\n",
        "    }\n",
        "    return queue;\n",
        "}\n",
        "\n",
        "// Add to the queue\n",
        "int enqueue(int v) {\n",
        "    if (queue == NULL) {\n",
        "        printf(\"[Error] Queue is not ready.\\n\");\n",
        "        return -1;\n",
        "    } else if (qtail >= qsize) {\n",
        "        printf(\"[Error] Running out of queue memory. Currently %d elements.\\n\", qsize);\n",
        "        return -2;\n",
        "    }\n",
        "    queue[qtail] = v;\n",
        "    qtail++;\n",
        "    return 0;\n",
        "}\n",
        "\n",
        "// Delete from the queue\n",
        "int dequeue(void) {\n",
        "    int v;\n",
        "    if (queue == NULL) {\n",
        "        printf(\"[Error] Queue is not ready.\\n\");\n",
        "        return -1;\n",
        "    } else if (qhead >= qtail) {\n",
        "        printf(\"[Report] No elements in the queue.\\n\");\n",
        "        return -2;\n",
        "    }\n",
        "    v = queue[qhead];\n",
        "    qhead++;\n",
        "    return v;\n",
        "}\n",
        "\n",
        "// Show the status of the queue\n",
        "int showqueue(void) {\n",
        "    int i;\n",
        "\n",
        "    if (queue == NULL) {\n",
        "        printf(\"[Error] Queue is not ready.\\n\");\n",
        "        return -1;\n",
        "    }\n",
        "\n",
        "    printf(\"qsize = %d, qhead = %d, qtail = %d\\n\", qsize, qhead, qtail);\n",
        "    for (i = qhead; i < qtail; i++) {\n",
        "        printf(\"%d \", queue[i]);\n",
        "    }\n",
        "    printf(\"\\n\");\n",
        "\n",
        "    return qtail - qhead;\n",
        "}\n",
        "\n",
        "// Show the whole status of the queue\n",
        "int showallqueue(void) {\n",
        "    int i;\n",
        "\n",
        "    if (queue == NULL) {\n",
        "        printf(\"[Error] Queue is not ready.\\n\");\n",
        "        return -1;\n",
        "    }\n",
        "\n",
        "    printf(\"qsize = %d, qhead = %d, qtail = %d\\n\", qsize, qhead, qtail);\n",
        "    for (i = 0; i < qsize; i++) {\n",
        "        printf(\"%d \", queue[i]);\n",
        "    }\n",
        "    printf(\"\\n\");\n",
        "\n",
        "    return qsize;\n",
        "}\n",
        "\n"
      ],
      "execution_count": null,
      "outputs": []
    },
    {
      "cell_type": "markdown",
      "metadata": {
        "id": "ih41_eQXePu8",
        "colab_type": "text"
      },
      "source": [
        "Compile only the source file of user defined functions.\n",
        "This is equivalent to create a new (user degined) library."
      ]
    },
    {
      "cell_type": "code",
      "metadata": {
        "id": "OpW_zclrVXLi",
        "colab_type": "code",
        "colab": {}
      },
      "source": [
        "!gcc -Wall -c QueueLib_E.c"
      ],
      "execution_count": null,
      "outputs": []
    },
    {
      "cell_type": "markdown",
      "metadata": {
        "id": "m9m4DOyLe5bz",
        "colab_type": "text"
      },
      "source": [
        "Rewrite the bfs() function to use external user-defined functions for handling the queue.  \n",
        "QueueLib_E.h will be a help as a quick reference."
      ]
    },
    {
      "cell_type": "code",
      "metadata": {
        "id": "QrR5OCVkNG2o",
        "colab_type": "code",
        "colab": {}
      },
      "source": [
        "%%writefile bfs_xtraFuncCalls_E.c\n",
        "// Breadth First Search.\n",
        "// kameda[at]ccs.tsukuba.ac.jp, 2020.\n",
        "// -- Extra --\n",
        "//    Accept command line option\n",
        "//    Call functions for enqueue and dequeue\n",
        "#include <stdio.h> // printf()\n",
        "#include <stdlib.h> // atoi()\n",
        "#include \"QueueLib_E.h\"\n",
        "#include \"graph3.h\"\n",
        "\n",
        "// BFS main body\n",
        "void bfs(int StartingRoom){\n",
        "    int listed[N]; // 0 not yet, 1 queued\n",
        "    \n",
        "    int CurrentRoom;\n",
        "    int RoomToCheck;\n",
        "\n",
        "\tfor (RoomToCheck = 0; RoomToCheck < N; RoomToCheck++)\n",
        "\t\tlisted[RoomToCheck] = 0;\n",
        "\n",
        "    // Initialization of queue\n",
        "    initqueue(N);\n",
        "\t\n",
        "\tprintf(\"Start BFS at Vertex %d.\\n\", StartingRoom);\n",
        "    // Enqueue StartingRoom\n",
        "    enqueue(StartingRoom);\n",
        "\n",
        "    // Once enqueued, it is recognized as being listed.\n",
        "    printf(\"Vertex %d is treated as already listed from now.\\n\", RoomToCheck);\n",
        "    listed[StartingRoom] = 1;\n",
        "\n",
        "    // Show the status of the queue\n",
        "    // the timing to show the status has been moved to this position so as to show the status just before enqueue that is done in while() eveluation\n",
        "    showqueue();\n",
        "\n",
        "    // Keep working if the vertices are in the queue\n",
        "\twhile ((CurrentRoom = dequeue()) >= 0) {\n",
        "        // Invesitgate the vertex (taken from the head of the queue, removing it from the queue)\n",
        "\t\tprintf(\"Take vertex %d on the queue head and start process (it is deleted from the queue.)\\n\", CurrentRoom);\n",
        "        \n",
        "        // Some extra process may be placed here\n",
        "\n",
        "        // Choose next\n",
        "\t\tfor (RoomToCheck = 0; RoomToCheck < N; RoomToCheck++) {\n",
        "            if (edge[CurrentRoom][RoomToCheck] == 0) {\n",
        "\t\t\t\tprintf(\"  (At Vertex %d) Vertex %d is not adjacent.\\n\", CurrentRoom, RoomToCheck);\n",
        "            } else if (listed[RoomToCheck] != 0) {\n",
        "\t\t\t\tprintf(\"  (At Vertex %d) Vertex %d is adjacent, but already listed before.\\n\", CurrentRoom, RoomToCheck);\n",
        "            } else {         \n",
        "\t\t\t\tprintf(\"  (At Vertex %d) Vertex %d is adjacent, and not listed, so put it on the tail of the queue.\\n\", CurrentRoom, RoomToCheck);\n",
        "                // Enqueue RoomToCheck\n",
        "\t\t\t\tenqueue(RoomToCheck);\n",
        "                \n",
        "                // Once enqueued, it is recognized as being listed.\n",
        "                printf(\"  (At Vertex %d) Vertex %d is treated as already listed from now.\\n\", CurrentRoom, RoomToCheck);\n",
        "\t\t\t\tlisted[RoomToCheck] = 1;\n",
        "\t\t\t}\n",
        "\t\t}\n",
        "        // Show the status of the queue\n",
        "        // the timing to show the status has been moved to this position so as to show the status just before enqueue that is done in while() eveluation\n",
        "        showqueue();\n",
        "\t}\n",
        "\tprintf(\"No vertices left in the queue. Quiting.\\n\");\n",
        "\n",
        "\tprintf(\"Result of List up by BFS.\\n\");\n",
        "    showallqueue();\n",
        "\n",
        "\treturn;\n",
        "}\n",
        "\n",
        "// Main function\n",
        "int main(int argc, char *argv[]){\n",
        "    int startvertex = 0;\n",
        "    if (argc == 1) {\n",
        "        printf(\"Start vertex not specified, so set No.0 as start.\\n\");\n",
        "        startvertex = 0;\n",
        "    } else if (argc == 2) {\n",
        "        startvertex = atoi(argv[1]);\n",
        "        if (startvertex < 0 || startvertex >= N) {\n",
        "            printf(\"Illegal ID specified, so quit.\\n\");\n",
        "            return -1;\n",
        "        }\n",
        "    }\n",
        "\n",
        "\tbfs(startvertex);  // Call bfs() with the starting vertex ID \n",
        "\treturn 0;\n",
        "}"
      ],
      "execution_count": null,
      "outputs": []
    },
    {
      "cell_type": "markdown",
      "metadata": {
        "id": "RIzCCG_HefwJ",
        "colab_type": "text"
      },
      "source": [
        "Compile the bfs program part."
      ]
    },
    {
      "cell_type": "code",
      "metadata": {
        "id": "4FjvSOZuZhy4",
        "colab_type": "code",
        "colab": {}
      },
      "source": [
        "!gcc -Wall -c bfs_xtraFuncCalls_E.c"
      ],
      "execution_count": null,
      "outputs": []
    },
    {
      "cell_type": "markdown",
      "metadata": {
        "id": "el5mxVABeoT4",
        "colab_type": "text"
      },
      "source": [
        "Link the object files (*.o) to make the binary file (bfs_xtraFuncCalls_E)."
      ]
    },
    {
      "cell_type": "code",
      "metadata": {
        "id": "mzRyl1IDZyrF",
        "colab_type": "code",
        "colab": {}
      },
      "source": [
        "!gcc -o bfs_xtraFuncCalls_E bfs_xtraFuncCalls_E.o QueueLib_E.o"
      ],
      "execution_count": null,
      "outputs": []
    },
    {
      "cell_type": "markdown",
      "metadata": {
        "id": "KUi66tQ9ezAc",
        "colab_type": "text"
      },
      "source": [
        "Run it. \n",
        "Output should be same as the previous one."
      ]
    },
    {
      "cell_type": "code",
      "metadata": {
        "id": "cnqUOVDEaAvA",
        "colab_type": "code",
        "colab": {}
      },
      "source": [
        "!./bfs_xtraFuncCalls_E 0"
      ],
      "execution_count": null,
      "outputs": []
    },
    {
      "cell_type": "markdown",
      "metadata": {
        "id": "zWc0IUeckVCy",
        "colab_type": "text"
      },
      "source": [
        "# Problems\n",
        "\n",
        "1. Description of the algorithm   \n",
        "Describe the breadth-first search algorithm using queues in Human’s language.   \n",
        "The description must follow be the explanation in  this lecture.    \n",
        "The diagram of the queue should be inserted. \n",
        "\n",
        "2. Complete algorithm   \n",
        "As long as a given graph is undirected and connected, the breadth-first search algorithm shown in this section always list up all vertices successfully. Try to explain that this is true. \n",
        "\n",
        "\n",
        "3. Computation amount   \n",
        "Discuss the computation amount of time and space of the program in bfs_xtraCommandLine_E.c. \n",
        "\n",
        "4. Memory size of queue[]   \n",
        "No matter what undirected and connected graph is specified, show that the memory size required for queue[] does not exceed the number of vertices. \n",
        "\n",
        "5. Longest queue   \n",
        "Find out the shape of a graph that gives the longest queue tentatively on processing the graph. (In the program, the queue length is qtail – qhead + 1.) \n",
        "\n",
        "6. Show distance from the starting vertex   \n",
        "Modifiy the program (bfs_xtraCommandLine_E.c) to show the distance of each vertex from the starting vertex in numbers on showing the result of the list up. The distance is indicated by the number of edges from the starting vertex.   \n",
        "(e.g.) BFS result: 0(0) 1(1) 4(1) 6(2) 5(2) 2(3) 7(3) 3(4) \n",
        "\n",
        "7. About the atoi() function   \n",
        "(a) Describe what happens if you pass a string that cannot be interpreted as an integer to the atoi() function.  \n",
        "(b) Show what actually happens if you pass a string that cannot be interpreted as an integer to the atoi() function.  \n",
        "\n",
        "8. About strtol() functions   \n",
        "(a) Describe how the strtol() function traps errors.  \n",
        "(b) Write a simple program that traps error with strtol() function.   \n",
        "(Tip: Stortol() function uses errno to handle errors.) \n",
        "\n",
        "9. Moving queue   \n",
        "Modify the program (bfs_xtraCommandLine_E.c) that move the elements of queue[] forward when dequeueing a vertex from queue[]. (In other words, make sure that queue[0] is always at the head position of the queue like people do at supermarket.) \n",
        "\n",
        "10. Specifying a graph   \n",
        "Instead of including \"graph3.h\", let the program (bfs_xtraCommandLine_E.c) accept a text file describing the adjacent matrix of the graph. The text filename should be given by a command line option.  \n",
        "\n",
        "\n",
        "\n",
        "\n"
      ]
    },
    {
      "cell_type": "markdown",
      "metadata": {
        "id": "b9NHWToN2T3E",
        "colab_type": "text"
      },
      "source": [
        "#**Course Info**\n",
        "\n",
        "https://github.com/kameda-yoshinari/DataAlgo-T  \n",
        "Course: Data structure and algorithm  \n",
        "Department of Engineering Systems, University of Tsukuba,Japan.  \n",
        "Author: KAMEDA, Yoshinari  \n",
        "2020.05.19. -  "
      ]
    }
  ]
}