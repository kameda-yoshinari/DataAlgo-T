{
  "nbformat": 4,
  "nbformat_minor": 0,
  "metadata": {
    "colab": {
      "name": "DataAlgo-T(003) hello cloud",
      "provenance": [],
      "collapsed_sections": [],
      "authorship_tag": "ABX9TyMBoglztPaWgVdKNCfeQKGM",
      "include_colab_link": true
    },
    "kernelspec": {
      "name": "python3",
      "display_name": "Python 3"
    }
  },
  "cells": [
    {
      "cell_type": "markdown",
      "metadata": {
        "id": "view-in-github",
        "colab_type": "text"
      },
      "source": [
        "<a href=\"https://colab.research.google.com/github/kameda-yoshinari/DataAlgo-T/blob/master/DataAlgo_T(003)_hello_cloud.ipynb\" target=\"_parent\"><img src=\"https://colab.research.google.com/assets/colab-badge.svg\" alt=\"Open In Colab\"/></a>"
      ]
    },
    {
      "cell_type": "markdown",
      "metadata": {
        "id": "yRmydXneMgT8",
        "colab_type": "text"
      },
      "source": [
        "# 003 Hello, Cloud\n",
        "\n",
        "---\n",
        "# System design of Jupyter notebook\n",
        "\n",
        "Though students have already finished the colab tutorial, here are some last check before we actually go into watching C programs in this course.  \n",
        "https://colab.research.google.com/notebooks/welcome.ipynb?hl=en\n",
        "\n",
        "[Jupyter] (https://jupyter.org/) is an environment that allows you to run python (and R and Julia) interactively. Open-source.  Jupyter notebook makes the Jupyter environment available in web apps. This is also open-source. It is shaped like an interactive web page. Jupyter notebooks are now available in the chrome browser and so on.  As a general execution procedure, the Jupyter environment is prepared on some computer resources, and it executes the function of the webserver. Next, the Jupyter notebook is displayed in the browser of the PC at hand. Jupyter notebook communicates with the Jupyter environment to realize actual program execution. In our case, google prepares the Jupyter environment for us somewhere in the world upon our request. \n",
        "\n",
        "\n"
      ]
    },
    {
      "cell_type": "markdown",
      "metadata": {
        "colab_type": "text",
        "id": "RXgXM2Er6ynN"
      },
      "source": [
        "---\n",
        "# Text cell and code cell\n",
        "\n",
        "The format of a jupyer notebook document is called \"ipynb\" (I-PYthon jupyter NoteBook).  \n",
        "In ipynb, two types of cells are placed sequentially.\n",
        "It is something like writing the html files but much easier.\n",
        "\n",
        "* **text cell** is for writing the documents.  \n",
        "* **code cell** is usually for editing / showing program codes.  \n",
        "\n",
        "Both have embedded editor functions and can be edited directly.  One of the characteristics of a code cell is that the code can be executed on the spot. More precisely, the code is transferred to the Jupyter environment at the moment of requesting execution, executed there, and the standard output is returned to the browser side. It is output in the form attached to the code cell of the Jupyter notebook. \n",
        "\n",
        "When writing Jupyter notebook, it is implicitly expected to execute the code cells in order from the beginning, but if there are a number of code cells, it is up to the user to choose which code cell to run. If you do not need to execute code cells (if only browsing and editing), there may be no need to prepare the back-end Jupyter environment. \n",
        "\n",
        "\n",
        "\n"
      ]
    },
    {
      "cell_type": "markdown",
      "metadata": {
        "colab_type": "text",
        "id": "TInXLPxK7B16"
      },
      "source": [
        "---\n",
        "# Use of Google Colaboratory\n",
        "\n",
        "Google Colaboratory refers to the Jupiter environment provided by Google and the Jupyter notebook (called The Colab notebook), which has been improved on the assumption that it will lead to Google’s Jupyer environment only.   \n",
        "\n",
        "As a Jupyter environment, if there is a Google account, although there is a limit of 12 hours of execution continuously, within 90 minutes of no operation, Google prepares an entirely free one. Since the execution environment provided by Google is Ubuntu Linux, many of the work of the programming development system that can be performed on standard Linux can be executed.   \n",
        "\n",
        "Another feature of Google Colabory is the ability to use Google Drive’s cloud storage as a standard folder in a Jupyter environment.   \n",
        "\n",
        "Google colaboratory is mainly intended for use in python languages. Still, it can also be used in C. Therefore, google colaboratory is used to study C language in this course.   \n",
        "\n",
        "Let’s try a runtime connection (actually connect to a Jupyter environment) in Google Colaboratory. Just click “Connect” in the top right corner of the jupyter notebook.  (In rare cases, when google's side is crowded, there are times when the connection fails, so at that time, wait about ten seconds and try again.) \n",
        "\n"
      ]
    },
    {
      "cell_type": "markdown",
      "metadata": {
        "id": "nIuZxNIPS7cf",
        "colab_type": "text"
      },
      "source": [
        "![image.png](data:image/png;base64,iVBORw0KGgoAAAANSUhEUgAAATMAAAEmCAYAAAAOQ3d2AAAgAElEQVR4Ae2dCZQU1bnHPScCA8gOwgADNDsuwHOLijwNJppo3DVu7xHRKAgTolFMNHEBBRcShRfXCFHEBRjUURCGVXZQGBYBEVAWAUcgURFcWPT/zndnbk91d3VPdfftutU9/zqnTldX3bp1+3dv/fq7t27PHFUyYgC4kgHbANtAtreBo7Zs/wxcyYBtgG0gm9uAiJgyo8z5ZcY2kPVtgDJjI876RpzN0QTLbi4apswoM8qMbSAn2gBlxoacEw2ZEY65CCdbWVJmlBllxjaQE22AMmNDzomGnK3RBMttLqKkzCgzyoxtICfaAGXGhpwTDZkRjrkIJ1tZUmaUGWUW8DZw1FFHwcsaNAm1at0aU6fNjNu+5JikMVVuyizgDdlURTOf7I1cRGRV1Z+XNFXlYfq4lpWb0BIdS7UcScvskwQ3f6JjqRaQ52XvTci6M1N3XkTlJY2N+nCTlts+E2VLWmYmLso8zDRycqweHL2IyksaW+3FKS/ntunyUGYJIk3TsJlf9ZCP6Xr2IiovaUyXK5n8tMSqGkdLJs/otIllts1A4zORB4VT5ZhJdMXyfWzblRveyxo0dl5E5SWNzc9lX2aUCCXCNmC9DXgRlZc0tmSmRSavzm3T5XGPzDIRTWUiT95o1m800w2S+blHlFVxCarM3OTltq+qz+fluLvMKAlKgm0gMG3Ai6i8pPEiBJNpEkkr0bFUy0CZ8aYNzE2baiPO9fNEVF7WoHGoarBfC81UudOS2e8GDMLNtxbyZqAQ2QbYBqy3gbRkdtY550JWU2ZlPrHjJWRCJmwD3toAZcZvVH4ZsQ3kRBugzNiQc6IhM3rxFr3kMifKjDKjzNgGcqINeJaZDPbrMbKqXvlQgN+SuRwB8LMFs31nRGYiPlZ4MCuc9cJ6ydU24FlmbgB0hOZ2jPt407ANsA342QYoM46XMIpmG8iJNkCZsSHnREP2MwLgtYIZcVJmlBllxjaQE20gLZnJQD8H+4P5LcXogfVS3dpAWjKrbrD4eSkItoHgtgHKjF2MnOhiUDLBlYxfdeMqs0z8l6VM5OkXJF6HNwrbQPDbgKvMWHHBrzjWEeuIbSCyDSSUmYloykQerLTISiMP8mAbiG0DCWVGYLHAyIRM2AaC2QYoMz4A4AMAtoGcaAOUGRtyTjRkRkvBjJb8rBfKjDKjzNgGcqINUGZsyDnRkP2MAHitYEaBFTIrY4Om1NgG2Aayug0omYELCZAACWQ5AcosyyuQxScBEignQJmxJZAACeQEAcosJ6qRH4IESEDJbN/+A+BKBtnSBr4+8A0OfPstvvv+II4cOcK7mAQUAcqMIs/6LzKR28FDh3lLV3MClBllZlZmX+83m18S9bP/wDc4dJhSq65Oo8ySuFmypRtmvZxf2+2yHz7MrqcW2oF9hzBl/EY8PHghbjl/Ci47cYJaZVv2zS3eCkmTCwtlRplZi6QyKd3qHqGJoCY8vQ7Xn/l6WGBaZNGvkkbSZrvUKDPKLCdlJqL84YcfciHgSPoziJRuv7KkSolFS03OyWahUWaUWWBlVrZ7D2RNNYLb/823SYsg+oQDx/8EH3ethU+61VKvmzrVxKaO5evmTnWxsUMdrA/VwvpQnlrXtquFD9rWwqp2tVAWqhGdnef3K1ev8ZzWmVBk5CUaixaZfi/nZqvQKDPKLGVZpCoZr+fNmj0XsnpN75Yu3aec67rloUe3bujdpQtO79wZp3bogJPbt0ePUAgdQiF0KyjAia1a4YT8fBzfogU6N2uGrk2bokWTJljSppbTM0ltpyIzFZFdMR2XdS8fF7v0hNdUdHZ59wnQ21pa+lXvlzR63+1XTM9KoVFmlFlasnATiKl9dw65C3cO+VNa5ZNpG+ks67rk4YzOnfGLzp1wTqeOOLtje/QKhXBh9xNw/6BbcfV/n4WTW7bET1u0wCnHHoueTZvi5CZN0KlxYyxrm5fypVOR2WtPrVUiu6jrq5D1yp4TcXG3V3Fh51dweY8JuKLHRCUsLTAtr0uOf02lkXRyTMQmeWVieaN4Cn570wDIq+mFMqPM0pKFKXFF57Ni1WrceNPNapXt6OPJvE/nYcC6LrVxSqdOOKdjB/Tq0B69O5ZHZfcPLsRTw4di0tgxOL5lS5zaogV6NmuGHk2bokfjxgg1auRrZKa7lyKvG/sUq/Xc1uPQt/cbuPXCqfhF25fUqkUmwiqPxl7D1acW4feXvIOBF07FFT0n4tddXsH1vTLT3RSR6ZUyo3zSurGTkYDNtM8890/ce+/9apXtdMry3fffp3zffNCpFk7q0AFnt2+PM9uH0LtDe3Rv1w4PDBqE+wcPRMnrk3F8fr6SWY9mzXBikybo0agR2jVsiCU+RmZvv7RRRWX/fey/MPWVjbj3prm47Yrp+Gu/OXjnlY246dy3MOaRUvzmpEmQSOxXHV/Grzq8jJ+3GYf/OfN1zJuyFQ8Nmo+5b21Rcruo26uYU7wlZW7xTmRkRoGldTOnIwK/zl2/YSNKV61W66SiySoi02NmEqG9PXVa+LikTaZc8tOnVJcPOuahZyiE3u3a4qy2bXFGmzb4aUEBftmjBxbMnIEnH3oQxzVvjpOaN1ciO6FRI3Rv2BBtGzTA4gL/xswe/v0CXNT1FTwz7H1s/ehL/OPe97Bz6z6Me3wV1i3fjaJ/rsewAfNU1CWimvTcOsx5cwtmFH2M+VO3YvfO/Xj7pY9U2rfGfaS6nTIPLZsWdjMpyqTEkIxEvKTdsu1TFX3pLqV+HT7iUfUkU55myrber18lapNzvVxDfhmQ6rImVAc92rTBGQUFOLOgAKe1aoXTW7dGl1atULpkCW69/DJ0a94c/9X8WNXFPLFhQ3Rv0ACt69XzNTK75by31XjXE39eihdGrsILI1di9D1LMeuNT1SkdmbjMbj9yul4fsQKFY2tWVaGu/vOUhGbdC9XLS7DbZdPx5+un4nBl0xTY20yVSObFsqMMvMkBC/SSDWNCEvkJKKSqCxePhMnlUdskjbZKRup3pQrQ3noXlCAXq1b49RWrXBay5Y4OT8f551wHJbNm6Mis07NmqFz48Zq0P+4Bg1wYoMGaHXMMVjkY2QmA/zntX0J9900F7Pf+ATPPrgcC6Ztw6Bfv4Olsz7FtNc2qW7jgwPn4+cF47B6aRnmFm/BopLtSmIlkzbjf3u9jgXvbMOAX07BBZ1eVg8LUuUW7zx2MymcuDd4vBs/G/fL2JgI7dnnno/5vPpYquNn8W6uqvavDNVBt5YtcVp+Pk7Jz8cZrVujfX4+Rg8bhr8M6I/+l1yMvw4cgIvPOA19zz9fya5DvXpoVbcuFrTyb56ZDNyLpKR7uWTmp/i/vyzDB8s+x8g7FuOfw1eoqO3vQ5bgqpPKn3C+N3cHrjt9MiY8vRaP/GEhxj62EvOnbkPxixvQp9WL6unnpSdMqApP0sf14L+8ml4YmVGUMeKwKcLHnxithOaMvGRbJCfHUilbOt3M0vZ10C0/X029UONizZvjlHZtsXTOHDzz2KMYdNVVKHphLIbeNhi/OK4rRtzxR1zZqxea1K2LxW1rp3y/Jjs1o/8v31bdx1F3L1WD+dLdXLFgFx774yJsXLMX0ydswktPrFbjaledPAnvv7tTpX997Ie4u+9s3HvjHOzfd1AJ7ppTi1RUJt1O0wsjMwonpZs4lRvf9jkSecn8MimHTMnQ0zJkX6pRWToPAJa3y0PX5s3R89hjcWpBAW666AKsW74c0ycXoXeHDjizbRv0zM/HDeefj2dHjMCCkhm49JRT0Lh2bV9l9vAfFoZlJt3Me/rOVhHaP/76nupint7gedV1fPDWeRj466mY/8429bBgxfxdGHzpNJQu3IXNa/+txsqkS/qbkyfhocL5pl2W0fwYmVGUgRKljIdJBCZdTT3YL9uy7977HkiprPJHHFNdlrerjVDTpjg9FMI9/W/B3/5yD+ZOeweX/+wctG3UCN0aNECn+vXRuV49HFe/PrrWqYOOeXloXqsW5vvYzZz71lac2/pFNVb2+F1LcMdVJVi9pExN0Shd+BmeGbZcTbt48e+r8NzwFZDX80PjMeBXU9QTzAduflc9MPho9V7V1ZSpGzKmlk0LZUaZpSSITERwujspEhtUOBgy4C+rbGuxObufXstwJI0fnIvMWjdpgqt798Ijdw3BxDHP495bB6BVw4Y4oWFDdKtXD12OOQad69ZFxzp1EMrLQ6datdCsZk3Ma3V0yi5Itpspk2avPqUIN/6sGDec/SbuvGaG+rG5zOoffNk0DL1lnorWLjvxNfQ75001l0wG+aVL+duz31QTauX9H68qUb/tlIm0mfiNJruZFE5ghONVIKmkW7RkSXhszDntQrb1WJrudnrNP90fmy9rUxMdGjZEz4YNcNt11+KuG25ASJ5Y1q+P4+rVQ9e6ddGlTh10rl0bnfLy0LFmTXSqUQPHHn005rX2b56ZWFN+giQ/Y5JfAahJsR1fVrP8L+j4Ms5r95KKxOQXAJJGJs7KLwDkVd7LT53kvUyklfMz9XMmPgCgzKqFzGSSrAgtnqjkWLI/PE/3DzUuaZOHpvXrI1S/Ppo0aID69eqhXb0GaF23LlrWqYP82rWRn5eHFrVqoXnNmmheowZaHH008n7yE8xt5d8DAJFZ+Q/Ny//0j/65kv6tpX6vf48pr/qnTc5tSXf7FZn7U0CMzCizuDd4vBuf+w8g3ahMBLErVAMr2tZAaZuaWN2+jlpXFNTCija1sLxN+ev7BTXxXnitgWWta2JxQR1sbVdHskhpSbabqS+ifqN5RtV/kNEpNef29Wdk5jeZunyZfOWYGUWZs6Ks1n+c8YoU/jhjBiOyTEpM502ZUWY5KbN0u5f6BsnWV4nQZNxLIi1n5OW2LWkkbSYG/P3kR5lRZuZlZvsfmvB/aYYdIoKSv34hPxqXsTAtM9mWfXIs2yWmPyxlRpmZlZnlfzVXXbuW+oauzq+UGWVmVmYWePKfAFdnhVV+dsrMws3HJ43p/V9NkZf8ROm7gwdx5Ej1/A9MlbcwtzQBJTP9hq8kQAIkkK0EKLNsrTmWmwRIIIIAZRaBg29IgASylQBllq01x3KTAAlEEFAy2/TxNnAlA7YBtoFsbgOMzCLczjckQALZSoAyy9aaY7lJgAQiCFBmETj4hgRIIFsJUGbZWnMsNwmQQAQByiwCB9+QAAlkKwHKLFtrjuUmARKIIECZReDgGxIggWwlQJlla82x3CRAAhEEKLMIHHxDAiSQrQQos2ytOZabBEggggBlFoGDb0iABLKVAGWWrTXHcpMACUQQoMwicPANCZBAthKgzLK15lhuEiCBCAKUWQQOviEBEshWApRZttYcy00CJBBBgDKLwME3JEAC3x44hHlTtuGp+9/HnVfPQN+z3sDlPSaqVbZlnxyTNJI2KAtlFpSaYDlIwDKB7Zu+UpIScen/fF7Vq6QVscm5thfKzHYN8PokEAACL/5tlWeBxROc5GFzocxs0ue1ScAyAYmopNsYT1DJ7pe8bEVplJnlxsTLk4AtAh+W7lHjYckKq6r0Mq4mefu9UGZ+E+f1SCAABCR6EulUJaZUj0vefkdolFkAGhaLQAJ+EzDZtYwnPLmGn4uvMtuxYweWLVuW0irnciGBXCCwevVqOFe/P5OJwf54Aove7+dDAd9kJjLq0aMHQqFQSqucS6H53ex5PdMENm/ejD59+kSsss+vRbp+0cLJ9Hu/upu+yWzp0qUpScwpP8kjl5c9Rf0Qerg0lz+iv5+tbCL6hYYjSEQlIouWmezza5E5YZmWV3T+ck0/Fsosacp7MLFfCMOXJ31ilSdkk8xGjRqFa6+9Fv3794+ImCV6ln1yTNKkvSwfjlC/iYh8NlaK4aF+mFhWRe6u51ZxjuHDJSUlePTRR1W3UiKwW265JUZmsk+OidQkrZyTiUVm60dPiF3wznYsnb0jQnCf79iPkXcsjtgXLajo91/s/Q5PP/A+tmz4Es8+uCLiXLmmH78UsCYzr5WVamSmxOCpS5vkN7f6tne5kdT+UFqRVbbITCTlrJcLL7wwXJ0XXHBBxLG0heYqpDgyk7Se6rxyqKNfUaQmwx/EwMb+/ftx8cUXx8grOjKLfi/nyLmmF/n5kVNC1/50MvZ/dRAvjFyF+VO34f13d6njsm/U3Uvx8ug12PrRl1g849OI85x56O3vvjmMR29fhDf/tQFff3kQU1/eGHGOXDvTizWZeX0Q4GycxruZKXRDlHBiIoXKagpLNEGaytSRW9kis2uuuSZGGvv27VMRmrO+ZFvSprUkIzPnhaRuU6gDZxbpbj/yyCNJi0yLTc41vTi7mPfdNFcJTCKqyc9/iJlFH+Pg90fw9NDlSnBf/ed7fPrxPkyfsBm/+/lbYTGNf2INdnyyL2Y9fPgHfLZ9v9q/e+cBSHT32pNrw+f50dW0JjP5xvayOm8O/2Qm3/whxH5rl3cxY/e7NDsVJbhEcC5J9a6wCCW6sHwj6jK5vUq3yFkv3bt3DyeTbecxSZv8Us7ZmU/CbRdWpQ9XRl/u5yZXN8l/BuCiiy5yldmTTz6pupXStZRtLTDnq5xrenFOx5j26iaIdHZs2aeir41r/o2tG7/EJ+u/UDJ78r7KsbXXx36IJ/68VIlpyviN+GLPd5BX5yrR2Htzd0bsk0hNR25+TNOwJjOvFeVsiL7JrGwP9qBcaHL98PiYElSS3VKvHxRARGSmu61exoaSuIaJpDIupruTIq+ioqJwtrKthSZp0n4CnUpkpurJ7ctIFzNON1UfNvQqspKxQ6ekRF7RS7TQ5Bw51/QSPUl23OOrI+QjcpKxsn1ffK+iteGFC/DIHxZi19avw91GSVP26X7cdvn08CrCkiiuZOJmJa8lM3eo87XI5FWunenFmsykwrysVmTmpF5xY4T6DcfwfoluEOdJibbj30gRMgtnoaWaOYmGL5XkhnQt4y2JjsU7x3V/sjKrGDoY/nCiuopfB65lSGNn9NNLN0nJPqfwMvV0M3rwXyKxbZu+wrrle7B+xR4cOviDkpGMke0t+wb/2f2tWiVqu+M35b/flLGwI4d/xP59B9X644/ADWe/qc5fNmcnHho4X+UjDwOcMpNrZ3qxJjOvH8y6zFRBdbcn/a6J6v7EmX7hLrMKUuomTf/6XrlXlU5kJeOebpGX7JNjRoSWlMwqJRWEbqYwDLrMPnhvN959a6v622RaZhJ5OZ9mapGJnGYUfYztmyvnqulzFk7bjk8+/AKrl36Oz7Z9HSEyOS+nZZZVDwBUdDYcpTpKiyOjqgSgbjCX8R19XkKZ6UQWX9evX48hQ4agd+/eEeNiMqFZpmNMnjxZlU4kpruhklbOkXM9L5pzEk8mZShA+OohAdmOP7ZZKT3PZUohoURc1113XUTU5aWbKee4RXApFCHilOhupkRmH67cq55WLp21IxyZydNMiaxk8P/fn3+r0ugoS6QlkZq8l6ehWmbPjyjFgX2H8N23h/Gvx2L/nFBOdzOdEZfXbd/GzJxNQN1YzoiootuXQErO08u3vZ0TZJlFT8eIV2cyTUNkJtFZdJq0p2nEgo27JwiRWbwHAE899VT4AYBsO7uYelumZ5henA8AREaJZCbjZiItmZ6hRSavpQs/w5qln6t9Mqb2zf5Dalu6mocP/YC17+9W7597aAWGXDMzfG5OPwCIbuhe3vsts/Ibwm2syvtTTX1TxY8SKptsUGXmJqZE9TV27Fj1oc4666wYobl1SysJuG2VfxE4+SlOVczsD0JkFuSpGVpmHyz7HHPe3IK5xVvDUZaeZ6YlNvGZdSh6br0Sk0zLmFO8RU3BEOHJJFkRmXQxRWYbVu1V6VYtLsO7b28NyyynpmZIM3Wbn5Topog+lozMtESi84h97yIr3c1JsTtZfrNVTA1IIo+gyky4x3KLP/VBR2Bu9Z18HTqjYofsKurIKTnHUdXljHcM6kl1nHydmaS5LRNf40VnOgJze5Vz/Jg0K5GZTLsQaf3+kmlhmYmkxjxcGhaRjKvJtIuh/eepuWgyniZPOWW6hkzhkCkem9f9B38fskRFam+/tFGNmznnmeXUpNlU24U86tc3UjI3QmrXq+gOJiGg8HW0ANOYIxZUmcl4l4jJ66qnagwbNizmHE9jZxUs9fhXmLHLRvmXVqyYXCMzA3XkUoSEu+SnSRKhyYMAGQe7+eabY7qVsk+OSRpJ69fPmSSakgmzEmnJeJce2JeupERnepWnmvKLABGfnKMjNnmVAf9FJZW/EHh9zIeQibgSwcmYmqTJuZ8zJazxKg5qoWVeZlUUhIdJIE0C0U83JTKTfX4tzl8BOKXkdVsLymt6SedHF1P4+TY1I93KEqFRZulS5Pm2CUgEFt21LCur6hfz5krNPwFkjiVzIoFqT0AiMefqNxD+cUa/ifN6JEACGSMQPU0jmW6j17R+TMdwAsqabqaz0NwmARJIj4B0N6Mn0XqVlJd0krdff2FWk6DMNAm+kkA1I8B/NVfNKpwflwRymYBETya7nJKX3xGZrh9GZpoEX0mgGhMw8VDAz//E5FZVlJkbFe4jgWpIQCIqmRMW/aeCEo2RSVo5x1Y05qwmysxJg9skQALqn4/Iz49EUtJtlMF8kZassi375Jik8eMflXitEsrMKymmIwESCDQByizQ1cPCkQAJeCVAmXklxXQkQAKBJkCZBbp6WDgSIAGvBCgzr6SYjgRIINAEKLNAVw8LRwIk4JUAZeaVFNORAAkEmgBlFujqYeFIgAS8EqDMvJJiOhIggUAToMwCXT0sHAmQgFcClJlXUkxHAiQQaAKUWaCrh4UjARLwSoAy80qK6UiABAJNgDILdPWwcCRAAl4JUGZeSTEdCZBAoAlQZoGuHhaOBEjAKwEls02bNoErGbANsA1kcxtgZOZV+0xHAiQQaAKUWaCrh4UjARLwSoAy80qK6UiABAJNgDILdPWwcCRAAl4JUGZeSTEdCZBAoAlQZoGuHhaOBEjAKwHKzCsppvOVgEwR4JIZArnKljLLTHthrmkSyNUbLk0sRk7PVbaUmZHmwUxME8jVG840p1Tyy1W2lFkqrYHnZJxArt5wGQfn4QK5ypYy81D5gUuyYjT6FBajLNmClRWjsM9orEz2PAvpbd9wM2fOxPbt23355LtnjcSQ8WvD14p+Hz5gaMM2W0MfIyYbyiwGSXB2rBzVB6NXuJSnCpmVvVGIPqNclEWZucCM3TVmzBj069cPgwYN8ii03Zg9cgjGVfho7fghGDIk/qrTqSvvno2RQ0Zi9m5djrUYF/Fe7zf3SpmZY8mcPBJwykwJqk8f9HFdC1EcDtNWYrQz+hLxuZ5TnperLD2WL5PJbN1we/fuxcCBA5XMtNBkX9xl7TglrpGzwjaKmzT2gIgrvvQihOiI3GLzSW6PLbbJlTL51IzMkmeW+TOiBVQRZYnQCt8IWwuAm7i02KKOSakZmSWsu1dffVVFYtK9dApt0aJFCc6TqKwishKxKekkkFRYSjqNMyoDIHmMnI1U1JigkBGHKLMIHHzjBwFnZKauJzJyjJXFyg2Qc/oUjsboQt1FLUNxYZyIzpGXH58nmWv4fcNFdy210GR/1UuFmMISWotx4W3H2dKlrJCZjIuNnLVWdU8jIjDXSC1KeI4sU9nMBNuioiIVoaZSHlPnMDIzRTID+VTKTKKsOEKq2O+M2Nwkl4HiZTTLTNxw8QqsRSbdSt21FJkl7F5GZFYhL5GVkpiOuly6kOHITDJwRHU6vyyMzERkoVBIrSJmWwtlZou8h+uqKEtk5RjMV2Nnjvcx2UgXVR1fidESeamuZTwR6i5pTC5V7ti5cyeGDh2acJU0qS5+ySxaZFpo0uX0sqgnjxHRlERRcSKzmAzLHxxkc2TmFJltoVFmMQ3M/o6wxPpUdBUTCqlCVKNWQokuIoIrRPGKYhTGkd/KUanLTCjt2LEDffv2jXnAIPvkWDqLHzKLJzJvXcvITydSCz+lVE8oXaIyJT1nlzG7IzOnyGTb+d5GhEaZRbbJQL2r7GZWFCscdeliugzyyzh/xYMCeQ0/rdTnRo276ZxSfY0WmgmRSVkyLTNjIqsYByuX2W7MHj8bux1POLXk1o4XiUXLy2tkJmIch8qZaKnWVvl5Jtg6xSXbenHu91tolJmuhQC+RsqsfCA/LCd5ljmqT9TTzfIPoWXm/EjhfYZlJtfQQjMlMsnTxA3n/PzObWMik0zXjoNMy6iU1jjMlsH9kSPjzDVzRmbOUpVvSz6pTfOIzSvennTZOoXlFJm+nvO4n0KjzHQNBPA1UmZSwKgnk9FPI0VUFd1NeSBQGZnJeRVdSofMwoIz8NlFaOl2LZ3FSPeGc+bl3DYqMsk4Smblg/rjsDZqf0xklrAr6tZFTSxB52esajtdtlpWbiLT1/aSRqc19UqZmSKZgXxiZVYx9ULGxQoLUaheK3/WpOUVLSnJJ/wQIUMyM/3x073h3MpjXGTisvHlM/91ZKbmickTy6pk5ixgRbdUxtzCkZnsi3jy6TwhvW0TbL18cXlJk94niTybMovkEYh3IqPyWfsV0ZRjEq1zCoYqrMjJOePfMWamI7nIcyKneTi7rYH48BWFMHHDOT+P/NZSP6l0vorgTCxhmenMXGQ2brx0PcvHviR9+CmmQ1phmUk+FZLT6Ux1P02z1R/Z9itlZrsGeH1XAqZvuOLi4hiZmRKZ6wcI8E7TbIPyUSmzoNQEyxFBwPQNFy2z6ioygWyabUTFWXxDmVmEz0vHJ2D6htuwYQNEaLJKl7M6L6bZBoUlZRaUmmA5Igjk6g0X8SEtvclVtpSZpQbFyyYmkKs3XOJP7c/RXGVLmfnTfniVJAnk6g2XJIaMJM9VtpRZRpoLM02XQK7ecOlyMXF+rrKlzEy0DuZBAiRgnQBlZr0KWAASIAETBCgzExSZBwmQgHUClJn1Kp4R9z0AAAU8SURBVGABSIAETBCgzExQZB4kQALWCSiZydMNrmTANsA2kM1tQMnsxx9/BFcyYBtgGwhSGygtLYXXtaSkBOxmWg+OWQASIAE3AitXrsSuXbs8rZKWMnOjyH0kQALWCVBm1quABSABEjBBgDIzQZF5kAAJWCdAmVmvAhaABEjABAHKzARF5kECJGCdAGVmvQpYABIgARMEKDMTFJkHCZCAdQKUmfUqYAFIgARMEKDMTFBkHiRAAtYJUGbWq4AFIAESMEGAMjNBkXmQAAlYJ0CZWa8CFoAESMAEAcrMBEXmQQIkYJ0AZWa9ClgAEiABEwQoMxMUmQcJkIB1ApSZ9SpgAUiABEwQoMxMUGQeJEAC1glQZtargAUgARIwQYAyM0GReZAACVgnQJlZrwIWgARIwAQByswEReZBAiRgnQBlZr0KWAASIAETBCgzExSZBwmQgHUClJn1KmABSIAETBCgzExQZB4kQALWCVBm1quABSABEjBBgDIzQZF5kAAJWCdAmVmvAhaABEjABAHKzARF5kECJGCdAGVmvQpYABIgARMEKDMTFJkHCZCAdQKUmfUqYAFIgARMEKDMTFBkHiRAAtYJUGbWq4AFIAESMEGAMjNBkXmQAAlYJ0CZWa8CFoAESMAEAcrMBEXmQQIkYJ0AZWa9ClgAEiABEwQoMxMUmQcJkIB1ApSZ9SpgAUiABEwQoMxMUGQeJEAC1glQZtargAUgARIwQYAyM0GReZAACVgnQJlZrwIWgARIwAQByswEReZBAiRgnQBlZr0KWAASIAETBCgzExSZBwmQgHUClJn1KmABSIAETBCgzExQZB4kQALWCVBm1quABSABEjBBgDIzQZF5kAAJWCdAmVmvAhaABEjABAHKzARF5kECJGCdAGVmvQpYABIgARMEKDMTFJkHCZCAdQKUmfUqYAFIgARMEKDMTFBkHiRAAtYJUGbWq4AFIAESMEGAMjNBkXmQAAlYJ0CZWa8CFoAESMAEAcrMBEXmQQIkYJ0AZWa9ClgAEiABEwQoMxMUmQcJkIB1ApSZ9SpgAUiABEwQoMxMUGQeJEAC1glQZtargAUgARIwQYAyM0GReZAACVgnQJlZrwIWgARIwAQByswEReZBAiRgnQBlZr0KWAASIAETBCgzExSZBwmQgHUClJn1KmABSIAETBCgzExQZB4kQALWCVBm1quABSABEjBBgDIzQZF5kAAJWCdAmVmvAhaABEjABAHKzARF5kECJGCdAGVmvQpYABIgARMEKDMTFJkHCZCAdQKUmfUqYAFIgARMEKDMTFBkHiRAAtYJUGbWq4AFIAESMEGAMjNBkXmQAAlYJ0CZWa8CFoAESMAEAcrMBEXmQQIkYJ0AZWa9ClgAEiABEwQoMxMUmQcJkIB1ApSZ9SpgAUiABEwQoMxMUGQeJEAC1glQZtargAUgARIwQYAyM0GReZAACVgnQJlZrwIWgARIwAQByswEReZBAiRgnQBlZr0KWAASIAETBCgzExSZBwmQgHUClJn1KmABSIAETBCgzExQZB4kQALWCcyYMQMiNC+rpC0ZMQBHWS81C0ACJEACaRKgzNIEyNNJgASCQYAyC0Y9sBQkQAJpEqDM0gTI00mABIJBgDILRj2wFCRAAmkSoMzSBMjTSYAEgkGAMgtGPbAUJEACaRKgzNIEyNNJgASCQYAyC0Y9sBQkQAJpEqDM0gTI00mABIJBgDILRj2wFCRAAmkSoMzSBMjTSYAEgkGAMgtGPbAUJEACaRKgzNIEyNNJgASCQUBk9v/f1lCF7JvQ4AAAAABJRU5ErkJggg==)"
      ]
    },
    {
      "cell_type": "markdown",
      "metadata": {
        "id": "rdpCQn416-tz",
        "colab_type": "text"
      },
      "source": [
        "接続が成功したら Google colaboratory が本来想定しているpythonでコードを書いて実行してみよう．次のコードセルにpythonコードを書いてあるので実行してみよう．"
      ]
    },
    {
      "cell_type": "code",
      "metadata": {
        "id": "EgP7OlI6DMrX",
        "colab_type": "code",
        "colab": {}
      },
      "source": [
        "# 本来はこのようにpythonのコードを書く\n",
        "print(\"Hello, python on google colaboratory!\")"
      ],
      "execution_count": null,
      "outputs": []
    },
    {
      "cell_type": "markdown",
      "metadata": {
        "id": "E1tfWRJA7pL3",
        "colab_type": "text"
      },
      "source": [
        "---\n",
        "# Editor preference\n",
        "\n",
        "To align the appearance of the materials in this lecture, change the preferences of the Editor of Google Colaboratory. It can be set from the gear icon to the right of \"Share\" in the figure above.  \n",
        "\n",
        "* Indent width (space)  as 4  \n",
        "* Show line numbers  \n",
        "* Show indent guides \n"
      ]
    },
    {
      "cell_type": "markdown",
      "metadata": {
        "colab_type": "text",
        "id": "6y6zqysP7J2F"
      },
      "source": [
        "---\n",
        "# bash commands (a line starting with ! in code cell)  \n",
        "\n",
        "The code cell is originally designed to describe (edit) python directly (executed in the ipython environment). ipython has been extended to run bash commands from there. In that case, the beginning of the line is set as!, and the bash command is written after the second character.\n",
        "\n",
        "The contents of the code cell are passed to python (ipython) and executed, but when ipython finds a line that begins with !, it prepares bash for each line and executes the command to the bash. \n",
        "\n",
        "In the following example, bash is called six times per line. \n",
        "\n",
        "\n",
        "\n"
      ]
    },
    {
      "cell_type": "code",
      "metadata": {
        "id": "rEX5rFmZ78gJ",
        "colab_type": "code",
        "colab": {}
      },
      "source": [
        "!echo \"show system name\"\n",
        "!uname -a\n",
        "!echo \"current time in UTC time display\"\n",
        "!date\n",
        "!echo \"current time in Japane standard time\"\n",
        "!TZ='Asia/Tokyo'; export TZ; date"
      ],
      "execution_count": null,
      "outputs": []
    },
    {
      "cell_type": "markdown",
      "metadata": {
        "id": "1zrU68VNekDy",
        "colab_type": "text"
      },
      "source": [
        "To fix the time display in JST on this Jupyter environment, run these commands. "
      ]
    },
    {
      "cell_type": "code",
      "metadata": {
        "id": "eSDGLZOJe63p",
        "colab_type": "code",
        "colab": {}
      },
      "source": [
        "!echo \"time display default to JST\"\n",
        "!rm /etc/localtime\n",
        "!ln -s /usr/share/zoneinfo/Japan /etc/localtime\n",
        "!date"
      ],
      "execution_count": null,
      "outputs": []
    },
    {
      "cell_type": "markdown",
      "metadata": {
        "id": "ULbw_QCL9TCh",
        "colab_type": "text"
      },
      "source": [
        "It is possible to execute the bash command in the code cell by the above method, but there are times when it is somewhat inconvenient because an external shell is prepared in each line.  \n",
        "\n",
        "The typical example is cd, and bash running cd is cleared up at the end of the line, so the results of the previous cd are not reflected when the bash command is executed on the next line.  \n",
        "\n",
        "It is necessary to devise the work, such as moving the folder by preparing two lines of cd. Example 1 below, is a failure example. Example 2 writes three bash commands in succession on a line (\";\" it is connected by) and has been successful. "
      ]
    },
    {
      "cell_type": "code",
      "metadata": {
        "id": "OMTalyuM9HPo",
        "colab_type": "code",
        "colab": {}
      },
      "source": [
        "!echo \"Example 1: line 2, 3, and 4 are NOT executed in the same bash.\"\n",
        "!pwd\n",
        "!cd /var/log\n",
        "!pwd"
      ],
      "execution_count": null,
      "outputs": []
    },
    {
      "cell_type": "code",
      "metadata": {
        "id": "GW-c4NCB9r1N",
        "colab_type": "code",
        "colab": {}
      },
      "source": [
        "!echo \"Example 2: The commands are sent to one bash command if written in one line.\"\n",
        "!pwd ; cd /var/log ; pwd\n",
        "!echo \"But passed to other (new) bash if new line is placed.\"\n",
        "!pwd"
      ],
      "execution_count": null,
      "outputs": []
    },
    {
      "cell_type": "markdown",
      "metadata": {
        "colab_type": "text",
        "id": "cMEEUTm57SJU"
      },
      "source": [
        "---\n",
        "# line magic(%) and cell magic (%%)\n",
        "\n",
        "To eliminate the inconvenience of executing the programs, ipython prepares magic commands as their extension.   \n",
        "\n",
        "A full list can be accessed by:\n",
        "\n",
        "* %lsmagic\n",
        "\n",
        "\n",
        "**Available line magics:**  \n",
        "> %alias  %alias_magic  %autocall  %automagic  %autosave  %bookmark  %cat  %cd  %clear  %colors  %config  %connect_info  %cp  %debug  %dhist  %dirs  %doctest_mode  %ed  %edit  %env  %gui  %hist  %history  %killbgscripts  %ldir  %less  %lf  %lk  %ll  %load  %load_ext  %loadpy  %logoff  %logon  %logstart  %logstate  %logstop  %ls  %lsmagic  %lx  %macro  %magic  %man  %matplotlib  %mkdir  %more  %mv  %notebook  %page  %pastebin  %pdb  %pdef  %pdoc  %pfile  %pinfo  %pinfo2  %pip  %popd  %pprint  %precision  %profile  %prun  %psearch  %psource  %pushd  %pwd  %pycat  %pylab  %qtconsole  %quickref  %recall  %rehashx  %reload_ext  %rep  %rerun  %reset  %reset_selective  %rm  %rmdir  %run  %save  %sc  %set_env  %shell  %store  %sx  %system  %tb  %tensorflow_version  %time  %timeit  %unalias  %unload_ext  %who  %who_ls  %whos  %xdel  %xmode\n",
        "\n",
        "** Available cell magics: **  \n",
        "> %%!  %%HTML  %%SVG  %%bash  %%bigquery  %%capture  %%debug  %%file  %%html  %%javascript  %%js  %%latex  %%perl  %%prun  %%pypy  %%python  %%python2  %%python3  %%ruby  %%script  %%sh  %%shell  %%svg  %%sx  %%system  %%time  %%timeit  %%writefile\n",
        "\n",
        "**line magic** is a magic command in the form of one line. Usually, they intend to mimic original bash commands.  \n",
        "**cell magic** is a magic command that occupies one whole code cell. In this course, writefile magic command will be frequently used to describe a C program. Unfortunately, there is no cell magic that corresponds to support C programs, but writefile command can render the C program quite well.\n",
        "\n",
        "\n"
      ]
    },
    {
      "cell_type": "code",
      "metadata": {
        "id": "KzM39eKh7zHs",
        "colab_type": "code",
        "colab": {}
      },
      "source": [
        "%lsmagic"
      ],
      "execution_count": null,
      "outputs": []
    },
    {
      "cell_type": "markdown",
      "metadata": {
        "id": "W3tMMsxmE9Lf",
        "colab_type": "text"
      },
      "source": [
        "By mixing magic commands, the bash commmands work as if they are passed to a single bash."
      ]
    },
    {
      "cell_type": "code",
      "metadata": {
        "id": "fyCUztMvE8Bx",
        "colab_type": "code",
        "colab": {}
      },
      "source": [
        "!echo \"Note that line 3 is not a bash command but a magic command.\"\n",
        "!pwd\n",
        "%cd /usr/share\n",
        "!pwd"
      ],
      "execution_count": null,
      "outputs": []
    },
    {
      "cell_type": "markdown",
      "metadata": {
        "colab_type": "text",
        "id": "1plvLHHQ7dP5"
      },
      "source": [
        "---\n",
        "# Mount of Google Drive\n",
        "\n",
        "In this class, when you connect to a runtime environment in Google Colaboratory, you will mount Google Drive. \n",
        " \n",
        "Google account authentication is required when connecting. \n",
        "This needs to be done only once for each new runtime connection. \n",
        "Run the code cell and click the link \"Go to this URL in a browser.\" \n",
        "Follow the instructions to issue permission, copy the displayed URL, and enter it in the first \"Enter your authorization code:\"\n",
        "\n",
        "\n"
      ]
    },
    {
      "cell_type": "code",
      "metadata": {
        "id": "KP2LSjbe-uQX",
        "colab_type": "code",
        "colab": {}
      },
      "source": [
        "!echo \"Google Driveをマウントします\"\n",
        "from google.colab import drive \n",
        "drive.mount('/content/drive')"
      ],
      "execution_count": null,
      "outputs": []
    },
    {
      "cell_type": "markdown",
      "metadata": {
        "id": "dHNk8CCuTvIw",
        "colab_type": "text"
      },
      "source": [
        "---\n",
        "# Your first C program in colab\n",
        "\n",
        "\n",
        "Now, in accordance with tradition, let's create and execute a C language program that displays \"Hello World.\" \n",
        "\n",
        "1. Use writefile cell magic to create helloworld.c  (The file is produce upon execution)\n",
        "2. comple helloworld.c by gcc\n",
        "3. run the binary file on bash"
      ]
    },
    {
      "cell_type": "code",
      "metadata": {
        "id": "5fKIhbMqVMGV",
        "colab_type": "code",
        "colab": {}
      },
      "source": [
        "%%writefile helloESYS.c\n",
        "// My first C pgoram on G-Colab at G-Drive\n",
        "#include <stdio.h>\n",
        "int main(int argc, char *argv[]){\n",
        "    printf(\"Hello, World!\\n\");\n",
        "    return 0;\n",
        "}"
      ],
      "execution_count": null,
      "outputs": []
    },
    {
      "cell_type": "code",
      "metadata": {
        "id": "DhlQ2E46Vidv",
        "colab_type": "code",
        "colab": {}
      },
      "source": [
        "!gcc -Wall -o helloworld helloESYS.c\n",
        "!pwd\n",
        "!ls -l\n",
        "!echo \"Let's go!\"\n",
        "!./helloworld\n"
      ],
      "execution_count": null,
      "outputs": []
    },
    {
      "cell_type": "markdown",
      "metadata": {
        "colab_type": "text",
        "id": "5di82GWd7mRd"
      },
      "source": [
        "---\n",
        "# Saving produced files\n",
        "\n",
        "The \"Colab notebook\" console is automatically stored under a folder called Colab notebook under Google Drive/My Drive on each Google account. \n",
        "\n",
        "Normally, all files generated as a result of code cell execution disappear when the runtime connection is terminated (the virtual Linux was shutdown). \n",
        "\n",
        "However, files generated on Google drive remain on Google drive even if virtual Linux disappears. \n",
        "\n",
        "\n"
      ]
    },
    {
      "cell_type": "markdown",
      "metadata": {
        "colab_type": "text",
        "id": "9Vay1R627s1-"
      },
      "source": [
        "---\n",
        "# Submission of notebook\n",
        "\n",
        "If you download it in an ipynb format, it can be saved as a Jupyter notebook. However, a Jupyter notebook environment is required to open the file.  \n",
        "\n",
        "At the time of assignment submission, it is desirable to download it with the output after the execution and submit it. Just in case, it is also a good idea to put the production in pdf. However, if there is a large output part, it may not be possible to confirm it in pdf format. \n",
        "\n",
        "\n"
      ]
    },
    {
      "cell_type": "markdown",
      "metadata": {
        "id": "tNvRWtTYgtCA",
        "colab_type": "text"
      },
      "source": [
        "---\n",
        "# Termination of runtime environment\n",
        "\n",
        "After the jupyter notebook is stopped on the browser, the runtime connection is automatically terminated within 90 minutes. If you want to end with your own hands, select session management from the \"connection\" menu and select \"End\" for the session. "
      ]
    },
    {
      "cell_type": "markdown",
      "metadata": {
        "id": "BVrCtfpcikQQ",
        "colab_type": "text"
      },
      "source": [
        "# End of clause problem\n",
        "\n",
        "1. Modifying and executing helloworld.c   \n",
        "Rewrite helloworld.c appropriately, compile it, run it, and check the result. \n",
        "\n",
        "2. Google drive integration   \n",
        "Make sure that the files generated by Google drive can be accessed on the runtime connection environment side.   \n",
        "(May cause slight synchronization delay) \n",
        "\n",
        " 3. Google drive double collaboration   \n",
        "If you are using a Windows PC, synchronize google drive with \"Backup and sync from google\" to an area such as HDD/SSD of the PC, and make sure that the files dropped into the folder on the Windows PC can be accessed in the runtime connection environment.   \n",
        "(Synchronization delay may occur for about a few seconds) \n"
      ]
    },
    {
      "cell_type": "markdown",
      "metadata": {
        "id": "bF91qZjRwsDc",
        "colab_type": "text"
      },
      "source": [
        "#**Course Info**\n",
        "\n",
        "https://github.com/kameda-yoshinari/DataAlgo-T  \n",
        "Course: Data structure and algorithm  \n",
        "Department of Engineering Systems, University of Tsukuba,Japan.  \n",
        "Author: KAMEDA, Yoshinari  \n",
        "2020.05.19. -  \n"
      ]
    }
  ]
}