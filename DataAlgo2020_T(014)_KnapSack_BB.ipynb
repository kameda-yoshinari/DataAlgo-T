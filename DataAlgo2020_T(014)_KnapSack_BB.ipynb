{
  "nbformat": 4,
  "nbformat_minor": 0,
  "metadata": {
    "colab": {
      "name": "DataAlgo2020-T(014) KnapSack-BB",
      "provenance": [],
      "collapsed_sections": [
        "yRmydXneMgT8",
        "CdQdV_MJIlce",
        "4s3BWazcz1FB",
        "dd-hVe7gXiCk",
        "DY_MbwoPf_9h",
        "cZ-1SycnqxVa"
      ],
      "authorship_tag": "ABX9TyNJES5+1fgEdjlJiXQwMvxv",
      "include_colab_link": true
    },
    "kernelspec": {
      "name": "python3",
      "display_name": "Python 3"
    }
  },
  "cells": [
    {
      "cell_type": "markdown",
      "metadata": {
        "id": "view-in-github",
        "colab_type": "text"
      },
      "source": [
        "<a href=\"https://colab.research.google.com/github/kameda-yoshinari/DataAlgo-T/blob/master/DataAlgo2020_T(014)_KnapSack_BB.ipynb\" target=\"_parent\"><img src=\"https://colab.research.google.com/assets/colab-badge.svg\" alt=\"Open In Colab\"/></a>"
      ]
    },
    {
      "cell_type": "markdown",
      "metadata": {
        "id": "yRmydXneMgT8",
        "colab_type": "text"
      },
      "source": [
        "# 6.3. Branch-and-Bound Search\n",
        "\n",
        "On backtracking, solution candidates are reduced by checking the conditions the the solutions should fit.\n",
        "\n",
        "On Branch-and-Bound approach, we step forward to reduce more candidates by predicting that the candidates won't meet the requirement.\n",
        "\n",
        "To realize branch-and-bound approach, we need smart mind because we have to predict this time.\n",
        "\n",
        "In this section, we pick up another very famous problem called Knapsack problem and go through brute-force, backtracking, and branch-and-bound.\n",
        "\n",
        "**Reminder**  \n",
        "On github, rendering might not be in good shape.  \n",
        "To see the expected layout, open this page in Google Colaboratory.\n",
        "To run one specific code cell in colab, click the icon on the left part or just type Ctrl + Enter.  \n"
      ]
    },
    {
      "cell_type": "markdown",
      "metadata": {
        "id": "CdQdV_MJIlce",
        "colab_type": "text"
      },
      "source": [
        "# Preparation\n",
        "\n",
        "Connect the Jupyter environment and invoke a runtime. \n",
        "Mount your Google Drive by the procedure below.  \n",
        "Change directory to the mounted point and make it as the working folder.  \n",
        "By then, files are preserved even after you terminate the runtime environment."
      ]
    },
    {
      "cell_type": "code",
      "metadata": {
        "id": "DMtqXRXJIPMR",
        "colab_type": "code",
        "colab": {}
      },
      "source": [
        "!echo \"Mounting your Google Drive\"\n",
        "from google.colab import drive \n",
        "drive.mount('/content/drive')"
      ],
      "execution_count": null,
      "outputs": []
    },
    {
      "cell_type": "code",
      "metadata": {
        "id": "SABzmuELIaj2",
        "colab_type": "code",
        "colab": {}
      },
      "source": [
        "!echo \"Make a working folder and chnage directory to it\"\n",
        "%cd /content/drive/My\\ Drive\n",
        "%mkdir -p DataAlgo-T/014\n",
        "%cd       DataAlgo-T/014\n",
        "!ls"
      ],
      "execution_count": null,
      "outputs": []
    },
    {
      "cell_type": "markdown",
      "metadata": {
        "id": "4s3BWazcz1FB",
        "colab_type": "text"
      },
      "source": [
        "# Knapsack problem\n",
        "\n",
        "**Problem definition**\n",
        "\n",
        "Suppose you are a world-famous theif.\n",
        "\n",
        "In the museum, there are N objects. Each object has its value and weight. \n",
        "\n",
        "At one night, you decide to pick up as many objects as possible from the museum with your knapsack. It can carry upto W kg, but if the total weight exceed the W kg, it will break and you will be arrested.\n",
        "\n",
        "The problem here is, which objects should be picked up to maximize the total value you carry out?\n",
        "\n",
        "(I ask you good students just imagine this situation, never do that!)\n",
        "\n",
        "Note  all the values V<sub>i</sub> and weights W<sub>i</sub> (for i = 0, ..., N-1) are positive value.\n",
        "\n",
        "\n",
        "**Heuristic search**\n",
        "\n",
        "Smart people like you first think value per weight index for each object, sort objects by the index, and pick them up from the best one until the weight limit W comes.\n",
        "\n",
        "It is very practical, and it gives the best performance if you can fractuate objects into any weights. However, on this problem, it might not give you the best solution. \n",
        "\n"
      ]
    },
    {
      "cell_type": "markdown",
      "metadata": {
        "id": "dd-hVe7gXiCk",
        "colab_type": "text"
      },
      "source": [
        "# Brute-force search for knapsack problem\n",
        "\n",
        "AApparently a choice on one object is two-fold. You pick it up, or leave it. As there are N objects, the number of the total solution candidates is 2<sup>N</sup>.\n",
        "\n",
        "Then, for each candidate, verify the candidate is within the weight limit. Among the successful solutions, find the largest value total and that is the answer.\n",
        "\n",
        "2<sup>N</sup> is in the category of combinatorial explosion. So it will be very difficult to find the answer as N becomes large. By this property, it was once used to provide cipher in digital world.\n",
        "\n",
        "In the program below, objects info is stored in the structured array obj[]."
      ]
    },
    {
      "cell_type": "code",
      "metadata": {
        "id": "HoArR1v64y5Y",
        "colab_type": "code",
        "colab": {}
      },
      "source": [
        "%%writefile Knapsack-bf_E.c\n",
        "// Knapsack problem solution by Bluteforce\n",
        "// kameda[at]ccs.tsukuba.ac.jp, 2020.\n",
        "#include <stdio.h>\n",
        "#include <stdlib.h> // atoi\n",
        "\n",
        "typedef struct {int v; int w;} knapsack_t;\n",
        "\n",
        "#define N 8\n",
        "\n",
        "// Weight Limit\n",
        "int wlimit = 0;\n",
        "\n",
        "// (value, weight)\n",
        "knapsack_t obj[N] =\n",
        "{\n",
        "\t{ 15,  6},\n",
        "\t{100, 20},\n",
        "\t{ 90, 25},\n",
        "\t{ 60, 30},\n",
        "\t{ 40, 40},\n",
        "\t{ 15, 28},\n",
        "\t{ 16, 29},\n",
        "\t{  3, 10}\n",
        "};\n",
        "\n",
        "// 1...Pickup, 0...Discard\n",
        "int stat[N]; \n",
        "\n",
        "// Maximum Value in the knapsack and tis weight\n",
        "knapsack_t max = {0, 0};\n",
        "\n",
        "// Show knapsack up to the object 0 ... currentobj\n",
        "void showknapsack(int currentobj){\n",
        "    int i;\n",
        "\n",
        "\tprintf(\"List(value) at Object %d : \", currentobj);\n",
        "\tfor (i = 0; i <= currentobj; i++) {\n",
        "\t\tprintf(\"%3d \", stat[i] ? obj[i].v : 0);\n",
        "\t}\n",
        "\tfor (i = currentobj + 1; i < N; i++) {\n",
        "\t\tprintf(\"--- \");\n",
        "\t}\n",
        "\tprintf(\": val = %4d (weight = %4d)\\n\", max.v, max.w);\n",
        "}\n",
        "\n",
        "// Examine the object oid to pickup or not\n",
        "// oid        ... Object ID to examine\n",
        "// ks_current ... current status of the knapsack at this moment\n",
        "void pickobject(int oid, knapsack_t ks_current){\n",
        "\tknapsack_t ks_next; // next status of the knapsack\n",
        "\n",
        "    // End of the search\n",
        "\tif (oid >= N) {\n",
        "        if (ks_current.w <= wlimit) {\n",
        "            // New record (update the answer) ?\n",
        "\t\t    if (ks_current.v > max.v) {\n",
        "                // Current knapsack is record-breaking\n",
        "\t\t\t    max.v = ks_current.v;\n",
        "\t\t\t    max.w = ks_current.w;\n",
        "                printf(\"New record ! (%3d) \", max.v);\n",
        "\t\t\t    showknapsack(oid - 1);\n",
        "\t    \t} else {\n",
        "                printf(\"............ (%3d) \", ks_current.v);\n",
        "\t\t\t    showknapsack(oid - 1);              \n",
        "            }\n",
        "        } else {\n",
        "            printf(\"...weight NG [%3d] \", ks_current.w);\n",
        "\t\t    showknapsack(oid - 1);              \n",
        "        }\n",
        "\t\treturn ;\n",
        "\t}\n",
        "\n",
        "    //---------------------\n",
        "    // Search : two choices\n",
        "    //---------------------\n",
        "\n",
        "    // ----\n",
        "    // choice of Pickup (stat[oid] = 1)\n",
        "    // ----\n",
        "\n",
        "\t// Let's think about PICKING UP the object oid from now.                     \n",
        "\t// stat[0] ... stat[i] with stat[i]=1\n",
        "    {\n",
        "\n",
        "\t\tstat[oid] = 1; // Mark (Pick it up!)\n",
        "\n",
        "\t\t// Pick up object oid and proceed to the next object to examine\n",
        "    \t// When the object is taken, you have to update the knapsack status. \n",
        "\t\t// [Recursive call]\n",
        "\t\tks_next.v = ks_current.v + obj[oid].v;\n",
        "\t\tks_next.w = ks_current.w + obj[oid].w;\n",
        "\t\tpickobject(oid + 1, ks_next);\n",
        "\n",
        "\t\t// On returning to here, we have done everything with stat[0] ... stat[i] with stat[i]=1\n",
        "\t\t// Okey, it's over, clean it up\n",
        "\n",
        "\t\tstat[oid] = 0; // Unmark\n",
        "\t}\n",
        "\n",
        "\t//----\n",
        "\t//　choice of Discard (stat[i] = 0)\n",
        "\t//----\n",
        "\n",
        "\t// Let's think about EXCLUDING the object oid from now.                     \n",
        "\t// stat[0] ... stat[i] with stat[i]=0\n",
        "    {\n",
        "    \t// When the object is excluded, you don't need to update the knapsakc status. \n",
        "\n",
        "        // Nothing to mark\n",
        "\n",
        "\t    // Leave object oid and proceed to the next object to examine\n",
        "\t    pickobject(oid + 1, ks_current);\n",
        "\n",
        "        // Nothing to unmark\n",
        "    }\n",
        "\n",
        "    return ;\n",
        "}\n",
        "\n",
        "// Main function\n",
        "int main(int argc, char *argv[]){\n",
        "\tknapsack_t ks_init = {0, 0};\n",
        "\n",
        "    // examine options\n",
        "    if (argc != 2) {\n",
        "        printf(\"Please set the weight limit (positive integer).\\n\");\n",
        "        return -1;\n",
        "    }\n",
        "    wlimit = atoi(argv[1]);\n",
        "\n",
        "    // Go\n",
        "\tpickobject(0, ks_init);\n",
        "\t\n",
        "\tprintf(\"Result\\n\");\n",
        "\tprintf(\"weight_limit = %d\\n\", wlimit);\n",
        "\tprintf(\"maxv = %d (with weight %d)\\n\", max.v, max.w);\n",
        "\treturn 0;\n",
        "}\n"
      ],
      "execution_count": null,
      "outputs": []
    },
    {
      "cell_type": "markdown",
      "metadata": {
        "id": "cdYggf-iySer",
        "colab_type": "text"
      },
      "source": [
        "Compile it and check no errors."
      ]
    },
    {
      "cell_type": "code",
      "metadata": {
        "id": "AxhCdx3s5usv",
        "colab_type": "code",
        "colab": {}
      },
      "source": [
        "!gcc -Wall -o Knapsack-bf_E Knapsack-bf_E.c"
      ],
      "execution_count": null,
      "outputs": []
    },
    {
      "cell_type": "markdown",
      "metadata": {
        "id": "739RxJXQaQ2v",
        "colab_type": "text"
      },
      "source": [
        "The first option is treated as weight limit. Run the program with the weight limit 112."
      ]
    },
    {
      "cell_type": "code",
      "metadata": {
        "id": "qaxhXoQr599T",
        "colab_type": "code",
        "colab": {}
      },
      "source": [
        "!./Knapsack-bf_E 112"
      ],
      "execution_count": null,
      "outputs": []
    },
    {
      "cell_type": "markdown",
      "metadata": {
        "id": "BAgAnfuwaZN-",
        "colab_type": "text"
      },
      "source": [
        "Count the displayed linesas one line corresponds to one candidate.\n",
        "The last three lines are for the summary, so you can confirm the candidates are exactly 256. \n",
        "(wc -l counts the lins from stdin)."
      ]
    },
    {
      "cell_type": "code",
      "metadata": {
        "id": "sUjsF2tJaiNo",
        "colab_type": "code",
        "colab": {}
      },
      "source": [
        "!./Knapsack-bf_E 112 | wc -l"
      ],
      "execution_count": null,
      "outputs": []
    },
    {
      "cell_type": "markdown",
      "metadata": {
        "id": "5QkNub1bXi1l",
        "colab_type": "text"
      },
      "source": [
        "# Backtracking search for knapsack problem\n",
        "\n",
        "Rewriting the Knapsack-bf_E.c to do backtracking should be rather easy as there is only one condition -- weight limit.\n",
        "\n",
        "The updated program is shown below. Before you see the program, you are encouraged to discuss how it should be modified from the original Knapsack-bf_E.c program.\n",
        "\n",
        "Make sure where is the backtracking part.\n",
        "\n",
        "\n",
        "\n",
        "\n"
      ]
    },
    {
      "cell_type": "code",
      "metadata": {
        "id": "Eo2CM8EqZi97",
        "colab_type": "code",
        "colab": {}
      },
      "source": [
        "%%writefile Knapsack-bt_E.c\n",
        "// Knapsack problem solution by Backtrack\n",
        "// kameda[at]ccs.tsukuba.ac.jp, 2020.\n",
        "#include <stdio.h>\n",
        "#include <stdlib.h> // atoi\n",
        "\n",
        "typedef struct {int v; int w;} knapsack_t;\n",
        "\n",
        "#define N 8\n",
        "\n",
        "// Weight Limit\n",
        "int wlimit = 0;\n",
        "\n",
        "// (value, weight)\n",
        "knapsack_t obj[N] =\n",
        "{\n",
        "\t{ 15,  6},\n",
        "\t{100, 20},\n",
        "\t{ 90, 25},\n",
        "\t{ 60, 30},\n",
        "\t{ 40, 40},\n",
        "\t{ 15, 28},\n",
        "\t{ 16, 29},\n",
        "\t{  3, 10}\n",
        "};\n",
        "\n",
        "// 1...Pickup, 0...Discard\n",
        "int stat[N]; \n",
        "\n",
        "// Maximum Value in the knapsack and tis weight\n",
        "knapsack_t max = {0, 0};\n",
        "\n",
        "// Show knapsack up to the object 0 ... currentobj\n",
        "void showknapsack(int currentobj){\n",
        "    int i;\n",
        "\n",
        "\tprintf(\"List(value) at Object %d : \", currentobj);\n",
        "\tfor (i = 0; i <= currentobj; i++) {\n",
        "\t\tprintf(\"%3d \", stat[i] ? obj[i].v : 0);\n",
        "\t}\n",
        "\tfor (i = currentobj + 1; i < N; i++) {\n",
        "\t\tprintf(\"--- \");\n",
        "\t}\n",
        "\tprintf(\": val = %4d (weight = %4d)\\n\", max.v, max.w);\n",
        "}\n",
        "\n",
        "// Examine the object oid to pickup or not\n",
        "// oid        ... Object ID to examine\n",
        "// ks_current ... current status of the knapsack at this moment\n",
        "void pickobject(int oid, knapsack_t ks_current){\n",
        "\tknapsack_t ks_next; // next status of the knapsack\n",
        "\n",
        "    // End of the search\n",
        "\tif (oid >= N) {\n",
        "        if (ks_current.w <= wlimit) {\n",
        "            // New record (update the answer) ?\n",
        "\t\t    if (ks_current.v > max.v) {\n",
        "                // Current knapsack is record-breaking\n",
        "\t\t\t    max.v = ks_current.v;\n",
        "\t\t\t    max.w = ks_current.w;\n",
        "                printf(\"New record ! (%3d) \", max.v);\n",
        "\t\t\t    showknapsack(oid - 1);\n",
        "\t    \t} else {\n",
        "                printf(\"............ (%3d) \", ks_current.v);\n",
        "\t\t\t    showknapsack(oid - 1);              \n",
        "            }\n",
        "        } else {\n",
        "            printf(\"...weight NG [%3d] \", ks_current.w);\n",
        "\t\t    showknapsack(oid - 1);              \n",
        "        }\n",
        "\t\treturn ;\n",
        "\t}\n",
        "\n",
        "    //---------------------\n",
        "    // Search : two choices\n",
        "    //---------------------\n",
        "\n",
        "    // ----\n",
        "    // choice of Pickup (stat[oid] = 1)\n",
        "    // ----\n",
        "\n",
        "\t// Let's think about PICKING UP the object oid from now.                     \n",
        "\t// stat[0] ... stat[i] with stat[i]=1\n",
        "\tif (ks_current.w + obj[oid].w <= wlimit) { // Weight limit condition\n",
        "\n",
        "\t\tstat[oid] = 1; // Mark (Pick it up!)\n",
        "\n",
        "\t\t// Pick up object oid and proceed to the next object to examine\n",
        "    \t// When the object is taken, you have to update the knapsack status. \n",
        "\t\t// [Recursive call]\n",
        "\t\tks_next.v = ks_current.v + obj[oid].v;\n",
        "\t\tks_next.w = ks_current.w + obj[oid].w;\n",
        "\t\tpickobject(oid + 1, ks_next);\n",
        "\n",
        "\t\t// On returning to here, we have done everything with stat[0] ... stat[i] with stat[i]=1\n",
        "\t\t// Okey, it's over, clean it up\n",
        "\n",
        "\t\tstat[oid] = 0; // Unmark\n",
        "\t}\n",
        "\n",
        "\t//----\n",
        "\t//　choice of Discard (stat[i] = 0)\n",
        "\t//----\n",
        "\n",
        "\t// Let's think about EXCLUDING the object oid from now.                     \n",
        "\t// stat[0] ... stat[i] with stat[i]=0\n",
        "    {\n",
        "    \t// When the object is excluded, you don't need to update the knapsakc status. \n",
        "\n",
        "        // Nothing to mark\n",
        "\n",
        "\t    // Leave object oid and proceed to the next object to examine\n",
        "\t    pickobject(oid + 1, ks_current);\n",
        "\n",
        "        // Nothing to unmark\n",
        "    }\n",
        "\n",
        "    return ;\n",
        "}\n",
        "\n",
        "// Main function\n",
        "int main(int argc, char *argv[]){\n",
        "\tknapsack_t ks_init = {0, 0};\n",
        "\n",
        "    // examine options\n",
        "    if (argc != 2) {\n",
        "        printf(\"Please set the weight limit (positive integer).\\n\");\n",
        "        return -1;\n",
        "    }\n",
        "    wlimit = atoi(argv[1]);\n",
        "\n",
        "    // Go\n",
        "\tpickobject(0, ks_init);\n",
        "\t\n",
        "\tprintf(\"Result\\n\");\n",
        "\tprintf(\"weight_limit = %d\\n\", wlimit);\n",
        "\tprintf(\"maxv = %d (with weight %d)\\n\", max.v, max.w);\n",
        "\treturn 0;\n",
        "}\n"
      ],
      "execution_count": null,
      "outputs": []
    },
    {
      "cell_type": "markdown",
      "metadata": {
        "id": "9NVTZ-ukcDcy",
        "colab_type": "text"
      },
      "source": [
        "You probably notice the two programs look very similar.\n",
        "There is only one line for difference.\n",
        "By using diff command (on linux), you can find it out.   \n",
        "(No count on header part.)"
      ]
    },
    {
      "cell_type": "code",
      "metadata": {
        "id": "jy12T8iMcC1p",
        "colab_type": "code",
        "colab": {}
      },
      "source": [
        "!diff Knapsack-bf_E.c Knapsack-bt_E.c"
      ],
      "execution_count": null,
      "outputs": []
    },
    {
      "cell_type": "markdown",
      "metadata": {
        "id": "zhechXUNbvva",
        "colab_type": "text"
      },
      "source": [
        "Compile it and check no errors."
      ]
    },
    {
      "cell_type": "code",
      "metadata": {
        "id": "UcFL-3AR8XSu",
        "colab_type": "code",
        "colab": {}
      },
      "source": [
        "!gcc -Wall -o Knapsack-bt_E Knapsack-bt_E.c"
      ],
      "execution_count": null,
      "outputs": []
    },
    {
      "cell_type": "markdown",
      "metadata": {
        "id": "CxBI4UbEcB9L",
        "colab_type": "text"
      },
      "source": [
        "Run it at the same condition."
      ]
    },
    {
      "cell_type": "code",
      "metadata": {
        "id": "O3zzVD4tcA3h",
        "colab_type": "code",
        "colab": {}
      },
      "source": [
        "!./Knapsack-bt_E 112"
      ],
      "execution_count": null,
      "outputs": []
    },
    {
      "cell_type": "markdown",
      "metadata": {
        "id": "bStYIhaRc_Ng",
        "colab_type": "text"
      },
      "source": [
        "And count the output lines too."
      ]
    },
    {
      "cell_type": "code",
      "metadata": {
        "id": "H5nDWooJdBzO",
        "colab_type": "code",
        "colab": {}
      },
      "source": [
        "!./Knapsack-bt_E 112 | wc -l"
      ],
      "execution_count": null,
      "outputs": []
    },
    {
      "cell_type": "markdown",
      "metadata": {
        "id": "URLDylrpdOdA",
        "colab_type": "text"
      },
      "source": [
        "Uncounting the last 3 lines of summary, the candidates are now 174.  \n",
        "About 1/3 of the candidates can be eliminated by the backtracking approach.  \n",
        "This ratio would be affected by objects' property, processing order, and weight limit.\n",
        "\n"
      ]
    },
    {
      "cell_type": "markdown",
      "metadata": {
        "id": "sRoDM7yhpD8D",
        "colab_type": "text"
      },
      "source": [
        "# Branch-and-Bound search for knapsack problem\n",
        "\n",
        "On backtracking approach, we only can set the condition when we examine to pick up the object.  \n",
        "Then, Can we do something even when we DO NOT pick up the object?  \n",
        "\n",
        "--\n",
        "\n",
        "When we decide not to pick up the object, we are getting a bit far from our goal -- maiximizing the total value -- because we miss the chance of adding the value of the object from now.\n",
        "\n",
        "By promoting this idea, if \"the current total value amount + the remaining values\" to examine comes lower than the best record we have achieved in the past, we happan to realize that there is no chance of updating the best record beyond this point.\n",
        "\n",
        "The \"the current total value amount + the remaining values\" is denoted by variable av (achievable value) in the program below.\n",
        "\n",
        "The av is equal to the total sum of the museum at the beginning. Then, every time we decide not to pick up a object, its value is deduced from the av. If av (av_without_i in the program) comes lower than the tentative best achievement (max.v), there is no chance to update the best record beyond this point, so we need to go back.\n",
        "\n",
        "The program below is a modifined version of the backtracking program. Read it very carefully and the new condition is set on \"not-picking\" choice this time.\n",
        "\n",
        "On this program, the condition of backtracking is set to cull the candidates on \"picking up\" a object, and the condition of branch-and-bound is set to cull the conadidates on \"not-picking up\" a object.　 "
      ]
    },
    {
      "cell_type": "code",
      "metadata": {
        "id": "FFXXHFuJsMFC",
        "colab_type": "code",
        "colab": {}
      },
      "source": [
        "%%writefile Knapsack-bb_E.c\n",
        "// Knapsack problem solution by Branch-and-Bound\n",
        "// kameda[at]ccs.tsukuba.ac.jp, 2020.\n",
        "#include <stdio.h>\n",
        "#include <stdlib.h> // atoi\n",
        "\n",
        "typedef struct {int v; int w;} knapsack_t;\n",
        "\n",
        "#define N 8\n",
        "\n",
        "// Weight Limit\n",
        "int wlimit = 0;\n",
        "\n",
        "// (value, weight)\n",
        "knapsack_t obj[N] =\n",
        "{\n",
        "\t{ 15,  6},\n",
        "\t{100, 20},\n",
        "\t{ 90, 25},\n",
        "\t{ 60, 30},\n",
        "\t{ 40, 40},\n",
        "\t{ 15, 28},\n",
        "\t{ 16, 29},\n",
        "\t{  3, 10}\n",
        "};\n",
        "\n",
        "// 1...Pickup, 0...Discard\n",
        "int stat[N]; \n",
        "\n",
        "// Maximum Value in the knapsack and tis weight\n",
        "knapsack_t max = {0, 0};\n",
        "\n",
        "// Show knapsack up to the object 0 ... currentobj\n",
        "void showknapsack(int currentobj){\n",
        "    int i;\n",
        "\n",
        "\tprintf(\"List(value) at Object %d : \", currentobj);\n",
        "\tfor (i = 0; i <= currentobj; i++) {\n",
        "\t\tprintf(\"%3d \", stat[i] ? obj[i].v : 0);\n",
        "\t}\n",
        "\tfor (i = currentobj + 1; i < N; i++) {\n",
        "\t\tprintf(\"--- \");\n",
        "\t}\n",
        "\tprintf(\": val = %4d (weight = %4d)\\n\", max.v, max.w);\n",
        "}\n",
        "\n",
        "// Examine the object oid to pickup or not\n",
        "// oid        ... Object ID to examine\n",
        "// ks_current ... current status of the knapsack at this moment\n",
        "// av         ... achievable value (at best) ... new for branch and bound\n",
        "void pickobject(int oid, knapsack_t ks_current, int av){\n",
        "\tknapsack_t ks_next; // next status of the knapsack\n",
        "\tint av_without_i; // achievable value at best without (i)th object\n",
        "\n",
        "    // End of the search\n",
        "\tif (oid >= N) {\n",
        "        if (ks_current.w <= wlimit) {\n",
        "            // New record (update the answer) ?\n",
        "\t\t    if (ks_current.v > max.v) {\n",
        "                // Current knapsack is record-breaking\n",
        "\t\t\t    max.v = ks_current.v;\n",
        "\t\t\t    max.w = ks_current.w;\n",
        "                printf(\"New record ! (%3d) \", max.v);\n",
        "\t\t\t    showknapsack(oid - 1);\n",
        "\t    \t} else {\n",
        "                printf(\"............ (%3d) \", ks_current.v);\n",
        "\t\t\t    showknapsack(oid - 1);              \n",
        "            }\n",
        "        } else {\n",
        "            printf(\"...weight NG [%3d] \", ks_current.w);\n",
        "\t\t    showknapsack(oid - 1);              \n",
        "        }\n",
        "\t\treturn ;\n",
        "\t}\n",
        "\n",
        "    //---------------------\n",
        "    // Search : two choices\n",
        "    //---------------------\n",
        "\n",
        "    // ----\n",
        "    // choice of Pickup (stat[oid] = 1)\n",
        "    // ----\n",
        "\n",
        "\t// Let's think about PICKING UP the object oid from now.                     \n",
        "\t// stat[0] ... stat[i] with stat[i]=1\n",
        "\tif (ks_current.w + obj[oid].w <= wlimit) { // Weight limit condition\n",
        "\n",
        "\t\tstat[oid] = 1; // Mark (Pick it up!)\n",
        "\n",
        "\t\t// Pick up object oid and proceed to the next object to examine\n",
        "    \t// When the object is taken, you have to update the knapsack status. \n",
        "\t\t// [Recursive call]\n",
        "\t\tks_next.v = ks_current.v + obj[oid].v;\n",
        "\t\tks_next.w = ks_current.w + obj[oid].w;\n",
        "\t\tpickobject(oid + 1, ks_next, av); // av is same because you pick up this object.\n",
        "\n",
        "\t\t// On returning to here, we have done everything with stat[0] ... stat[i] with stat[i]=1\n",
        "\t\t// Okey, it's over, clean it up\n",
        "\n",
        "\t\tstat[oid] = 0; // Unmark\n",
        "\t}\n",
        "\n",
        "\t//----\n",
        "\t//　choice of Discard (stat[i] = 0)\n",
        "\t//----\n",
        "\n",
        "\t// Let's think about EXCLUDING the object oid from now.                     \n",
        "\t// stat[0] ... stat[i] with stat[i]=0\n",
        "\tav_without_i = av - obj[oid].v;\t\n",
        "\n",
        "\t// [Branch and bound] here!\n",
        "\t// If 'achievable value' is smaller than 'max.v', there is no hope to\n",
        "\t// get better solution beyond here. So, you need to proceed only when\n",
        "\t//  av_without_i > max.v\n",
        "\tif (av_without_i > max.v) {\n",
        "\n",
        "\n",
        "    \t// When the object is excluded, you don't need to update the knapsakc status. \n",
        "\n",
        "        // Mark that no pick-up is made here : \"stat[oid] = 0;\" could be here.\n",
        "\n",
        "\t    // Leave object oid and proceed to the next object to examine\n",
        "\t  pickobject(oid + 1, ks_current, av_without_i); // less hope yet go\n",
        "\n",
        "        // Unmark that recovery to the original state. \"stat[oid] = 0;\" could be here.\n",
        "    }\n",
        "\n",
        "    return ;\n",
        "}\n",
        "\n",
        "// Main function\n",
        "int main(int argc, char *argv[]){\n",
        "\tknapsack_t ks_init = {0, 0};\n",
        "\tint totalvalue = 0;\n",
        "\tint i;\n",
        "\n",
        "    // examine options\n",
        "    if (argc != 2) {\n",
        "        printf(\"Please set the weight limit (positive integer).\\n\");\n",
        "        return -1;\n",
        "    }\n",
        "    wlimit = atoi(argv[1]);\n",
        "\n",
        "    // Total Value\n",
        "    for (i = 0; i < N; i++)\n",
        "      totalvalue += obj[i].v;\n",
        "\n",
        "    // Go\n",
        "    pickobject(0, ks_init, totalvalue);\n",
        "\t\n",
        "\tprintf(\"Result\\n\");\n",
        "\tprintf(\"weight_limit = %d\\n\", wlimit);\n",
        "\tprintf(\"maxv = %d (with weight %d)\\n\", max.v, max.w);\n",
        "\treturn 0;\n",
        "}\n"
      ],
      "execution_count": null,
      "outputs": []
    },
    {
      "cell_type": "markdown",
      "metadata": {
        "id": "TK5U081O7tGq",
        "colab_type": "text"
      },
      "source": [
        "See the difference (it is not easy to see this time by diff command)."
      ]
    },
    {
      "cell_type": "code",
      "metadata": {
        "id": "MGfqiWjFsXQZ",
        "colab_type": "code",
        "colab": {}
      },
      "source": [
        "!diff Knapsack-bt_E.c Knapsack-bb_E.c"
      ],
      "execution_count": null,
      "outputs": []
    },
    {
      "cell_type": "markdown",
      "metadata": {
        "id": "0MbMUrOPsiSg",
        "colab_type": "text"
      },
      "source": [
        "Compile it and check no errors."
      ]
    },
    {
      "cell_type": "code",
      "metadata": {
        "id": "leFnfExBsljy",
        "colab_type": "code",
        "colab": {}
      },
      "source": [
        "!gcc -Wall -o Knapsack-bb_E Knapsack-bb_E.c"
      ],
      "execution_count": null,
      "outputs": []
    },
    {
      "cell_type": "markdown",
      "metadata": {
        "id": "zh9rHUlTsxk4",
        "colab_type": "text"
      },
      "source": [
        "Run it at the same condition."
      ]
    },
    {
      "cell_type": "code",
      "metadata": {
        "id": "3XiNbZ_FsydJ",
        "colab_type": "code",
        "colab": {}
      },
      "source": [
        "!./Knapsack-bb_E 112"
      ],
      "execution_count": null,
      "outputs": []
    },
    {
      "cell_type": "markdown",
      "metadata": {
        "id": "srpr5lLytTOI",
        "colab_type": "text"
      },
      "source": [
        "Now the program can reach to generate the solution candidates only for twice.\n",
        "Branch-and-Bound approach succeeded in culling the candidates drastically in this problem."
      ]
    },
    {
      "cell_type": "markdown",
      "metadata": {
        "id": "DY_MbwoPf_9h",
        "colab_type": "text"
      },
      "source": [
        "# Problems\n",
        "\n",
        "\n",
        "1. Computation amount\n",
        "Discuss the computation time on Knsapsack-bf_E.c, Knapsack-bt_E.c, and Knapsack-bb_E.c program with input size N (number of objects).\n",
        "\n",
        "\n",
        "2. Measurement of the computation amount\n",
        "Investigate the computation time on Knsapsack-bf_E.c, Knapsack-bt_E.c, and Knapsack-bb_E.c program. Enhance the problem to larger N (10 or more, you can specify values/weights by yourself for objects). Change the weight limit. On measuring the time, printf() should be omitted for fair comparison. Measurement should be the average of several runs. The table below is just an example. Find out good values to show the tendency.\n",
        "\n",
        "\n",
        "|N|Weight Limit|bf[s]|bt[s]|bb[s]|\n",
        "|-|---|--|--|--|\n",
        "|8|100|???|???|???|\n",
        "|8|120|???|???|???|\n",
        "|8|140|???|???|???|\n",
        "|16|100|???|???|???|\n",
        "|16|120|???|???|???|\n",
        "|16|140|???|???|???|\n",
        "\n",
        "\n",
        "\n",
        "\n",
        "\n",
        "\n"
      ]
    },
    {
      "cell_type": "markdown",
      "metadata": {
        "id": "cZ-1SycnqxVa",
        "colab_type": "text"
      },
      "source": [
        "#**Course Info**\n",
        "\n",
        "https://github.com/kameda-yoshinari/DataAlgo-T  \n",
        "Course: Data structure and algorithm  \n",
        "Department of Engineering Systems, University of Tsukuba,Japan.  \n",
        "Author: KAMEDA, Yoshinari  \n",
        "2020.05.19. -"
      ]
    }
  ]
}