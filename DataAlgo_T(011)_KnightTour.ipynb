{
  "nbformat": 4,
  "nbformat_minor": 0,
  "metadata": {
    "colab": {
      "name": "DataAlgo-T(011) KnightTour",
      "provenance": [],
      "collapsed_sections": [],
      "authorship_tag": "ABX9TyNiCG68zavY+9h93d7rcWSl",
      "include_colab_link": true
    },
    "kernelspec": {
      "name": "python3",
      "display_name": "Python 3"
    }
  },
  "cells": [
    {
      "cell_type": "markdown",
      "metadata": {
        "id": "view-in-github",
        "colab_type": "text"
      },
      "source": [
        "<a href=\"https://colab.research.google.com/github/kameda-yoshinari/DataAlgo-T/blob/master/DataAlgo_T(011)_KnightTour.ipynb\" target=\"_parent\"><img src=\"https://colab.research.google.com/assets/colab-badge.svg\" alt=\"Open In Colab\"/></a>"
      ]
    },
    {
      "cell_type": "markdown",
      "metadata": {
        "id": "yRmydXneMgT8",
        "colab_type": "text"
      },
      "source": [
        "# 6. Problem Solving \n",
        "\n",
        "From this section, we leave graph and start learning problem-solving.\n",
        "It depends on the given problem, so just pick up famous problems and see how hard to obtain the solution(s) to the given problem even when we can invent algorithm for that. The reason to make the solution hard is --- computation.\n",
        "\n",
        "# 6.1. Bruteforce Search\n",
        "\n",
        "Brute-force searh is also known as  exhausive search.  \n",
        "Sometimes the algorithm to find the solution might be hard to invent. \n",
        "In such a case, we may prpare rather simple algorithm. It can be easier to prepare, but in return,  it can produce solution candidates. \n",
        "\n",
        "To see which is really the solution, we need to run the verification process that fits the problem definition.\n",
        "\n",
        "Brute-force search can be taken as a solution finding approach when the those conditions are satisfined.\n",
        "\n",
        "* The algorithm is rather simple and it is possible to implement\n",
        "* It can produce solution candidates that surely includes the solution\n",
        "* Verification process is not time-consuming\n",
        "* The number of solution candidates is within computational amount\n",
        "\n",
        "Brute-force approach is also sometimes used to evaluate the difficulty of the problem-solving. If the number of the solution candidates is rapidly growing (combinatorial explosion),  the associated problem is thought to be difficult.\n",
        "\n",
        ">Brute-force search  \n",
        "https://en.wikipedia.org/wiki/Brute-force_search \n",
        "\n",
        "# 6.2. Backtrack Search\n",
        "\n",
        "A backtracking approach is also a algorithm to find the solution to the given problem. Unlike the brute-force approach, generation of solution candidates will be stopped once it is obvious that the candidates cannot meet the problem requirements and going back to find other candidates.\n",
        "\n",
        "To help your undestanding these two, we visit some very famouse examples from now.\n",
        "\n",
        ">Backtracking  \n",
        "https://en.wikipedia.org/wiki/Backtracking\n",
        "\n",
        "# 6.2.1. Knight's Tour\n",
        "\n",
        "Learn knight's tour problem and understand that there are problems for which we can develop the algorithm and we know it can surely search the answer, but yet it is practically impossible to get the answer due to the computation limit.\n",
        " \n",
        "\n",
        "**Reminder**  \n",
        "On github, rendering might not be in good shape.  \n",
        "To see the expected layout, open this page in Google Colaboratory.\n",
        "To run one specific code cell in colab, click the icon on the left part or just type Ctrl + Enter.  "
      ]
    },
    {
      "cell_type": "markdown",
      "metadata": {
        "id": "CdQdV_MJIlce",
        "colab_type": "text"
      },
      "source": [
        "# Preparation\n",
        "\n",
        "Connect the Jupyter environment and invoke a runtime. \n",
        "Mount your Google Drive by the procedure below.  \n",
        "Change directory to the mounted point and make it as the working folder.  \n",
        "By then, files are preserved even after you terminate the runtime environment."
      ]
    },
    {
      "cell_type": "code",
      "metadata": {
        "id": "DMtqXRXJIPMR",
        "colab_type": "code",
        "colab": {}
      },
      "source": [
        "!echo \"Mounting your Google Drive\"\n",
        "from google.colab import drive \n",
        "drive.mount('/content/drive')"
      ],
      "execution_count": null,
      "outputs": []
    },
    {
      "cell_type": "code",
      "metadata": {
        "id": "SABzmuELIaj2",
        "colab_type": "code",
        "colab": {}
      },
      "source": [
        "!echo \"Make a working folder and chnage directory to it\"\n",
        "%cd /content/drive/My\\ Drive\n",
        "%mkdir -p DataAlgo-T/011\n",
        "%cd       DataAlgo-T/011\n",
        "!ls"
      ],
      "execution_count": null,
      "outputs": []
    },
    {
      "cell_type": "markdown",
      "metadata": {
        "id": "4s3BWazcz1FB",
        "colab_type": "text"
      },
      "source": [
        "# Knight's tour\n",
        "\n",
        "**Problem definition**\n",
        "\n",
        "Knight of chess game can move to one of the eight positions. There are at 2 cells moving straight to back/forth/left/right then turn squarely and move 1 more cell.\n",
        "\n",
        "The knight's tour problem can be defined to investigate it is possible\n",
        "1. for a given board (normaly 8 by 8 )\n",
        "2. by following the moves allowed to knight\n",
        "3. by visiting each cell only once\n",
        "4. by moving ceratin times (63 times for 8x8 board size)\n",
        "5. To visit all the cells\n",
        "\n",
        "if the answer is yes, the number of the answers could be another quesiton.\n",
        "\n",
        "If the knight can come back to the beginning cell for the next move after the tour is finished, it is called knight's tour round, or closed knight's tour.\n",
        "\n",
        "For the knight's tour round problem, the starting position does not make sense.\n"
      ]
    },
    {
      "cell_type": "markdown",
      "metadata": {
        "id": "dd-hVe7gXiCk",
        "colab_type": "text"
      },
      "source": [
        "# Brute-force search for knight's tour\n",
        "\n",
        "To generate the solution candidates, think the conditions of No.2 and No.4 only for organizing a brute-force search.\n",
        "\n",
        "Assum that the the knight is placed in a given position. By following the condition No.2 and No.4, a seris of 63 moves wher each move is in a choice of 8 positions can be easily generated. \n",
        "Then, as for verification process, the candidate is examined surely covers all the cells of the board (condition No.1, No.3, and No.5).\n",
        "\n",
        "Apparently, this approach produces enormus number of solution candidates. As for 8x8 board case, the number of the solution candidates should be 8<sup>63</sup>.\n",
        "\n",
        "> 8<sup>63</sup> = 2<sup>189</sup> >= 10<sup>189 x 0.3010</sup> = 10<sup>56.889</sup>\n",
        "\n",
        "Even when we have a super computer that can verify the candidate by one instruction and it runs 1.0 THz with one billion processing nodes, \n",
        "\n",
        "> (10<sup>12</sup> x 60 x 60 x 24 x 365.2422) x 10<sup>9</sup> <= 3.15 x 10<sup>28</sup>\n",
        "\n",
        "candidats can be verified per year. It means we need 10<sup>57</sup> / (3.15 x 10<sup>28</sup>) years... more than 10<sup>28</sup> years. Remember, our universe is just about 1.38 x 10<sup>10</sup> year-old. \n",
        "\n",
        "\n",
        "\n",
        "\n"
      ]
    },
    {
      "cell_type": "markdown",
      "metadata": {
        "id": "oouvPzhWxQM9",
        "colab_type": "text"
      },
      "source": [
        "# C program of the blute-force search\n",
        "\n",
        "**Purpose**\n",
        "\n",
        "Specify the board width (boardsize.x) and height (boardsize.y) and the position (x,y) of the starting cell as 4 command line options. The program should generate solution candidates and count the number of the answers of knight's tour (and knight's tour round).\n",
        "\n",
        "**Explanation**\n",
        "\n",
        "vec2i structure is used to express 2D coord of the board.\n",
        "Generate (boardsize.x x boardsize.y) - 1 moves as a candidate and verify the conditions for each candidate.\n",
        "We adopt depth-first search to generate the candidates.\n",
        "\n",
        "**Program**\n",
        "\n",
        "kpath[] array stores all the moves.  \n",
        "Unfortunately, in most of the cases, the path goes beyond the board.  \n",
        "So only the moves within the board are visualized in board_from_path() function.\n",
        "The initial position is denoted by 1.\n",
        "\n",
        "**Remarks**\n",
        "\n",
        "To help monitoring the process behavior, you can control the detailness of output by changing verboselevel variable. It can be specified by the 5th command line option, from 0 (default) to 3 (detailed max). Be carefull the total amount of output text comes to ENORMUS if you specify not-a-small board size (size beyond 4 x 3 is really dangeos, almost deadly!)."
      ]
    },
    {
      "cell_type": "code",
      "metadata": {
        "id": "kIknJ7fzZdeF",
        "colab_type": "code",
        "colab": {}
      },
      "source": [
        "%%writefile knighttour-bluteforce_E.c\n",
        "// Knight tour by bluteforce search\n",
        "// kameda[at]ccs.tsukuba.ac.jp, 2020.\n",
        "#include <stdio.h>  // printf\n",
        "#include <stdlib.h> // atoi\n",
        "\n",
        "#define M 8 // choices of one move of knight\n",
        "\n",
        "// 2D coord.\n",
        "typedef struct {int x; int y;} vec2i;\n",
        "\n",
        "// choices of one move of knight (relative position)\n",
        "vec2i move[M] = {\n",
        "\t{ 2 ,1},\n",
        "\t{ 1, 2},\n",
        "\t{-1, 2},\n",
        "\t{-2, 1},\n",
        "\t{-2,-1},\n",
        "\t{-1,-2},\n",
        "\t{ 1,-2},\n",
        "\t{ 2,-1}\n",
        "};\n",
        "\n",
        "// path memory\n",
        "int *kpath = NULL; // store the direction of each move\n",
        "\n",
        "// Memory expression of the board\n",
        "int *board = NULL; // value of position (x,y) is stored at board[y * boardsize.x + x]\n",
        "vec2i boardsize = {0, 0};\n",
        "\n",
        "// Starting position of the knight\n",
        "vec2i spt = {0, 0};\n",
        "\n",
        "int knighttour      = 0; // Number of the anwers of the knight's tour\n",
        "int knighttourround = 0; // Number of the anwers of the knight's tour round\n",
        "int verboselevel    = 0; // Verbose level (0/min/default to 4/max)\n",
        "\n",
        "// Memory access to the board position\n",
        "int boardindex(vec2i pt){\n",
        "\treturn (pt.y * boardsize.x + pt.x);\n",
        "}\n",
        "\n",
        "// Render the board and estimate the knight position at s-th move from path info\n",
        "//    At the s-th move\n",
        "//    First move (position) is indicated by spt, so remaining moves are s-1\n",
        "//    This means the path info of kpath[0], ... , kpath[s-2] should be refered.\n",
        "vec2i board_from_path(int s){\n",
        "    int c;\n",
        "\tvec2i pt;\n",
        " \n",
        "    for (c = 0; c < boardsize.x * boardsize.y; c++) {\n",
        "        board[c] = 0; // No access\n",
        "    }\n",
        "    board[boardindex(spt)] = 1; // First move\n",
        "    pt = spt;\n",
        "    if (verboselevel >= 3) printf(\"** - (%d, %d) - at %d\\n\", pt.x, pt.y, s);\n",
        "    for (c = 0; c < s - 1; c++) {\n",
        "        pt.x += move[kpath[c]].x;\n",
        "        pt.y += move[kpath[c]].y;\n",
        "        if (verboselevel >= 3) printf(\">> %d (%d, %d) %d at %d\\n\", c, pt.x, pt.y, kpath[c], s);\n",
        "        if (pt.x >= 0 && pt.x < boardsize.x &&\n",
        "            pt.y >= 0 && pt.y < boardsize.y ) {\n",
        "            board[boardindex(pt)] = c + 2; // Render the move number only when it is within the board\n",
        "        }\n",
        "    }\n",
        "    return pt;\n",
        "}\n",
        " \n",
        "// Display the board (x horizontal, y vertical; positive is downward)\n",
        "void showboard(void){\n",
        "    vec2i pt;\n",
        " \tfor (pt.y = 0; pt.y < boardsize.y; pt.y++) {\n",
        "\t\tfor (pt.x = 0; pt.x < boardsize.x; pt.x++) {\n",
        "\t\t\tprintf(\"%2d \", board[boardindex(pt)]);\n",
        "\t\t}\n",
        "\t\tprintf(\"\\n\");\n",
        "\t}\n",
        "\treturn ;\n",
        "}\n",
        "\n",
        "// Detection of Knight's tour\n",
        "int check_knighttour(void){\n",
        "\tint c;\n",
        "    \n",
        "    for (c = 0; c < boardsize.x * boardsize.y; c++) {\n",
        "        if (board[c] <= 0)\n",
        "            return 0;\n",
        "    }\n",
        "\treturn 1;\n",
        "}\n",
        "\n",
        "// Detection of Knight's tour round\n",
        "int check_knighttourround(vec2i pt){\n",
        "\tint d;\n",
        "\tfor (d = 0; d < M; d++) {\n",
        "\t\tif (pt.x + move[d].x == spt.x && \n",
        "\t\t    pt.y + move[d].y == spt.y) {\n",
        "\t\t\treturn 1;\n",
        "\t\t}\n",
        "\t}\n",
        "\treturn 0;\n",
        "}\n",
        "\n",
        "// Generate the solution candidates by brute-foce approach by recursive call\n",
        "//   int n_move; number of moves to examine here\n",
        "void knighttouronestep_bf(int n_move){\n",
        "    vec2i cpt;\n",
        "\tint d; // choice of direction\n",
        "\n",
        "    if (verboselevel >= 2) printf(\"-- %d cells fixed --\\n\", n_move);\n",
        "\n",
        "    cpt = board_from_path(n_move);\n",
        "    if (verboselevel >= 2) showboard();\n",
        "\n",
        "\t// Solution verification\n",
        "\tif (n_move == boardsize.x * boardsize.y) {\n",
        "        // Solution of knight't tour?\n",
        "        if (check_knighttour() > 0) {\n",
        "            knighttour++;\n",
        "            // Solution of knight't tour round?\n",
        "            knighttourround += check_knighttourround(cpt);\n",
        "            // Display the solution\n",
        "\t\t    if (verboselevel >= 1) {\n",
        "\t\t\t    printf(\"Answer found (%d / %d).\\n\", knighttour, knighttourround);\n",
        "\t    \t\tshowboard();\n",
        "\t    \t}\n",
        "        }\n",
        "        return ; // Do not exit, keep working to find next solutions\n",
        "\t}\n",
        "\t\n",
        "\t// Search by recursive call\n",
        "\tfor (d = 0; d < M; d++) {\n",
        "\t\tkpath[n_move - 1] = d; // Memory this move\n",
        "\t\tknighttouronestep_bf(n_move + 1); // recursive call ; depth first\n",
        "\t}\n",
        "\treturn ;\n",
        "}\n",
        "\n",
        "// Main function\n",
        "//   Augment: x-size of the board, y-size of the board, starting x-position, starting y-position, verbose level(0-3)\n",
        "int main(int argc, char *argv[]){\n",
        "\n",
        "\t// Check command line options\n",
        "    if (argc != 6) {\n",
        "        printf(\"Speciy x-size of the board, y-size of the board, starting x-position, starting y-position, and verbose level(0-3).\\n\");\n",
        "        printf(\"Quiting because of invalid options.\\n\");\n",
        "        return -1;\n",
        "    }\n",
        "    // board size\n",
        "\tboardsize.x = atoi(argv[1]);\n",
        "\tboardsize.y = atoi(argv[2]);\n",
        "    // starting position\n",
        "\tspt.x = atoi(argv[3]);\n",
        "\tspt.y = atoi(argv[4]);\n",
        "\t// verbose level\n",
        "\tverboselevel = atoi(argv[5]);\n",
        "\tprintf(\"board_size = (%d, %d), start_point = (%d, %d), verbose level = %d\\n\", boardsize.x, boardsize.y, spt.x, spt.y, verboselevel);\n",
        "\tif (boardsize.x < 0 || boardsize.y < 0 || \n",
        "\t    spt.x < 0 || spt.x >= boardsize.x || \n",
        "\t\tspt.y < 0 || spt.y >= boardsize.y) {\n",
        "\t\tprintf(\"Invalid value(s) on options. Force quiting.\\n\");\n",
        "\t}\n",
        "\tif ((kpath = calloc(boardsize.x * boardsize.y, sizeof(int))) == NULL) {\n",
        "\t\tprintf(\"Memory allocation failure for %d elements for the path memory. Exiting.\\n\", boardsize.x * boardsize.y);\n",
        "\t\treturn -2;\n",
        "\t}\n",
        "\tif ((board = calloc(boardsize.x * boardsize.y, sizeof(int))) == NULL) {\n",
        "\t\tprintf(\"Memory allocation failure for %d elements for the board memory. Exiting.\\n\", boardsize.x * boardsize.y);\n",
        "\t\treturn -2;\n",
        "\t}\n",
        "\tknighttouronestep_bf(1); // Start the search!\n",
        "\n",
        "\tprintf(\"Result:\\n\");\n",
        "\tprintf(\"  Knight tour       %6d\\n\", knighttour);\n",
        "\tprintf(\"  Knight tour round %6d\\n\", knighttourround);\n",
        "\n",
        "\treturn 0;\n",
        "}\n"
      ],
      "execution_count": null,
      "outputs": []
    },
    {
      "cell_type": "markdown",
      "metadata": {
        "id": "5DFSjwEt2F2r",
        "colab_type": "text"
      },
      "source": [
        "Compile it and check no errors.  \n",
        "(You should think of optimization here because the speed does matter here.)\n"
      ]
    },
    {
      "cell_type": "code",
      "metadata": {
        "id": "wxkAlYlCbUL7",
        "colab_type": "code",
        "colab": {}
      },
      "source": [
        "!gcc -Wall -o knighttour-bluteforce_E knighttour-bluteforce_E.c"
      ],
      "execution_count": null,
      "outputs": []
    },
    {
      "cell_type": "markdown",
      "metadata": {
        "id": "yhPPNnki4LPz",
        "colab_type": "text"
      },
      "source": [
        "To measure the execution time, use the time command on linux.  \n",
        "Just add \"time\" ahead of normal command run.  \n",
        "In the result, user property corresponds to the time the process actually use the CPU.\n",
        "\n",
        "**Caution**\n",
        "\n",
        "While you are checking the behavior of the program, board size should be minimum 3x3.  \n",
        "Of course, no answer is found on 3x3 board.  \n",
        "Probably it runs for 1 second or so (as of 2020/06).  \n",
        "\n",
        "On brute-force approach, anyhing explodes VERY SOON with the size of the board.\n",
        "\n",
        "For example, you should estimate well about computation (time, output text amount, etc...) before you go to 4x3 and more."
      ]
    },
    {
      "cell_type": "code",
      "metadata": {
        "id": "HzbLWL6zuVPR",
        "colab_type": "code",
        "colab": {}
      },
      "source": [
        "!time ./knighttour-bluteforce_E 3 3 0 0 1"
      ],
      "execution_count": null,
      "outputs": []
    },
    {
      "cell_type": "markdown",
      "metadata": {
        "id": "d489oVVUBWz-",
        "colab_type": "text"
      },
      "source": [
        "If the verbose level is set to high, your browser get stacked pretty soon (google colaboratory with google chrome may handle hundreds lines per output, but no more for safe operations). \n",
        "To see the output with large size, redirect the standard output to a file on a google drive, and see the file by downloading it to your computer after the program ends.  \n",
        "But be careful, this approach is still DANGEROUS.  \n",
        "For example, at boardsize 3x3 with verbose level 2,the total output text comes to 914MB! (bluteforce33-00-2.txt below).\n"
      ]
    },
    {
      "cell_type": "code",
      "metadata": {
        "id": "SsZe28lFGYkb",
        "colab_type": "code",
        "colab": {}
      },
      "source": [
        "!time ./knighttour-bluteforce_E 3 3 0 0 1"
      ],
      "execution_count": null,
      "outputs": []
    },
    {
      "cell_type": "markdown",
      "metadata": {
        "id": "dREmQEgRr2Xg",
        "colab_type": "text"
      },
      "source": [
        "Verbose level 2 probably takes 45 sec or so (much longer than verbose level 1)."
      ]
    },
    {
      "cell_type": "code",
      "metadata": {
        "id": "LJSnXIiZCDpa",
        "colab_type": "code",
        "colab": {}
      },
      "source": [
        "!time ./knighttour-bluteforce_E 3 3 0 0 2 > bluteforce33-00-2.txt"
      ],
      "execution_count": null,
      "outputs": []
    },
    {
      "cell_type": "markdown",
      "metadata": {
        "id": "UeJN4KyWsKN1",
        "colab_type": "text"
      },
      "source": [
        "Check the size by ls -sh and count the number of the lines by wc -l."
      ]
    },
    {
      "cell_type": "code",
      "metadata": {
        "id": "RhiHIW2VDUte",
        "colab_type": "code",
        "colab": {}
      },
      "source": [
        "!ls -sh bluteforce33-00-2.txt\n",
        "!wc -l bluteforce33-00-2.txt"
      ],
      "execution_count": null,
      "outputs": []
    },
    {
      "cell_type": "markdown",
      "metadata": {
        "id": "AOxK1TF6sUPr",
        "colab_type": "text"
      },
      "source": [
        "If you want, you can see only first lines by head command (100 lines in the example below).  \n",
        "(If you output whole the text, surely your browser is stacked.)"
      ]
    },
    {
      "cell_type": "code",
      "metadata": {
        "id": "ZzmXS7nNsmCr",
        "colab_type": "code",
        "colab": {}
      },
      "source": [
        "!head -100 bluteforce33-00-2.txt"
      ],
      "execution_count": null,
      "outputs": []
    },
    {
      "cell_type": "markdown",
      "metadata": {
        "id": "zxu1mTvkGT3q",
        "colab_type": "text"
      },
      "source": [
        "Below is the example of running with board size 4x3.  \n",
        "BEFORE YOU RUN, MAKE SURE THE ESTIMATION TIME HOW LONG YOU NEED!  \n",
        "(if you spent 1.5 seconds for 3-3-0-0-1 case, what will happen on 4-3-0-0-1 case? Hint: The board size is 3x3=9 vs 4x3=12, and every move causes 8 possible moves to examine.)"
      ]
    },
    {
      "cell_type": "code",
      "metadata": {
        "id": "mKjCepMR6lT7",
        "colab_type": "code",
        "colab": {}
      },
      "source": [
        "!time ./knighttour-bluteforce_E 4 3 0 0 1"
      ],
      "execution_count": null,
      "outputs": []
    },
    {
      "cell_type": "markdown",
      "metadata": {
        "id": "lZYzTrRBBUyw",
        "colab_type": "text"
      },
      "source": [
        "Say, the estimation should be 1.5 x 8<sup>3</sup> seconds. How much was the result?  \n",
        "OK, next example is the 4x4 board case.  \n",
        "MAKE SURE HOW LONG IT WILL TAKE TO THE ENDS.  \n",
        "ARE YOU REALLY OK TO RUN IT?"
      ]
    },
    {
      "cell_type": "code",
      "metadata": {
        "id": "t7LSvS9V6Wil",
        "colab_type": "code",
        "colab": {}
      },
      "source": [
        "!time ./knighttour-bluteforce_E 4 4 0 0 1 > bluteforce44-00-1.txt"
      ],
      "execution_count": null,
      "outputs": []
    },
    {
      "cell_type": "markdown",
      "metadata": {
        "id": "V_tog2cJuL5W",
        "colab_type": "text"
      },
      "source": [
        "Once again, 1.5 x 8<sup>(4x4-3x3)</sup> = 1.5 x 8<sup>7</sup> sec..."
      ]
    },
    {
      "cell_type": "markdown",
      "metadata": {
        "id": "5QkNub1bXi1l",
        "colab_type": "text"
      },
      "source": [
        "# Backtracking search for knight's tour\n",
        "\n",
        "On brute-force approach, apparently there are useless candidates on generating the candidates by depth-first (recursive) search.  \n",
        "Backtracking approach gives up generating the candidates if the conditions cannot be met and going back (backtrack) to find other candidates. \n",
        "\n",
        "On the knight's tour, the program should backtracks if one of two cases is found:\n",
        "\n",
        "* Knight goes out of the board\n",
        "* Knight comes to the cell where it has already visited\n",
        "\n",
        "Note that it surely eliminates the useless candidates and contributes the speed up. But it usually won't change the computation amount on big-O notation viewpoint (because you have to think of the worst case on the big-O notation).\n"
      ]
    },
    {
      "cell_type": "markdown",
      "metadata": {
        "id": "Zy3sSTwQ7Nn9",
        "colab_type": "text"
      },
      "source": [
        "# C program of the backtracking search\n",
        "\n",
        "**Purpose**\n",
        "\n",
        "Speed up of searching the solutions of knight' tour by backtrack method.\n",
        "\n",
        "**Explanation**\n",
        "\n",
        "The program goes deeper (on DFS recursive call) only when it does not face the two cases shown above.  \n",
        "In other words, it goes deeper only when the next move is within the board, and it is a unvisited cell.\n",
        "\n",
        "On writing thr backtracking search, the important issue is to **write back** the variables to the original state when it backtracks.\n",
        "\n",
        "**Program**\n",
        "\n",
        "Line 96 and 98 should be pairwised on writing the backtracking program.\n",
        "Line 96 is on the go, and Line 98 is on the way back (backtracking).\n",
        "\n",
        "**Remarks**\n",
        "\n",
        "The verboselevel variable now accepts from 0 to 2.\n"
      ]
    },
    {
      "cell_type": "code",
      "metadata": {
        "id": "Eo2CM8EqZi97",
        "colab_type": "code",
        "colab": {}
      },
      "source": [
        "%%writefile knighttour-backtrack_E.c\n",
        "// Knight tour by backtrack search\n",
        "// kameda[at]ccs.tsukuba.ac.jp, 2020.\n",
        "#include <stdio.h>  // printf\n",
        "#include <stdlib.h> // atoi\n",
        "\n",
        "#define M 8 // choices of one move of knight\n",
        "\n",
        "// 2D coord.\n",
        "typedef struct {int x; int y;} vec2i;\n",
        "\n",
        "// choices of one move of knight (relative position)\n",
        "vec2i move[M] = {\n",
        "\t{ 2 ,1},\n",
        "\t{ 1, 2},\n",
        "\t{-1, 2},\n",
        "\t{-2, 1},\n",
        "\t{-2,-1},\n",
        "\t{-1,-2},\n",
        "\t{ 1,-2},\n",
        "\t{ 2,-1}\n",
        "};\n",
        "\n",
        "// Memory expression of the board\n",
        "int *board = NULL; // value of position (x,y) is stored at board[y * boardsize.x + x]\n",
        "vec2i boardsize = {0, 0};\n",
        "\n",
        "// Starting position of the knight\n",
        "vec2i spt = {0, 0};\n",
        "\n",
        "int knighttour      = 0; // Number of the anwers of the knight's tour\n",
        "int knighttourround = 0; // Number of the anwers of the knight's tour round\n",
        "int verboselevel    = 0; // Verbose level (0/min/default to 2/max)\n",
        "\n",
        "// Memory access to the board position\n",
        "int boardindex(vec2i pt){\n",
        "\treturn (pt.y * boardsize.x + pt.x);\n",
        "}\n",
        "\n",
        "// Display the board (x horizontal, y vertical; positive is downward)\n",
        "void showboard(void){\n",
        "    vec2i pt;\n",
        " \tfor (pt.y = 0; pt.y < boardsize.y; pt.y++) {\n",
        "\t\tfor (pt.x = 0; pt.x < boardsize.x; pt.x++) {\n",
        "\t\t\tprintf(\"%2d \", board[boardindex(pt)]);\n",
        "\t\t}\n",
        "\t\tprintf(\"\\n\");\n",
        "\t}\n",
        "\treturn ;\n",
        "}\n",
        "\n",
        "// Detection of Knight's tour round\n",
        "int check_knighttourround(vec2i pt){\n",
        "\tint d;\n",
        "\tfor (d = 0; d < M; d++) {\n",
        "\t\tif (pt.x + move[d].x == spt.x && \n",
        "\t\t    pt.y + move[d].y == spt.y) {\n",
        "\t\t\treturn 1;\n",
        "\t\t}\n",
        "\t}\n",
        "\treturn 0;\n",
        "}\n",
        "\n",
        "// Generate the solution candidates by backtrack approach by recursive call\n",
        "//   vec2i cpt; current position\n",
        "//   int n_move; number of fixed moves\n",
        "void knighttouronestep_bt(vec2i cpt, int n_move){\n",
        "\tvec2i npt; // next point\n",
        "\tint d; // choice of direction\n",
        "\n",
        "    if (verboselevel >= 2) printf(\"-- %d cells fixed --\\n\", n_move);\n",
        "\tif (verboselevel >= 2) showboard();\n",
        "\n",
        "\t// Solution verification\n",
        "\tif (n_move == boardsize.x * boardsize.y) { \n",
        "\t    // Solution of knight't tour\n",
        "\t\tknighttour++; \n",
        "\t\t// Solution of knight't tour round?\n",
        "\t\tknighttourround += check_knighttourround(cpt);\n",
        "\t\t// Display the solution\n",
        "\t\tif (verboselevel >= 1) {\n",
        "\t\t\tprintf(\"Answer found (%d / %d).\\n\", knighttour, knighttourround);\n",
        "\t\t\tshowboard();\n",
        "\t\t}\n",
        "\t\treturn ; // Do not exit, keep working to find next solutions\n",
        "\t}\n",
        "\t\n",
        "\t// Search by recursive call\n",
        "\tfor (d = 0; d < M; d++) {\n",
        "\t\t// Next position\n",
        "\t\tnpt.x = cpt.x + move[d].x;\n",
        "\t\tnpt.y = cpt.y + move[d].y;\n",
        "\t\tif (npt.x >= 0 && npt.x < boardsize.x &&\n",
        "\t\t    npt.y >= 0 && npt.y < boardsize.y &&\n",
        "\t\t\tboard[boardindex(npt)] == 0) {\n",
        "\t\t\tboard[boardindex(npt)] = n_move + 1;   // Memory this move (original value is 0)\n",
        "\t\t\tknighttouronestep_bt(npt, n_move + 1); // recursive call ; depth first\n",
        "\t\t\tboard[boardindex(npt)] = 0;            // WRITE BACK to the original state on BACKTRACKING\n",
        "\t\t}\n",
        "\t}\n",
        "\treturn ;\n",
        "}\n",
        "\n",
        "// Main function\n",
        "//   Augment: x-size of the board, y-size of the board, starting x-position, starting y-position, verbose level(0-2)\n",
        "int main(int argc, char *argv[]){\n",
        "\n",
        "\t// Check command line options\n",
        "    if (argc != 6) {\n",
        "        printf(\"Speciy x-size of the board, y-size of the board, starting x-position, starting y-position, and verbose level(0-2).\\n\");\n",
        "        printf(\"Quiting because of invalid options.\\n\");\n",
        "        return -1;\n",
        "    }\n",
        "    // board size\n",
        "\tboardsize.x = atoi(argv[1]);\n",
        "\tboardsize.y = atoi(argv[2]);\n",
        "    // starting position\n",
        "\tspt.x = atoi(argv[3]);\n",
        "\tspt.y = atoi(argv[4]);\n",
        "\t// verbose level\n",
        "\tverboselevel = atoi(argv[5]);\n",
        "\tprintf(\"board_size = (%d, %d), start_point = (%d, %d), verbose level = %d\\n\", boardsize.x, boardsize.y, spt.x, spt.y, verboselevel);\n",
        "\tif (boardsize.x < 0 || boardsize.y < 0 || \n",
        "\t    spt.x < 0 || spt.x >= boardsize.x || \n",
        "\t\tspt.y < 0 || spt.y >= boardsize.y) {\n",
        "\t\tprintf(\"Invalid value(s) on options. Force quiting.\\n\");\n",
        "\t}\n",
        "\tif ((board = calloc(boardsize.x * boardsize.y, sizeof(int))) == NULL) {\n",
        "\t\tprintf(\"Memory allocation failure for %d elements for the board memory. Exiting.\\n\", boardsize.x * boardsize.y);\n",
        "\t\treturn -2;\n",
        "\t}\n",
        "\tboard[boardindex(spt)] = 1; // Starting position\n",
        "\tknighttouronestep_bt(spt, 1); // Start the search!\n",
        "\n",
        "\tprintf(\"Result:\\n\");\n",
        "\tprintf(\"  Knight tour       %6d\\n\", knighttour);\n",
        "\tprintf(\"  Knight tour round %6d\\n\", knighttourround);\n",
        "\n",
        "\treturn 0;\n",
        "}\n"
      ],
      "execution_count": null,
      "outputs": []
    },
    {
      "cell_type": "markdown",
      "metadata": {
        "id": "zhechXUNbvva",
        "colab_type": "text"
      },
      "source": [
        "Compile it and check no errors.  \n",
        "It is also a very good idea to comple it with high optimization."
      ]
    },
    {
      "cell_type": "code",
      "metadata": {
        "id": "UcFL-3AR8XSu",
        "colab_type": "code",
        "colab": {}
      },
      "source": [
        "!gcc -Wall -o knighttour-backtrack_E knighttour-backtrack_E.c"
      ],
      "execution_count": null,
      "outputs": []
    },
    {
      "cell_type": "markdown",
      "metadata": {
        "id": "CxBI4UbEcB9L",
        "colab_type": "text"
      },
      "source": [
        "Run it.  \n",
        "See how much faster than the brute-force program.  \n",
        "You can try larger board size with this backtrack program."
      ]
    },
    {
      "cell_type": "code",
      "metadata": {
        "id": "O3zzVD4tcA3h",
        "colab_type": "code",
        "colab": {}
      },
      "source": [
        "!time ./knighttour-backtrack_E 6 6 0 0 0"
      ],
      "execution_count": null,
      "outputs": []
    },
    {
      "cell_type": "markdown",
      "metadata": {
        "id": "yJzLBBOzKnAs",
        "colab_type": "text"
      },
      "source": [
        "# Handling large values\n",
        "\n",
        "When you write programs that may include combinatorial explosion, you have to be very careful on many issues.  \n",
        "One typical issue is the upper limit of the variables.  \n",
        "On the above progam, the type of the counter of the answers is integer, but it might not be good.  \n",
        "The number of the candidates is 8<sup>63</sup> for board 8x8, so it might be a chance of the number of the answers come close to 8<sup>63</sup>  (who knows?).  \n",
        "Since 8<sup>63</sup> = 2<sup>189</sup>, it needs 189 bits whie the unsigned long int corresponds to only 64 bits.  \n",
        "So you need to prepare special tricks just to count numbers in combinatorial explosion situation...\n",
        "\n",
        "(If you know the number shall be  below 64 bits, it is OK, but how you know it in actual cases??)"
      ]
    },
    {
      "cell_type": "code",
      "metadata": {
        "id": "ds17VnBEeIPs",
        "colab_type": "code",
        "colab": {}
      },
      "source": [
        "%%writefile biginteger.c\n",
        "#include <stdio.h>\n",
        "#include <limits.h>\n",
        "int main(int argc, char *argv[]){\n",
        "    printf(\"type int           : Max value is INT_MAX   %d\\n\", INT_MAX);\n",
        "    printf(\"type long          : Max value is LONG_MAX  %ld\\n\", LONG_MAX);\n",
        "    printf(\"type unsigned long : Max value is ULONG_MAX %lu\\n\", ULONG_MAX);\n",
        "    printf(\"type unsigned long : number of the bits used is %ld\\n\", sizeof(unsigned long) * 8);\n",
        "    return 0;\n",
        "}\n"
      ],
      "execution_count": null,
      "outputs": []
    },
    {
      "cell_type": "code",
      "metadata": {
        "id": "7YvVHDxKLJIW",
        "colab_type": "code",
        "colab": {}
      },
      "source": [
        "!gcc -o biginteger biginteger.c\n",
        "!./biginteger"
      ],
      "execution_count": null,
      "outputs": []
    },
    {
      "cell_type": "markdown",
      "metadata": {
        "id": "DY_MbwoPf_9h",
        "colab_type": "text"
      },
      "source": [
        "# Problems\n",
        "\n",
        "1. Computation amount on brute-force  \n",
        "Discuss the computation amount of time and space of knighttour-bluteforce_E.c program. Take the number of the cells of the board as input N.\n",
        "\n",
        "2. Computation amount on backtrack  \n",
        "Discuss the computation amount of time and space of knighttour-backtrack_E.c program. Take the number of the cells of the board as input N.\n",
        "\n",
        "3. Verbose level\n",
        "Explain the verbose level in knighttour-bluteforce_E.c program and knighttour-backtrack_E.c program. What you can see at each level?\n",
        "\n",
        "4. Computation time investigation  \n",
        "Find out how to opitimize on gcc compiling. Optimize knighttour-bluteforce_E.c program and knighttour-backtrack_E.c program. Then take up the situation where it needs more than one minutes to the end in the origina binary, and check the speed up extent by the optimization.\n",
        "\n",
        "\n"
      ]
    },
    {
      "cell_type": "markdown",
      "metadata": {
        "id": "cZ-1SycnqxVa",
        "colab_type": "text"
      },
      "source": [
        "#**Course Info**\n",
        "\n",
        "https://github.com/kameda-yoshinari/DataAlgo-T  \n",
        "Course: Data structure and algorithm  \n",
        "Department of Engineering Systems, University of Tsukuba,Japan.  \n",
        "Author: KAMEDA, Yoshinari  \n",
        "2020.05.19. -"
      ]
    }
  ]
}