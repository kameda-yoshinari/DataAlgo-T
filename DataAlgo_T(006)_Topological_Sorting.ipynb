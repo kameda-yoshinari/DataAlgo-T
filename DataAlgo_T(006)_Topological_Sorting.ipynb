{
  "nbformat": 4,
  "nbformat_minor": 0,
  "metadata": {
    "colab": {
      "name": "DataAlgo-T(006) Topological Sorting",
      "provenance": [],
      "collapsed_sections": [],
      "authorship_tag": "ABX9TyMRTA0QxhU32j1kPapybyHj",
      "include_colab_link": true
    },
    "kernelspec": {
      "name": "python3",
      "display_name": "Python 3"
    }
  },
  "cells": [
    {
      "cell_type": "markdown",
      "metadata": {
        "id": "view-in-github",
        "colab_type": "text"
      },
      "source": [
        "<a href=\"https://colab.research.google.com/github/kameda-yoshinari/DataAlgo-T/blob/master/DataAlgo_T(006)_Topological_Sorting.ipynb\" target=\"_parent\"><img src=\"https://colab.research.google.com/assets/colab-badge.svg\" alt=\"Open In Colab\"/></a>"
      ]
    },
    {
      "cell_type": "markdown",
      "metadata": {
        "id": "yRmydXneMgT8",
        "colab_type": "text"
      },
      "source": [
        "# 3.4. Topological Sorting\n",
        "\n",
        "This section takes up topological sorting. \n",
        "\n",
        "**Reminder**  \n",
        "On github, rendering might not be in good shape.  \n",
        "To see the expected layout, open this page in Google Colaboratory.\n",
        "To run one specific code cell in colab, click the icon on the left part or just type Ctrl + Enter.  \n"
      ]
    },
    {
      "cell_type": "markdown",
      "metadata": {
        "id": "CdQdV_MJIlce",
        "colab_type": "text"
      },
      "source": [
        "# Preparation\n",
        "\n",
        "Connect the Jupyter environment and invoke a runtime. \n",
        "Mount your Google Drive by the procedure below.  \n",
        "Change directory to the mounted point and make it as the working folder.  \n",
        "By then, files are preserved even after you terminate the runtime environment."
      ]
    },
    {
      "cell_type": "code",
      "metadata": {
        "id": "DMtqXRXJIPMR",
        "colab_type": "code",
        "colab": {
          "base_uri": "https://localhost:8080/",
          "height": 139
        },
        "outputId": "3bee1020-25ed-48f9-d687-342269c71c99"
      },
      "source": [
        "!echo \"Mounting your Google Drive\"\n",
        "from google.colab import drive \n",
        "drive.mount('/content/drive')"
      ],
      "execution_count": null,
      "outputs": [
        {
          "output_type": "stream",
          "text": [
            "Mounting your Google Drive\n",
            "Go to this URL in a browser: https://accounts.google.com/o/oauth2/auth?client_id=947318989803-6bn6qk8qdgf4n4g3pfee6491hc0brc4i.apps.googleusercontent.com&redirect_uri=urn%3aietf%3awg%3aoauth%3a2.0%3aoob&scope=email%20https%3a%2f%2fwww.googleapis.com%2fauth%2fdocs.test%20https%3a%2f%2fwww.googleapis.com%2fauth%2fdrive%20https%3a%2f%2fwww.googleapis.com%2fauth%2fdrive.photos.readonly%20https%3a%2f%2fwww.googleapis.com%2fauth%2fpeopleapi.readonly&response_type=code\n",
            "\n",
            "Enter your authorization code:\n",
            "··········\n",
            "Mounted at /content/drive\n"
          ],
          "name": "stdout"
        }
      ]
    },
    {
      "cell_type": "code",
      "metadata": {
        "id": "SABzmuELIaj2",
        "colab_type": "code",
        "colab": {
          "base_uri": "https://localhost:8080/",
          "height": 102
        },
        "outputId": "179174aa-732e-4f5f-c831-0a353e78b9e8"
      },
      "source": [
        "!echo \"Make a working folder and chnage directory to it\"\n",
        "%cd /content/drive/My\\ Drive\n",
        "%mkdir -p DataAlgo-T/006\n",
        "%cd       DataAlgo-T/006\n",
        "!ls"
      ],
      "execution_count": null,
      "outputs": [
        {
          "output_type": "stream",
          "text": [
            "Make a working folder and chnage directory to it\n",
            "/content/drive/My Drive\n",
            "/content/drive/My Drive/DataAlgo-T/006\n",
            "dfs_recursive-short_E\t graph4.h\t       topologicalsorting_E.c\n",
            "dfs_recursive-short_E.c  topologicalsorting_E\n"
          ],
          "name": "stdout"
        }
      ]
    },
    {
      "cell_type": "markdown",
      "metadata": {
        "id": "NINxYWNgOSaw",
        "colab_type": "text"
      },
      "source": [
        "Consider Graph G4.  \n",
        "8 vertices, directed, no cycles.\n"
      ]
    },
    {
      "cell_type": "markdown",
      "metadata": {
        "id": "tErWQzIr6Ttp",
        "colab_type": "text"
      },
      "source": [
        "![da2020-graph4](https://user-images.githubusercontent.com/45651568/84249441-b8381e00-ab45-11ea-9100-7cd745f1940a.jpg)\n"
      ]
    },
    {
      "cell_type": "code",
      "metadata": {
        "id": "rz4_9z4rOQu4",
        "colab_type": "code",
        "colab": {
          "base_uri": "https://localhost:8080/",
          "height": 34
        },
        "outputId": "cbfbe551-3c5b-43c3-90a6-8bbb3ce24467"
      },
      "source": [
        "%%writefile graph4.h\n",
        "// 8 vertices, directed, no-weight.\n",
        "#define N 8\n",
        "int edge[N][N] = {\n",
        "//   0 1 2 3 4 5 6 7\n",
        "\t{0,1,0,0,1,0,0,0}, // 0\n",
        "\t{0,0,0,0,0,0,1,0}, // 1\n",
        "\t{0,0,0,1,0,0,1,0}, // 2\n",
        "\t{0,0,0,0,0,0,0,1}, // 3\n",
        "\t{0,0,0,0,0,1,0,0}, // 4\n",
        " \t{0,0,0,0,0,0,1,0}, // 5\n",
        "\t{0,0,0,0,0,0,0,1}, // 6\n",
        "\t{0,0,0,0,0,0,0,0}  // 7\n",
        "};"
      ],
      "execution_count": null,
      "outputs": [
        {
          "output_type": "stream",
          "text": [
            "Overwriting graph4.h\n"
          ],
          "name": "stdout"
        }
      ]
    },
    {
      "cell_type": "markdown",
      "metadata": {
        "id": "4s3BWazcz1FB",
        "colab_type": "text"
      },
      "source": [
        "# Outline of Topological Sorting\n",
        "\n",
        "**Explanation**\n",
        "\n",
        "Consider a directed graph that has not cycles.\n",
        "有向で閉路のない（非循環でループのない）グラフを対象とする．\n",
        "Topological sorting is to align all vertices on a line where any directed edges are in same direction. \n",
        "Topological sorting is useful whenever you need to serialize the objects (sometimes tasks) where objects have dependencies between them.  \n",
        "\n",
        "Note that there could be many solutions that satisfy topological sorting for a given graph.\n",
        "\n",
        "**Example**\n",
        "\n",
        "Consider the situation that can be described in Graph G4.\n",
        "It can be said that:\n",
        "Task 0 should be done before Task 1 and Task 4.\n",
        "Task 1 should be done before Task 6.\n",
        "Task 2 should be done before Task 3 and Task 6.\n",
        "Task 3 should be done before Task 7.\n",
        "Task 4 should be done before Task 5.\n",
        "Task 5 should be done before Task 6.\n",
        "Task 6 should be done before Task 7.\n",
        "\n",
        "How do you find the topological sorting result?\n",
        "Up to now, you only learn two algorithms ... BFS and DFS.\n",
        "Yes, we will re-use one of these two for finding the topological sorting result.\n",
        "Can you imagine which is used?\n",
        "\n",
        "...\n",
        "\n",
        "Before you get the answer, consider how it should be done.  \n",
        "Pick up any one task first (say Task-A).  \n",
        "Task-A will be executed just after all the necessary tasks for Task-A have been done.\n",
        "To figure out all the necessary taskes, first find the adjacent (source) taskes.\n",
        "Then, for each of the adjacent taskes, find their adjacent tasks again.\n",
        "This procedure is actually recursive.\n",
        "\n",
        "...\n",
        "\n",
        "Yes, what we need is DFS.\n",
        "\n",
        "**Implementation**\n",
        "\n",
        "So we copy dfs_recursive-short-E.c program.  \n",
        "How much do we need to modify the program?\n",
        "The algorithm we need is very similar to DFS.\n"
      ]
    },
    {
      "cell_type": "markdown",
      "metadata": {
        "id": "0_o0avWIHZqC",
        "colab_type": "text"
      },
      "source": [
        "# Short C program of DFS in C language (revisit)\n",
        "\n",
        "**Purpose**\n",
        "\n",
        "See what happens if we apply DFS to a directed graph and consider how much we need to modify the program.\n",
        "\n",
        "**Explanation**\n",
        "\n",
        "Just change the graph from G3 to G4 (graph4.h). Others are same.\n",
        "\n",
        "**Program**\n",
        "\n",
        "The behavior of the program should be same.\n",
        "\n",
        "**Remarks**\n",
        "\n",
        "If there are some vertices that are not reachable from the starting vertex, they are not on the final listing.   \n",
        "In Graph G4 case starting at Vertex 0, Vertex 2 and 3 are left unvisited.\n",
        "\n",
        "---\n",
        "\n"
      ]
    },
    {
      "cell_type": "code",
      "metadata": {
        "id": "Eo2CM8EqZi97",
        "colab_type": "code",
        "colab": {
          "base_uri": "https://localhost:8080/",
          "height": 34
        },
        "outputId": "8ed70a68-3b4d-445b-d40d-42f97c1c76a3"
      },
      "source": [
        "%%writefile dfs_recursive-short_E.c\n",
        "// Depth First Search by recursive call\n",
        "// kameda[at]ccs.tsukuba.ac.jp, 2020.\n",
        "#include <stdio.h> // printf()\n",
        "#include <stdlib.h> // atoi()\n",
        "#include \"graph4.h\"\n",
        "\n",
        "int listed[N];  // 0 not yet, 1 listed\n",
        "\n",
        "// DFS main body by recursive calls\n",
        "void dfs(int CurrentRoom){\n",
        "    int RoomToCheck;\n",
        "\n",
        "\t// It is recognized as being listed.\n",
        "\tlisted[CurrentRoom] = 1;\n",
        "\t// Show the listing order.\n",
        "    printf(\"Listing: %d\\n\", CurrentRoom);\n",
        "\n",
        "    // Choose next\n",
        "\tfor (RoomToCheck = 0; RoomToCheck < N; RoomToCheck++) {\n",
        "        if (edge[CurrentRoom][RoomToCheck] != 0 && listed[RoomToCheck] == 0) \n",
        "\t\t\tdfs(RoomToCheck);\n",
        "\t}\n",
        "\treturn;\n",
        "}\n",
        "\n",
        "// Main function\n",
        "int main(int argc, char *argv[]){\n",
        "    int RoomToCheck;\n",
        "    int startvertex = 0;\n",
        "    if (argc == 1) {\n",
        "        printf(\"Start vertex not specified, so set No.0 as start.\\n\");\n",
        "        startvertex = 0;\n",
        "    } else if (argc == 2) {\n",
        "        startvertex = atoi(argv[1]);\n",
        "        if (startvertex < 0 || startvertex >= N) {\n",
        "            printf(\"Illegal ID specified, so quit.\\n\");\n",
        "            return -1;\n",
        "        }\n",
        "    }\n",
        "\n",
        "\tfor (RoomToCheck = 0; RoomToCheck < N; RoomToCheck++)\n",
        "\t\tlisted[RoomToCheck] = 0;\n",
        "\n",
        "\tdfs(startvertex); // Call dfs() with the starting vertex ID\n",
        "\n",
        "\treturn 0;\n",
        "}"
      ],
      "execution_count": null,
      "outputs": [
        {
          "output_type": "stream",
          "text": [
            "Overwriting dfs_recursive-short_E.c\n"
          ],
          "name": "stdout"
        }
      ]
    },
    {
      "cell_type": "markdown",
      "metadata": {
        "id": "zhechXUNbvva",
        "colab_type": "text"
      },
      "source": [
        "Compile it and check no errors."
      ]
    },
    {
      "cell_type": "code",
      "metadata": {
        "id": "5gxNiHT-bvEd",
        "colab_type": "code",
        "colab": {}
      },
      "source": [
        "!gcc -Wall -o  dfs_recursive-short_E dfs_recursive-short_E.c"
      ],
      "execution_count": null,
      "outputs": []
    },
    {
      "cell_type": "markdown",
      "metadata": {
        "id": "CxBI4UbEcB9L",
        "colab_type": "text"
      },
      "source": [
        "Run the program with starating vertex 0.\n",
        "Vertex 2 and 3 are left unvisited at Graph G4. "
      ]
    },
    {
      "cell_type": "code",
      "metadata": {
        "id": "O3zzVD4tcA3h",
        "colab_type": "code",
        "colab": {
          "base_uri": "https://localhost:8080/",
          "height": 119
        },
        "outputId": "b501da43-3543-49f2-d1a0-b6f2db7439a0"
      },
      "source": [
        "!./dfs_recursive-short_E 0"
      ],
      "execution_count": null,
      "outputs": [
        {
          "output_type": "stream",
          "text": [
            "Listing: 0\n",
            "Listing: 1\n",
            "Listing: 6\n",
            "Listing: 7\n",
            "Listing: 4\n",
            "Listing: 5\n"
          ],
          "name": "stdout"
        }
      ]
    },
    {
      "cell_type": "markdown",
      "metadata": {
        "id": "r60cXNVItEev",
        "colab_type": "text"
      },
      "source": [
        "# C program of Topological Sorting\n",
        "\n",
        "**Purpose**\n",
        "\n",
        "Rewrite the dfs_recursive-short_E.c program and realize topological sorting.\n",
        "\n",
        "**Explanation**\n",
        "\n",
        "In dfs(), just move the \"printf()\" to the end of the function.\n",
        "In main(), if the dfs() comes back with some vertices left, find them and set one of them as a starting vertex, and rerun the dfs() again (and again).\n",
        "\n",
        "**Program**\n",
        "\n",
        "Check other part are same as the original.\n",
        "\n",
        "**Remarks**\n",
        "\n",
        "Escpecially in dfs(), we just move printf(), which cannot affect the program behavior, but yet now it comes to Topological Sorting.\n",
        "\n",
        "It implies the algorithms might be same even if the given problems look very different.  \n",
        "\n",
        "\n"
      ]
    },
    {
      "cell_type": "code",
      "metadata": {
        "id": "w1v08T5Ttw-x",
        "colab_type": "code",
        "colab": {
          "base_uri": "https://localhost:8080/",
          "height": 34
        },
        "outputId": "cdabb240-8892-4d0f-bca3-ee373e7ffc6e"
      },
      "source": [
        "%%writefile topologicalsorting_E.c\n",
        "// Topological sorting (almost same as DFS)\n",
        "// kameda[at]ccs.tsukuba.ac.jp, 2020.\n",
        "#include <stdio.h> // printf()\n",
        "#include <stdlib.h> // atoi()\n",
        "#include \"graph4.h\"\n",
        "\n",
        "int listed[N];  // 0 not yet, 1 listed\n",
        "\n",
        "// DFS main body by recursive calls\n",
        "void dfs(int CurrentRoom){\n",
        "    int RoomToCheck;\n",
        "\n",
        "\t// It is recognized as being listed.\n",
        "\tlisted[CurrentRoom] = 1;\n",
        "\n",
        "    // Choose next\n",
        "\tfor (RoomToCheck = 0; RoomToCheck < N; RoomToCheck++) {\n",
        "        if (edge[CurrentRoom][RoomToCheck] != 0 && listed[RoomToCheck] == 0) \n",
        "\t\t\tdfs(RoomToCheck);\n",
        "\t}\n",
        "\n",
        "\t// Topological sorting\n",
        "    printf(\"Listing: %d\\n\", CurrentRoom);\n",
        "\n",
        "\treturn;\n",
        "}\n",
        "\n",
        "// Main function\n",
        "int main(int argc, char *argv[]){\n",
        "    int RoomToCheck;\n",
        "    int startvertex = 0;\n",
        "    if (argc == 1) {\n",
        "        printf(\"Start vertex not specified, so set No.0 as start.\\n\");\n",
        "        startvertex = 0;\n",
        "    } else if (argc == 2) {\n",
        "        startvertex = atoi(argv[1]);\n",
        "        if (startvertex < 0 || startvertex >= N) {\n",
        "            printf(\"Illegal ID specified, so quit.\\n\");\n",
        "            return -1;\n",
        "        }\n",
        "    }\n",
        "\n",
        "\tfor (RoomToCheck = 0; RoomToCheck < N; RoomToCheck++)\n",
        "\t\tlisted[RoomToCheck] = 0;\n",
        "\n",
        "\tdfs(startvertex); // Call dfs() with the starting vertex ID\n",
        "\n",
        "    // Same procedure for remaining vertices\n",
        "    {\n",
        "        int r;\n",
        "        for (r = 0; r < N; r++) {\n",
        "            if (listed[r] == 0) {\n",
        "                dfs(r);\n",
        "            }\n",
        "        }\n",
        "    }\n",
        "\n",
        "\treturn 0;\n",
        "}"
      ],
      "execution_count": null,
      "outputs": [
        {
          "output_type": "stream",
          "text": [
            "Overwriting topologicalsorting_E.c\n"
          ],
          "name": "stdout"
        }
      ]
    },
    {
      "cell_type": "markdown",
      "metadata": {
        "id": "CxYiibIBZFHd",
        "colab_type": "text"
      },
      "source": [
        "Compile it and check no errors."
      ]
    },
    {
      "cell_type": "code",
      "metadata": {
        "id": "mGDWYHGAuvcs",
        "colab_type": "code",
        "colab": {}
      },
      "source": [
        "!gcc -Wall -o topologicalsorting_E topologicalsorting_E.c"
      ],
      "execution_count": null,
      "outputs": []
    },
    {
      "cell_type": "markdown",
      "metadata": {
        "id": "A1RsCBCNsrmj",
        "colab_type": "text"
      },
      "source": [
        "Run it by specifying the starting vertex 0."
      ]
    },
    {
      "cell_type": "code",
      "metadata": {
        "id": "dNojxs9Iu6mt",
        "colab_type": "code",
        "colab": {
          "base_uri": "https://localhost:8080/",
          "height": 153
        },
        "outputId": "30a95f21-d3ac-4e89-f6c6-33ae470ecfe1"
      },
      "source": [
        "!./topologicalsorting_E 0"
      ],
      "execution_count": null,
      "outputs": [
        {
          "output_type": "stream",
          "text": [
            "Listing: 7\n",
            "Listing: 6\n",
            "Listing: 1\n",
            "Listing: 5\n",
            "Listing: 4\n",
            "Listing: 0\n",
            "Listing: 3\n",
            "Listing: 2\n"
          ],
          "name": "stdout"
        }
      ]
    },
    {
      "cell_type": "markdown",
      "metadata": {
        "id": "nJEhszOkxIoj",
        "colab_type": "text"
      },
      "source": [
        "Double check the result is surely following the order of topological sorting.\n",
        "Below is a another outlook of the graph G4, following the result.  \n",
        "You see all the arrows (edges) are in same direction."
      ]
    },
    {
      "cell_type": "markdown",
      "metadata": {
        "id": "9zH053FixcJ6",
        "colab_type": "text"
      },
      "source": [
        "![G4-ts.png](data:image/png;base64,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)"
      ]
    },
    {
      "cell_type": "markdown",
      "metadata": {
        "id": "DY_MbwoPf_9h",
        "colab_type": "text"
      },
      "source": [
        "# Problems\n",
        "\n",
        "1. Complete algorithm  \n",
        "As long as a given graph is directed and no cycles, topologicalsorting_E.c program always returns the topological sorting result successfully. Try to explain that this is true. \n",
        "\n",
        "2. Computation amount  \n",
        "Discuss the computation amount of time and space of topologicalsorting_E.c program.\n",
        "\n",
        "3. No cycles  \n",
        "On topological sorting, there should be no cycles in the graph. Explain the reason.\n",
        "\n",
        "\n"
      ]
    },
    {
      "cell_type": "markdown",
      "metadata": {
        "id": "PCR-YSycRBPi",
        "colab_type": "text"
      },
      "source": [
        "#**Course Info**\n",
        "\n",
        "https://github.com/kameda-yoshinari/DataAlgo-T  \n",
        "Course: Data structure and algorithm  \n",
        "Department of Engineering Systems, University of Tsukuba,Japan.  \n",
        "Author: KAMEDA, Yoshinari  \n",
        "2020.05.19. -  "
      ]
    }
  ]
}