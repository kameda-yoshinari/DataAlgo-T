{
  "nbformat": 4,
  "nbformat_minor": 0,
  "metadata": {
    "colab": {
      "name": "DataAlgo-T(009) ShortestNN",
      "provenance": [],
      "collapsed_sections": [],
      "authorship_tag": "ABX9TyOuFFsQWqAvG6FBkzF9y8gU",
      "include_colab_link": true
    },
    "kernelspec": {
      "name": "python3",
      "display_name": "Python 3"
    }
  },
  "cells": [
    {
      "cell_type": "markdown",
      "metadata": {
        "id": "view-in-github",
        "colab_type": "text"
      },
      "source": [
        "<a href=\"https://colab.research.google.com/github/kameda-yoshinari/DataAlgo-T/blob/master/DataAlgo_T(009)_ShortestNN.ipynb\" target=\"_parent\"><img src=\"https://colab.research.google.com/assets/colab-badge.svg\" alt=\"Open In Colab\"/></a>"
      ]
    },
    {
      "cell_type": "markdown",
      "metadata": {
        "id": "yRmydXneMgT8",
        "colab_type": "text"
      },
      "source": [
        "# 4.3. N-N Shortest Path Problem\n",
        "\n",
        "Learn the algorithm to find the shortest path among any pair in a given graph. It is called N to N shortest path problem.\n",
        "\n",
        "**Reminder**  \n",
        "On github, rendering might not be in good shape.  \n",
        "To see the expected layout, open this page in Google Colaboratory.\n",
        "To run one specific code cell in colab, click the icon on the left part or just type Ctrl + Enter.  \n"
      ]
    },
    {
      "cell_type": "markdown",
      "metadata": {
        "id": "CdQdV_MJIlce",
        "colab_type": "text"
      },
      "source": [
        "# Preparation\n",
        "\n",
        "Connect the Jupyter environment and invoke a runtime. \n",
        "Mount your Google Drive by the procedure below.  \n",
        "Change directory to the mounted point and make it as the working folder.  \n",
        "By then, files are preserved even after you terminate the runtime environment."
      ]
    },
    {
      "cell_type": "code",
      "metadata": {
        "id": "DMtqXRXJIPMR",
        "colab_type": "code",
        "colab": {}
      },
      "source": [
        "!echo \"Mounting your Google Drive\"\n",
        "from google.colab import drive \n",
        "drive.mount('/content/drive')"
      ],
      "execution_count": null,
      "outputs": []
    },
    {
      "cell_type": "code",
      "metadata": {
        "id": "SABzmuELIaj2",
        "colab_type": "code",
        "colab": {}
      },
      "source": [
        "!echo \"Make a working folder and chnage directory to it\"\n",
        "%cd /content/drive/My\\ Drive\n",
        "%mkdir -p DataAlgo-T/009\n",
        "%cd       DataAlgo-T/009\n",
        "!ls"
      ],
      "execution_count": null,
      "outputs": []
    },
    {
      "cell_type": "markdown",
      "metadata": {
        "id": "NINxYWNgOSaw",
        "colab_type": "text"
      },
      "source": [
        "Requirements to the graphs are same as Section 4.1. (Dijkstra).\n",
        "We use Graph G6, G7, and G8.\n"
      ]
    },
    {
      "cell_type": "markdown",
      "metadata": {
        "id": "tErWQzIr6Ttp",
        "colab_type": "text"
      },
      "source": [
        "![image.png](data:image/png;base64,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)"
      ]
    },
    {
      "cell_type": "code",
      "metadata": {
        "id": "rz4_9z4rOQu4",
        "colab_type": "code",
        "colab": {}
      },
      "source": [
        "%%writefile graph6.h\n",
        "// 8 nodes, undirected, no loop, positive weight.\n",
        "// NC means no edges.\n",
        "// NC will be treated as \"inifinity\" on searching the shortest path. \n",
        "#define N 8\n",
        "#define NC 9999 // this big value means both no path and infinity \n",
        "int edge[N][N] = {\n",
        "//     0   1   2   3   4   5   6   7\n",
        "\t{  0,100, NC, NC,145,200, NC, NC}, // 0\n",
        "\t{100,  0, 23, NC, NC, 80, NC, 70}, // 1\n",
        "\t{ NC, 23,  0, 21, NC, 45, 37, NC}, // 2\n",
        "\t{ NC, NC, 21,  0, NC, NC, 18,  5}, // 3\n",
        "\t{145, NC, NC, NC,  0, 20, NC, NC}, // 4\n",
        "\t{200, 80, 45, NC, 20,  0,  2, NC}, // 5\n",
        "\t{ NC, NC, 37, 18, NC,  2,  0,  1}, // 6\n",
        "\t{ NC, 70, NC,  5, NC, NC,  1,  0}  // 7\n",
        "};"
      ],
      "execution_count": null,
      "outputs": []
    },
    {
      "cell_type": "code",
      "metadata": {
        "id": "68fKClFZFJW5",
        "colab_type": "code",
        "colab": {}
      },
      "source": [
        "%%writefile graph7.h\n",
        "// 4 nodes, directed, positive weight.\n",
        "// NC means no edges.\n",
        "// NC will be treated as \"inifinity\" on searching the shortest path. \n",
        "#define N 4\n",
        "#define NC 9999 // this big value means no path\n",
        "int edge[N][N] = {\n",
        "//     0   1   2   3\n",
        "\t{  0, 10, NC, 40}, // 0\n",
        "\t{ NC,  0, NC, 20}, // 1\n",
        "\t{ NC, NC,  0, NC}, // 2\n",
        "\t{ NC, NC, NC,  0}, // 3\n",
        "};"
      ],
      "execution_count": null,
      "outputs": []
    },
    {
      "cell_type": "code",
      "metadata": {
        "id": "ZKMrM5a2OUv4",
        "colab_type": "code",
        "colab": {}
      },
      "source": [
        "%%writefile graph8.h\n",
        "// 12 nodes, directed, positive weight.\n",
        "// NC means no edges.\n",
        "// NC will be treated as \"inifinity\" on searching the shortest path. \n",
        "#define N 12\n",
        "#define NC 9999 // this big value means no path\n",
        "int edge[N][N] = {\n",
        "    { 0, 4,NC,NC, 3,NC,NC,NC,NC,NC,NC,NC},\n",
        "    { 4, 0, 1,NC,NC,NC, 2,NC,NC,NC,NC,NC},\n",
        "    {NC, 1, 0, 1,NC,NC,NC, 2,NC,NC,NC,NC},\n",
        "    {NC,NC, 1, 0,NC,NC,NC,NC,NC,NC,NC,NC},\n",
        "    { 3,NC,NC,NC, 0, 1,NC,NC, 1,NC,NC,NC},\n",
        "    {NC,NC,NC,NC, 1, 0, 2,NC,NC, 2, 3,NC},\n",
        "    {NC, 2,NC,NC,NC, 2, 0,NC,NC,NC, 3,NC},\n",
        "    {NC,NC, 2,NC,NC,NC,NC, 0,NC,NC,NC,NC},\n",
        "    {NC,NC,NC,NC, 1,NC,NC,NC, 0,NC,NC,NC},\n",
        "    {NC,NC,NC,NC,NC, 2,NC,NC,NC, 0,NC,NC},\n",
        "    {NC,NC,NC,NC,NC, 3, 3,NC,NC,NC, 0, 1},\n",
        "    {NC,NC,NC,NC,NC,NC,NC,NC,NC,NC, 1, 0}\n",
        "};"
      ],
      "execution_count": null,
      "outputs": []
    },
    {
      "cell_type": "markdown",
      "metadata": {
        "id": "4s3BWazcz1FB",
        "colab_type": "text"
      },
      "source": [
        "# Floyd's Algorithm\n",
        "\n",
        "**Explanation**\n",
        "\n",
        "For the basic assumptions of the shortest path problem, see the section 4.2.\n",
        "\n",
        "\n",
        "**Alternative plan: use of Dijkstra for N times**\n",
        "\n",
        "Before introducing the new algorithm proposed by Floyd, let's think alternative way of finding the N-N problem.\n",
        "The simplest method is to run the Dijkstra (shortest-dijkstra_E.c) program for N times by changing the starting vertex from 0 to N-1.\n",
        "Actually, on the big-O notation discussion, the computation amount is same sa the floyd algorithm (it appears later).\n",
        "\n",
        "However, you are encouraged to learn the floyd algorithm because this is one of the most sophisticated algorithm that fits computers. (This measn sometimes it is not easy for human beings to invent this kind of program by nature.)\n",
        "\n",
        "**Floyd's Algorithm**\n",
        "\n",
        "The core part of the Floyd's algorithm is rather simple.\n",
        "Suppose we are in the middle of the process. At this moment, we obtain tentative minimum weight of the path from Vetex A to Vertex B, and it is denoted as W(A,B).\n",
        "\n",
        "Let's consider the path from Vertex A to Vertex B now. If we find the intermediate vertex C where\n",
        "> W(A,C) + W(C,B) < W(A,B)\n",
        "\n",
        "is satified, the value of W(A,B) should be replced by W(A,C) + W(C,B).  \n",
        "Repeat this process until all the W(X,Y) are settled.\n",
        "\n",
        "The last (yet hard) problem is how to pick up pairs and the intermediate vertex among the edges and vertices in the graph.\n",
        "\n",
        "In the Floyd's algorithm, this is solved by permitting the intermediate vertices step by step. On enlarging the set of intermediate vertices, update the tentative minimum values of any pairs by refering the results of one step before.\n",
        "\n",
        "1. For all the edge pairs A and B, W(A,B) is set to infinite.\n",
        "2. W(A,B) set to the edge(A,B) only when edge(A,B) is not infinite. This corresponds to the situation where we are allowed to move when there is a direct edge from A to B. (equivalent to direct flight for air travel).\n",
        "3. Pick up one vertex C. (This is like adding a new transfer airport which could be used for transfer in air travel.)\n",
        "4. for any vertex pair A and B, update W(A,B) only when W(A,C) + W(C,B) is smaller than W(A,B). \n",
        "5. Repeat Step 3 and 4 until all the vertices are allowed to use as trasnfer. \n",
        "\n",
        "An execution example on Graph G6 is shown in the diagram below.   \n",
        "The intermediate vertices are chosen from Vertex 0, then 1, 2, ... and 7 at step 3.  \n",
        "\n",
        "Note that \"Direct only\" in the diagram means the end of the step 2.\n",
        "Then as for the first visit of Step 3, Vertex 0 is chosen to be allowed to use as \"transfer\" vertex.  \n",
        "Note that on first visit of Step 4, we comppare these two for any Src/Dst vertex pair. (Trs is Vertex 0 here)\n",
        "* W(Src,Dst)\n",
        "* W(Src,Trs) + W(Trs, Dst)\n",
        "Updated paths are in red color (remember NC is infinite, so any finite value could replace it).  \n",
        "You have to recognize that W(Src,Trs) and W(Trs, Dst) never changes during the step 4 (for example, W(Src,Trs) could be updated only when W(Src,Trs)+W(Trs,Trs) is smaller ... obvisouly it is stupid). In the diagram, green cells coressponds to the W(Src,Trs) and W(Trs,Dst).  \n",
        "On the second visit of step 4, you have to remind that W(Src,1) and W(1,Dst) are the result of counting the Vertex 0 as for transfer. We only have to think where to insert the transfer airport 1 on the path. This last part is probably the most difficult to understand, so make sure you surely understand the procedure.\n",
        "\n",
        "\n",
        "**Implementation**\n",
        "\n",
        "Implementation should be very simple. See the program part below.\n",
        "\n",
        "**Remarks**\n",
        "\n",
        "FYI, Floyd's algorithm is classified as dynamic programming.\n",
        "\n",
        "\n"
      ]
    },
    {
      "cell_type": "markdown",
      "metadata": {
        "id": "m-REn9jmnMsT",
        "colab_type": "text"
      },
      "source": [
        "![floyd](https://user-images.githubusercontent.com/45651568/90324349-98d7ca00-dfa8-11ea-929a-12de47d3da75.png)\n"
      ]
    },
    {
      "cell_type": "markdown",
      "metadata": {
        "id": "0_o0avWIHZqC",
        "colab_type": "text"
      },
      "source": [
        "# C program of Flyod's algorithm\n",
        "\n",
        "**Purpose**\n",
        "\n",
        "Develop the C program to find minimum weight paths to all the vertice pairs in the given graph. \n",
        "\n",
        "**Explanation**\n",
        "\n",
        "main process is in find_shortest_floyd() function.\n",
        "\n",
        "**Program**\n",
        "\n",
        "If you pass something as command line option, the output is changed to simpler version.\n",
        "To see what happens, read carefully the program by checking the simpledisplay variable.\n",
        "\n",
        "**Remarks**\n",
        "\n",
        "The find_shortest_floyd() seems to be very simple.\n",
        "As for the main part of step 3-5, there is only tri-nested for loop in which only on if() statement.\n",
        "Yet it does much more than Dijkstra's program.  \n",
        "This means the floyd algorithm is really fit to computer architecture and C language.\n"
      ]
    },
    {
      "cell_type": "code",
      "metadata": {
        "id": "Eo2CM8EqZi97",
        "colab_type": "code",
        "colab": {}
      },
      "source": [
        "%%writefile shortest-floyd_E.c\n",
        "// Shortest path by Floyd\n",
        "// kameda[at]ccs.tsukuba.ac.jp, 2020.\n",
        "#include <stdio.h> // printf()\n",
        "#include <stdlib.h> // atoi()\n",
        "#include \"graph6.h\" // edge[][], N, NC\n",
        "\n",
        "int simpledisplay = 0; // 0:normal, 1:simpler\n",
        "\n",
        "// Structured variable for vertex \n",
        "typedef struct {\n",
        "    int cost; // tentative distance.\n",
        "    int trans; // the vertex you have to visit (trasnfer) on realizing the minimum cost.\n",
        "} CostTrans;\n",
        "\n",
        "CostTrans pathinfo[N][N]; //  [a][b] source vertex a and destination veretex b\n",
        "\n",
        "// Display all the shortest paths by recursive call\n",
        "// Note that the last destination vertex won't be shown by this function.\n",
        "void outputpath(int SrcVertex, int DstVertex){\n",
        "    // Termination condition of recursive all is to find the direct edge  (pathinfo[s][d].trans==s).\n",
        "    // Only the source vertex is shown.\n",
        "    if (pathinfo[SrcVertex][DstVertex].trans == SrcVertex) {\n",
        "        printf(\"%2d \", SrcVertex);\n",
        "    } else {\n",
        "        // path before the transfer and the path after the transfer\n",
        "        outputpath(SrcVertex, pathinfo[SrcVertex][DstVertex].trans);\n",
        "        outputpath(pathinfo[SrcVertex][DstVertex].trans, DstVertex);\n",
        "    }\n",
        "}\n",
        "\n",
        "// Show the \"transfer\" matrix\n",
        "void print_path_status(void){\n",
        "    int SrcVertex, DstVertex;\n",
        "\n",
        "    if (simpledisplay == 0) {\n",
        "        for (SrcVertex = 0; SrcVertex < N; SrcVertex++) {\n",
        "            for (DstVertex = 0; DstVertex < N; DstVertex++) {\n",
        "                if (pathinfo[SrcVertex][DstVertex].cost >= NC) \n",
        "                    printf(\"---(--) \");\n",
        "                else\n",
        "                    printf(\"%3d(%2d) \", pathinfo[SrcVertex][DstVertex].cost, pathinfo[SrcVertex][DstVertex].trans);\n",
        "            }\n",
        "            printf(\"\\n\");\n",
        "        }\n",
        "    } else {\n",
        "        for (SrcVertex = 0; SrcVertex < N; SrcVertex++) {\n",
        "            for (DstVertex = 0; DstVertex < N; DstVertex++) {\n",
        "                if (pathinfo[SrcVertex][DstVertex].cost >= NC) \n",
        "                    printf(\"NC\\t\");\n",
        "                else\n",
        "                    printf(\"%d\\t\", pathinfo[SrcVertex][DstVertex].cost);\n",
        "                }\n",
        "            printf(\"\\n\");\n",
        "        }\n",
        "    }\n",
        "\n",
        "    return ;\n",
        "}\n",
        "\n",
        "// Mainbody of Floyd's algorithm \n",
        "void find_shortest_floyd(void){\n",
        "    int SrcVertex, DstVertex;\n",
        "    int MidVertex; // a.k.a. \"transfer vertex\"\n",
        "    int NewCost;\n",
        "    \n",
        "    // Initialize tentative distance by weight of direct edges\n",
        "\t// Note that no edge is expressed by NC, so just copy all the adjacent matrix elements\n",
        "    for (SrcVertex = 0; SrcVertex < N; SrcVertex++) {\n",
        "        for (DstVertex = 0; DstVertex < N; DstVertex++) {\n",
        "            pathinfo[SrcVertex][DstVertex].cost = edge[SrcVertex][DstVertex];\n",
        "            pathinfo[SrcVertex][DstVertex].trans  = SrcVertex; // 直行が解の時は trans == SrcVertex\n",
        "        }\n",
        "    }\n",
        "    printf(\"After step 2: direct edges only ===\\n\");\n",
        "    print_path_status();\n",
        "\n",
        "\t// The outmost loop corresponds to step 3 and 5\n",
        "\t// The second and third loops correspond to step 4\n",
        "    for (MidVertex = 0; MidVertex < N; MidVertex++) {\n",
        "        for (SrcVertex = 0; SrcVertex < N; SrcVertex++) {\n",
        "            for (DstVertex = 0; DstVertex < N; DstVertex++) {\n",
        "                NewCost = pathinfo[SrcVertex][MidVertex].cost + pathinfo[MidVertex][DstVertex].cost;\n",
        "                if (NewCost < pathinfo[SrcVertex][DstVertex].cost) {\n",
        "                    pathinfo[SrcVertex][DstVertex].cost = NewCost;\n",
        "                    pathinfo[SrcVertex][DstVertex].trans  = MidVertex;\n",
        "                }\n",
        "            }\n",
        "        }\n",
        "        printf(\"After step 4 (Vertex %2d as new tranfer vertex) ===\\n\", MidVertex);\n",
        "        print_path_status();\n",
        "    }\n",
        "\n",
        "    // Final result\n",
        "    if (simpledisplay == 0) {\n",
        "        printf(\"Answers of the shortest paths\\n\");\n",
        "        for (SrcVertex = 0; SrcVertex < N; SrcVertex++) {\n",
        "            for (DstVertex = 0; DstVertex < N; DstVertex++) {\n",
        "                printf(\"%2d => %2d: \",SrcVertex, DstVertex);\n",
        "                if (pathinfo[SrcVertex][DstVertex].cost == NC) {\n",
        "                    printf(\"  - : (No path)\");\n",
        "                } else {\n",
        "                    printf(\"%3d :\", pathinfo[SrcVertex][DstVertex].cost);\n",
        "                    outputpath(SrcVertex, DstVertex);\n",
        "                    printf(\"%2d\", DstVertex);\n",
        "                }\n",
        "                printf(\"\\n\");\n",
        "            }\n",
        "\n",
        "            printf(\"\\n\");\n",
        "        }\n",
        "    }\n",
        "\n",
        "    return ;\n",
        "}\n",
        "\n",
        "// Main function\n",
        "int main(int argc, char *argv[]){\n",
        "      \n",
        "    if (argc >= 2) {\n",
        "        simpledisplay = 1;\n",
        "        printf(\"Output in simpler mode.\\n\");\n",
        "    }\n",
        "\n",
        "    find_shortest_floyd();\n",
        "\n",
        "    return 0;\n",
        "}\n",
        "\n",
        "\n"
      ],
      "execution_count": null,
      "outputs": []
    },
    {
      "cell_type": "markdown",
      "metadata": {
        "id": "zhechXUNbvva",
        "colab_type": "text"
      },
      "source": [
        "Compile it and check no errors."
      ]
    },
    {
      "cell_type": "code",
      "metadata": {
        "id": "UcFL-3AR8XSu",
        "colab_type": "code",
        "colab": {}
      },
      "source": [
        "!gcc -Wall -o shortest-floyd_E shortest-floyd_E.c"
      ],
      "execution_count": null,
      "outputs": []
    },
    {
      "cell_type": "markdown",
      "metadata": {
        "id": "CxBI4UbEcB9L",
        "colab_type": "text"
      },
      "source": [
        "Run it."
      ]
    },
    {
      "cell_type": "code",
      "metadata": {
        "id": "O3zzVD4tcA3h",
        "colab_type": "code",
        "colab": {}
      },
      "source": [
        "!./shortest-floyd_E "
      ],
      "execution_count": null,
      "outputs": []
    },
    {
      "cell_type": "markdown",
      "metadata": {
        "id": "m2Q36vNfAulG",
        "colab_type": "text"
      },
      "source": [
        "If you run it with options, output becomes simple."
      ]
    },
    {
      "cell_type": "code",
      "metadata": {
        "id": "2V--VGQEAzOn",
        "colab_type": "code",
        "colab": {}
      },
      "source": [
        "!./shortest-floyd_E simple"
      ],
      "execution_count": null,
      "outputs": []
    },
    {
      "cell_type": "markdown",
      "metadata": {
        "id": "DY_MbwoPf_9h",
        "colab_type": "text"
      },
      "source": [
        "# Problems\n",
        "\n",
        "1. Vertex list of the shortest path  \n",
        "shortest-floyd_E.c program includes a trick to show the shortest paths. Point out the corresponding part of the trick and explain why it can show the vertex list.\n",
        "\n",
        "2. Computation amount  \n",
        "Discuss the computation amount of time and space of shortest-floyd_E.c program.\n",
        "\n",
        "3. Develop the program based on shortest-dijkstra_E.c program  \n",
        "Implement the alternative plan: use of Dijkstra for N times by your hand. And compare its computation amount of time and space with shortest-floyd_E.c program.\n"
      ]
    },
    {
      "cell_type": "markdown",
      "metadata": {
        "id": "F3NLXM6KA9E0",
        "colab_type": "text"
      },
      "source": [
        "#**Course Info**\n",
        "\n",
        "https://github.com/kameda-yoshinari/DataAlgo-T  \n",
        "Course: Data structure and algorithm  \n",
        "Department of Engineering Systems, University of Tsukuba,Japan.  \n",
        "Author: KAMEDA, Yoshinari  \n",
        "2020.05.19. -  "
      ]
    }
  ]
}