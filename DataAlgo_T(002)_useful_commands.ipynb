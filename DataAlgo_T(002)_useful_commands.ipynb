{
  "nbformat": 4,
  "nbformat_minor": 0,
  "metadata": {
    "colab": {
      "name": "DataAlgo-T(002) useful commands",
      "provenance": [],
      "authorship_tag": "ABX9TyNB7KyWunvW6ibEe0Kf2AkZ",
      "include_colab_link": true
    },
    "kernelspec": {
      "name": "python3",
      "display_name": "Python 3"
    }
  },
  "cells": [
    {
      "cell_type": "markdown",
      "metadata": {
        "id": "view-in-github",
        "colab_type": "text"
      },
      "source": [
        "<a href=\"https://colab.research.google.com/github/kameda-yoshinari/DataAlgo-T/blob/master/DataAlgo_T(002)_useful_commands.ipynb\" target=\"_parent\"><img src=\"https://colab.research.google.com/assets/colab-badge.svg\" alt=\"Open In Colab\"/></a>"
      ]
    },
    {
      "cell_type": "markdown",
      "metadata": {
        "id": "i2vKNOZ1ecz8",
        "colab_type": "text"
      },
      "source": [
        "# Useful commands and tips\n",
        "\n",
        "On making programs and running them on G-Colab, there are some useful commands and tips in this course."
      ]
    },
    {
      "cell_type": "markdown",
      "metadata": {
        "id": "pNb8UTvw7tyK",
        "colab_type": "text"
      },
      "source": [
        "# Local time display\n",
        "Since G-Colab instance is under linux where UTC is adopted as system clock, default time display is in UTC.\n",
        "This is the way to change time zone on time display.\n"
      ]
    },
    {
      "cell_type": "code",
      "metadata": {
        "id": "dIGnoX537xlj",
        "colab_type": "code",
        "colab": {
          "base_uri": "https://localhost:8080/",
          "height": 85
        },
        "outputId": "bf858482-a286-4b59-9e55-6667da48e9ac"
      },
      "source": [
        "!echo \"Default time display / UTC\"\n",
        "!date\n",
        "!echo \"Japanese standard time / JST\"\n",
        "!rm /etc/localtime\n",
        "!ln -s /usr/share/zoneinfo/Japan /etc/localtime\n",
        "!date"
      ],
      "execution_count": null,
      "outputs": [
        {
          "output_type": "stream",
          "text": [
            "デフォルトの時間表示 / UTC\n",
            "Wed May 20 01:34:38 UTC 2020\n",
            "日本時間表示 / JST\n",
            "Wed May 20 10:34:46 JST 2020\n"
          ],
          "name": "stdout"
        }
      ]
    },
    {
      "cell_type": "markdown",
      "metadata": {
        "id": "iUmd631kKXO3",
        "colab_type": "text"
      },
      "source": [
        "# Invesitation of the instance\n",
        "\n",
        "Though we do not need high-spec computers, it is good to know the computer you use.\n",
        "Since the instance runs Linux (Ubuntu) system, commands are executed on bash on the instance."
      ]
    },
    {
      "cell_type": "code",
      "metadata": {
        "id": "0ygOMeguebow",
        "colab_type": "code",
        "colab": {
          "base_uri": "https://localhost:8080/",
          "height": 34
        },
        "outputId": "0943c221-a3f4-44ef-84ba-dbbe96f8b5c6"
      },
      "source": [
        "!uname -a"
      ],
      "execution_count": null,
      "outputs": [
        {
          "output_type": "stream",
          "text": [
            "Linux 43e6aae706fd 4.19.104+ #1 SMP Wed Feb 19 05:26:34 PST 2020 x86_64 x86_64 x86_64 GNU/Linux\n"
          ],
          "name": "stdout"
        }
      ]
    },
    {
      "cell_type": "markdown",
      "metadata": {
        "id": "a6hlHsTsSGe7",
        "colab_type": "text"
      },
      "source": [
        "Mmm, linux. Then check its status."
      ]
    },
    {
      "cell_type": "code",
      "metadata": {
        "id": "-7unrEXgKoNG",
        "colab_type": "code",
        "colab": {
          "base_uri": "https://localhost:8080/",
          "height": 238
        },
        "outputId": "9d2169f2-a901-4cc8-cb1d-88c084f62b30"
      },
      "source": [
        "!echo \"Distribution is ...\"\n",
        "!cat /etc/issue\n",
        "!echo \"CPUs are ---\"\n",
        "!cat /proc/cpuinfo | grep \"model name\"\n",
        "!echo \"Memory size is ---\"\n",
        "!free -h\n",
        "!echo \"Disk is ---\"\n",
        "!df -h /"
      ],
      "execution_count": null,
      "outputs": [
        {
          "output_type": "stream",
          "text": [
            "Distribution is ...\n",
            "Ubuntu 18.04.3 LTS \\n \\l\n",
            "\n",
            "CPUs are ---\n",
            "model name\t: Intel(R) Xeon(R) CPU @ 2.00GHz\n",
            "model name\t: Intel(R) Xeon(R) CPU @ 2.00GHz\n",
            "Memory size is ---\n",
            "              total        used        free      shared  buff/cache   available\n",
            "Mem:            12G        547M         10G        904K        2.0G         11G\n",
            "Swap:            0B          0B          0B\n",
            "Disk is ---\n",
            "Filesystem      Size  Used Avail Use% Mounted on\n",
            "overlay         108G   32G   72G  31% /\n"
          ],
          "name": "stdout"
        }
      ]
    },
    {
      "cell_type": "markdown",
      "metadata": {
        "id": "x-ZOzPbeMRWI",
        "colab_type": "text"
      },
      "source": [
        "# Mounting google drive\n",
        "\n",
        "It is good to mount your drive on the instance and enable the instance to save files onto your google drive.  \n",
        "By this way, you can find generated files even after the instance shuts down (local files will disappear on shutting down).\n"
      ]
    },
    {
      "cell_type": "code",
      "metadata": {
        "id": "8OuIz-i8MV3H",
        "colab_type": "code",
        "colab": {
          "base_uri": "https://localhost:8080/",
          "height": 173
        },
        "outputId": "5fda20b8-fe19-4931-ffb3-c77f85f06513"
      },
      "source": [
        "bfrom google.colab import drive \n",
        "drive.mount('/content/drive')\n",
        "!echo \"Disk (your google drive if mounted) is ---\"\n",
        "!df -h /content/drive"
      ],
      "execution_count": null,
      "outputs": [
        {
          "output_type": "stream",
          "text": [
            "Go to this URL in a browser: https://accounts.google.com/o/oauth2/auth?client_id=947318989803-6bn6qk8qdgf4n4g3pfee6491hc0brc4i.apps.googleusercontent.com&redirect_uri=urn%3aietf%3awg%3aoauth%3a2.0%3aoob&response_type=code&scope=email%20https%3a%2f%2fwww.googleapis.com%2fauth%2fdocs.test%20https%3a%2f%2fwww.googleapis.com%2fauth%2fdrive%20https%3a%2f%2fwww.googleapis.com%2fauth%2fdrive.photos.readonly%20https%3a%2f%2fwww.googleapis.com%2fauth%2fpeopleapi.readonly\n",
            "\n",
            "Enter your authorization code:\n",
            "··········\n",
            "Mounted at /content/drive\n",
            "Disk (your google drive if mounted) is ---\n",
            "Filesystem      Size  Used Avail Use% Mounted on\n",
            "drive           108G   41G   68G  38% /content/drive\n"
          ],
          "name": "stdout"
        }
      ]
    },
    {
      "cell_type": "code",
      "metadata": {
        "id": "_hjA6QokMylR",
        "colab_type": "code",
        "colab": {
          "base_uri": "https://localhost:8080/",
          "height": 34
        },
        "outputId": "9667ba6e-b9bd-4803-b984-98330a9fdd5a"
      },
      "source": [
        "!whoami"
      ],
      "execution_count": null,
      "outputs": [
        {
          "output_type": "stream",
          "text": [
            "root\n"
          ],
          "name": "stdout"
        }
      ]
    },
    {
      "cell_type": "markdown",
      "metadata": {
        "id": "xvSRyzmYO1Aq",
        "colab_type": "text"
      },
      "source": [
        "# Mark-down tips\n",
        "\n",
        "On text cells, you can render sentences with mark-down commands.\n",
        "You should learn mark-down commands from their tutorial / help.\n",
        "However, there is one rule that you should learn (as it seems to be rather hard to find this rule) \n",
        "\n",
        "* two successive spaces at the end of a line indicates new line.\n",
        "\n",
        "You may do that by inserting \\<br\\> in mark-down document for this purpose, but html decoration is not within the mark-down syntax..."
      ]
    },
    {
      "cell_type": "markdown",
      "metadata": {
        "id": "_1GNjUd3m21U",
        "colab_type": "text"
      },
      "source": [
        "#**Course Info**\n",
        "\n",
        "https://github.com/kameda-yoshinari/DataAlgo-T\n",
        "Course: Data structure and algorithm\n",
        "Department of Engineering Systems, University of Tsukuba,Japan.\n",
        "Author: KAMEDA, Yoshinari\n",
        "2020.05.19. -\n"
      ]
    }
  ]
}