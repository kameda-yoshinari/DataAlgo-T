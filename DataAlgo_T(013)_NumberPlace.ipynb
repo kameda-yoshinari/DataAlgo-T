{
  "nbformat": 4,
  "nbformat_minor": 0,
  "metadata": {
    "colab": {
      "name": "DataAlgo-T(013) NumberPlace",
      "provenance": [],
      "collapsed_sections": [],
      "authorship_tag": "ABX9TyNotTEiYzvc7qlclNtQtWNd",
      "include_colab_link": true
    },
    "kernelspec": {
      "name": "python3",
      "display_name": "Python 3"
    }
  },
  "cells": [
    {
      "cell_type": "markdown",
      "metadata": {
        "id": "view-in-github",
        "colab_type": "text"
      },
      "source": [
        "<a href=\"https://colab.research.google.com/github/kameda-yoshinari/DataAlgo-T/blob/master/DataAlgo_T(013)_NumberPlace.ipynb\" target=\"_parent\"><img src=\"https://colab.research.google.com/assets/colab-badge.svg\" alt=\"Open In Colab\"/></a>"
      ]
    },
    {
      "cell_type": "markdown",
      "metadata": {
        "id": "yRmydXneMgT8",
        "colab_type": "text"
      },
      "source": [
        "# 6.2.3. Number Place\n",
        "\n",
        "Number place is a very famous pencil puzzle. It is also known as Sudoku. Of course, this is also an problem-solving application.\n",
        "\n",
        "Note that the algorithm to solve number place is very different from what human begins do because humans and computers are very different.\n",
        "\n",
        "**Reminder**  \n",
        "On github, rendering might not be in good shape.  \n",
        "To see the expected layout, open this page in Google Colaboratory.\n",
        "To run one specific code cell in colab, click the icon on the left part or just type Ctrl + Enter.  \n"
      ]
    },
    {
      "cell_type": "markdown",
      "metadata": {
        "id": "CdQdV_MJIlce",
        "colab_type": "text"
      },
      "source": [
        "# Preparation\n",
        "\n",
        "Connect the Jupyter environment and invoke a runtime. \n",
        "Mount your Google Drive by the procedure below.  \n",
        "Change directory to the mounted point and make it as the working folder.  \n",
        "By then, files are preserved even after you terminate the runtime environment."
      ]
    },
    {
      "cell_type": "code",
      "metadata": {
        "id": "DMtqXRXJIPMR",
        "colab_type": "code",
        "colab": {}
      },
      "source": [
        "!echo \"Mounting your Google Drive\"\n",
        "from google.colab import drive \n",
        "drive.mount('/content/drive')"
      ],
      "execution_count": null,
      "outputs": []
    },
    {
      "cell_type": "code",
      "metadata": {
        "id": "SABzmuELIaj2",
        "colab_type": "code",
        "colab": {}
      },
      "source": [
        "!echo \"Make a working folder and chnage directory to it\"\n",
        "%cd /content/drive/My\\ Drive\n",
        "%mkdir -p DataAlgo-T/013\n",
        "%cd       DataAlgo-T/013\n",
        "!ls"
      ],
      "execution_count": null,
      "outputs": []
    },
    {
      "cell_type": "markdown",
      "metadata": {
        "id": "4s3BWazcz1FB",
        "colab_type": "text"
      },
      "source": [
        "# Number place\n",
        "\n",
        "**Problem definition**\n",
        "\n",
        "Assuming you know the rule of number place.  \n",
        "If not, just visit wikipedia, or ask someone around you who enjoy solving the puzzles.   \n",
        "> https://en.wikipedia.org/wiki/Sudoku\n",
        "\n",
        "The board size is 9 by 9.  \n",
        "There are apparently three conditions to follow on deciding the number to fill.\n",
        "\n",
        "* Each column should have 1-9 figures only once for each.\n",
        "* Each row should have 1-9 figures only once for each.\n",
        "* Each 3x3 block should have 1-9 figures only once for each.\n",
        "\n",
        "Obviously, the number of the solutions that satify all theses conditions is finite (as shown in the wikipedia).\n",
        "\n",
        "In addition, as for puzzle game, some cells are filled and fixed beforehand, and the solution is (usually) limited to only one. In many cases, around 30 cells are fixed, so the problem there is to fill rest of the cells (around 50 cells since the total number of the cell is 81).\n",
        "\n",
        "**Tip to solve number place (for humans)**\n",
        "\n",
        "If you invesitigate the alogirhtm to solve number place, you will soon see many advices from your friends, books, or on the internet.\n",
        "**DO NOT FOLLOW THEM** as the advices are for humans like you.  \n",
        "\n",
        "Here, the solver is computer, which is designed to remember many things sharply for long time. \n",
        "\n",
        "So, in this section, we develop the algorithm to solve number place based on the problem-solving approach, just like Knight tour and N Queens.\n",
        "\n",
        "\n"
      ]
    },
    {
      "cell_type": "markdown",
      "metadata": {
        "id": "dd-hVe7gXiCk",
        "colab_type": "text"
      },
      "source": [
        "# Brute-force search of number place\n",
        "\n",
        "There are many ways to invent brute-force approach.\n",
        "\n",
        "**Plan A**\n",
        "\n",
        "If we think of taking only one conditions (out of thress) on generating solution candidates, the number of the solution candidates would be (9!)<sup>9</sup> (thanks to the similarity of the conditions, it should be same regardless of which you take as the condition).\n",
        "\n",
        "For verification process for the remaining two conditions, probably it needs (9 x 9) x 2 computation cost. So in total, required computation cost would be (9!)<sup>9</sup> x 2 x 9<sup>2</sup>.\n",
        "\n",
        "In reality, there only around 50 cells to fill, so the amount should be much smaller yet it is a very large (huge) number. \n",
        "\n",
        "**Plan B**\n",
        "\n",
        "Assuming that the number of the empty cells is K (around 50). Since the candidates are 1-9, the number of the solution candidates would be 9<sup>K</sup>. We need the verification process for the conditions, so it would need (9 x 9) x 3 computation cost for each candidate.\n",
        "\n",
        "**Plan C**\n",
        "\n",
        "Since the number of the solutions with these three conditions is finite, if we can expand all the solutions on the memory, by just feeding the info of the fixe d cells, it is just a simple query to the database. Good point is the the query result should be unique (as it is a puzzle). So the time computation cost is constant on this approach. Of course, we need huge (how much? see the wikipedia) size of memory.  \n",
        "\n",
        "--  \n",
        "Discuss which is more impossible than others.  \n",
        "You may think of your brute-foce approaches.  \n"
      ]
    },
    {
      "cell_type": "markdown",
      "metadata": {
        "id": "5QkNub1bXi1l",
        "colab_type": "text"
      },
      "source": [
        "# Backtracking search for number place\n",
        "\n",
        "The algoithm should be very similar to the Knight's tour and N Queens.\n",
        "\n",
        "Of course, we need to invent the codes for three conditions, but the procedure structure is exactly the same as before.\n",
        "\n",
        "One special coding we need here is to read the problem (handling of fixed cells).\n",
        "\n",
        "Note that the order of processing empty cells does not make sense (unlike the advices to humans!). If we think of the order to process, it may contribute to speed up the process, but cost of writing such program is troublesome, and probably it is useless for computers since the computer can remember many things at the same time.\n",
        "\n",
        "\n",
        "\n",
        "\n"
      ]
    },
    {
      "cell_type": "markdown",
      "metadata": {
        "id": "Zy3sSTwQ7Nn9",
        "colab_type": "text"
      },
      "source": [
        "# C program of the backtracking search\n",
        "\n",
        "**Purpose**\n",
        "\n",
        "Develop the backtracking program to solve number place. The problem is fed to the program by text file.\n",
        "\n",
        "**Explanation**\n",
        "\n",
        "We adopt DFS with recurisive call to generate solution candidates.\n",
        "\n",
        "**Program**\n",
        "\n",
        "Line 105-108 is for marking on the go, and Line 112-115 is for recovering to the original state on the backtracking.\n",
        "\n",
        "The empty cells are enumerated to celltoexamine[] array on reading the problem from a text file.\n",
        "\n",
        "To express the condition on x axis, we use checkx[x][], and checky[y][] for y axis.  \n",
        "To express the condition on 3x3 block, we use checkb[b][] where b is given by b = (x / 3) + (y / 3) * 3.\n",
        "\n",
        "**Remarks**\n",
        "\n",
        "To meature the time amount, we introduce gettimeofday() function (on linux). Unkike the time command, it only counts the real clock. \n",
        "\n",
        "Verboselevel variable can be set as the second command line option. It should be 0(default), 1, or 2.\n",
        "\n"
      ]
    },
    {
      "cell_type": "code",
      "metadata": {
        "id": "Eo2CM8EqZi97",
        "colab_type": "code",
        "colab": {}
      },
      "source": [
        "%%writefile NumberPlace_E.c \n",
        "// Number Place, a.k.a. Sudoku by backtrack method\n",
        "//  kameda[at]ccs.tsukuba.ac.jp, 2020.\n",
        "#include <stdio.h>\n",
        "#include <stdlib.h> // atoi()\n",
        "#include <string.h> // strcmp()\n",
        "#include <sys/time.h> // gettimeofday()\n",
        "\n",
        "#define N 9 // Sudoku board size\n",
        "\n",
        "typedef struct {int x; int y;} vec2i; // 2D coordinates\n",
        "\n",
        "int board[N][N];       // 0 ... undertermined, 1-9 ... answers\n",
        "int numlockedcell = 0; // number of locked cells (given as the problem)\n",
        "\n",
        "vec2i celltoexamine[N*N]; // List of empty cells in the problem\n",
        "int numemptycell = 0;     // Number of empty cells. numlockedcell + numemptycell = N * N\n",
        "\n",
        "// three kinds of the conditions. binary representation.\n",
        "int checkx[N][N]; // if figure f(1-9) has been already used on line-x,  checky[x][f-1] = 1, 0 otherwise\n",
        "int checky[N][N]; // if figure f(1-9) has been already used on line-y,  checky[y][f-1] = 1, 0 otherwise\n",
        "int checkb[N][N]; // if figure f(1-9) has been already used on block-b, checkb[b][f-1] = 1, 0 otherwise\n",
        "\n",
        "int num_answer = 0; // Number of the answers (expected to be 1 for Sudoku)\n",
        "int verboselevel = 0; // Verbose level (0 minimum, 1 show answers, 2 show boards)\n",
        "\n",
        "\n",
        "// Return blok-ID from (x,y) coord\n",
        "int xy2b(int x, int y) {\n",
        "    return ((x / 3) + (y / 3) * 3); // Based on the C language syntax\n",
        "}\n",
        "\n",
        "// Show board\n",
        "//   Empty cell is denoted by '.'\n",
        "void showboard(void){\n",
        "    vec2i pt;\n",
        "\n",
        "    for (pt.y = 0; pt.y < N; pt.y++) {\n",
        "        printf(\"%d \", pt.y);\n",
        "        for (pt.x = 0; pt.x < N; pt.x++) {\n",
        "            if (board[pt.x][pt.y] != 0) {\n",
        "                printf(\"%d\", board[pt.x][pt.y]);\n",
        "            } else {\n",
        "                printf(\".\");\n",
        "            }\n",
        "        }\n",
        "        printf(\"\\n\");\n",
        "    }\n",
        "    return ;\n",
        "}\n",
        "\n",
        "//  Read the board (the problem) info from a file.\n",
        "//    If \"-\" is specified, read the dat from stdin.\n",
        "int readboard(char *filename){\n",
        "    FILE *fd;\n",
        "    vec2i pt;\n",
        "\t\n",
        "    if (strcmp(filename, \"-\") == 0) {\n",
        "        fd = stdin;\n",
        "    } else if ((fd = fopen(filename, \"r\")) == NULL) {\n",
        "        printf(\"readboard: cannnot open %s\\n\", filename);\n",
        "        return -1;\n",
        "    }\n",
        "\n",
        "    for (pt.y = 0; pt.y < N; pt.y++) {\n",
        "        for (pt.x = 0; pt.x < N; pt.x++) {\n",
        "            if (fscanf(fd, \"%d\", &(board[pt.x][pt.y])) != 1) {\n",
        "                printf(\"readboard: error at (x,y) = (%d, %d)\\n\", pt.x, pt.y);\n",
        "\t            return -2;\n",
        "            }\n",
        "            if (board[pt.x][pt.y] < 1 || board[pt.x][pt.y] > 9) {\n",
        "                board[pt.x][pt.y] = 0; // cleaning up to zero / foolproof\n",
        "            }\n",
        "            if (board[pt.x][pt.y] == 0) {\n",
        "                celltoexamine[numemptycell++] = pt; // Append this empty cell to the list\n",
        "            }\n",
        "        }\n",
        "    }\n",
        "    fclose(fd);\n",
        "\n",
        "    showboard();\n",
        "    printf(\"readboard: empty cells = %d\\n\", numemptycell);\n",
        "\n",
        "    return 0;\n",
        "}\n",
        "\n",
        "// Find the right figure (1-9) at pos-th empty cells\n",
        "void sudokuonestep(int pos){\n",
        "    int x, y, b;\n",
        "    int f;\n",
        "\t\n",
        "    // Reach to an answer\n",
        "    if (pos == numemptycell) {\n",
        "        if (verboselevel >= 1) printf(\"======== %d ========\\n\", num_answer);\n",
        "        if (verboselevel >= 2) showboard();\n",
        "        num_answer++;\n",
        "        return ;\n",
        "    }\n",
        "\t\n",
        "    x = celltoexamine[pos].x;\n",
        "    y = celltoexamine[pos].y;\n",
        "    b = xy2b(x, y);\n",
        "    for (f = 1; f <= N; f++) {\n",
        "        if (checkx[x][f-1] == 0 && checky[y][f-1] == 0 && checkb[b][f-1] == 0) {\n",
        "            checkx[x][f-1] = 1; // Mark\n",
        "            checky[y][f-1] = 1; // Mark\n",
        "            checkb[b][f-1] = 1; // Mark\n",
        "            board[x][y] = f;    // Record\n",
        "            \n",
        "            sudokuonestep(pos+1);\n",
        "            \n",
        "            checkx[x][f-1] = 0; // Unmark\n",
        "            checky[y][f-1] = 0; // Unmark\n",
        "            checkb[b][f-1] = 0; // Unmark\n",
        "            board[x][y] = 0;    // Clear\n",
        "        }\n",
        "    }\n",
        "}\n",
        "\n",
        "// Main function\n",
        "int main(int argc, char *argv[]){\n",
        "    int r = 0;\n",
        "    int i, f;\n",
        "    int x, y, b;\n",
        "    struct timeval ts, te;\n",
        "\n",
        "    // examine options\n",
        "    if (argc != 3) {\n",
        "        printf(\"This command needs Problem-file and Verbose-Level.\\n\");\n",
        "        printf(\"Please set a problem file and verbose level (0 or upper).\\n\");\n",
        "        return -1;\n",
        "    }\n",
        "\n",
        "    // Read file\n",
        "    if ((r = readboard(argv[1])) != 0) {\n",
        "        printf(\"Error: file reading status : %d\\n\", r);\n",
        "        return r;\n",
        "    }\n",
        "\n",
        "    // verbose level\n",
        "    verboselevel = atoi(argv[2]);\n",
        "\n",
        "    // Initialization of the conditions\n",
        "    for (i = 0; i < N; i++) {\n",
        "        for (f = 0; f < N; f++) {\n",
        "            checkx[i][f] = checky[i][f] = checkb[i][f] = 0;\n",
        "        }\n",
        "    }\n",
        "\n",
        "    // Mark the figures that are set in the problem\n",
        "    for (x = 0; x < N; x++) {\n",
        "        for (y = 0; y < N; y++) {\n",
        "            if (board[x][y] != 0) {\n",
        "                b = xy2b(x, y);\n",
        "\t            checkx[x][board[x][y]-1] = checky[y][board[x][y]-1] = checkb[b][board[x][y]-1] = 1;\n",
        "            }\n",
        "        }\n",
        "    }\n",
        "\n",
        "    // Go\t\n",
        "    gettimeofday(&ts, NULL);\n",
        "    sudokuonestep(0);\n",
        "    gettimeofday(&te, NULL);\n",
        "\n",
        "    // Show the result\n",
        "    printf(\"===================\\n\");\n",
        "    printf(\"Number of the answers: %d\\n\", num_answer);\n",
        "    printf(\"Time = %.6f [sec]\\n\", (float)(te.tv_sec - ts.tv_sec) + (te.tv_usec - ts.tv_usec) / 1000000.0);\n",
        "\n",
        "    return 0;\n",
        "}\n"
      ],
      "execution_count": null,
      "outputs": []
    },
    {
      "cell_type": "markdown",
      "metadata": {
        "id": "zhechXUNbvva",
        "colab_type": "text"
      },
      "source": [
        "Compile it and check no errors."
      ]
    },
    {
      "cell_type": "code",
      "metadata": {
        "id": "UcFL-3AR8XSu",
        "colab_type": "code",
        "colab": {}
      },
      "source": [
        "!gcc -Wall -o NumberPlace_E NumberPlace_E.c"
      ],
      "execution_count": null,
      "outputs": []
    },
    {
      "cell_type": "markdown",
      "metadata": {
        "id": "CxBI4UbEcB9L",
        "colab_type": "text"
      },
      "source": [
        "Before running the program, we need to prepare a problem file.  \n",
        "See below and pick up p5252.txt as input (save it as a file on the system).\n",
        "\n",
        "According to [the original site of the problem](https://www.sudoku.name/index-jp.php), it is classified as \"top level ++\". Probably it should be very difficult to solve for humans.\n",
        "\n",
        "\n",
        "\n"
      ]
    },
    {
      "cell_type": "code",
      "metadata": {
        "id": "O3zzVD4tcA3h",
        "colab_type": "code",
        "colab": {}
      },
      "source": [
        "!time ./NumberPlace_E p5252.txt 2"
      ],
      "execution_count": null,
      "outputs": []
    },
    {
      "cell_type": "markdown",
      "metadata": {
        "id": "8kmse4uVadpr",
        "colab_type": "text"
      },
      "source": [
        "Note that it usually needs less than 1 second (Wow!). I does not depend on the problem level,rather the number of empty cells. "
      ]
    },
    {
      "cell_type": "markdown",
      "metadata": {
        "id": "7SftM1ngT1g0",
        "colab_type": "text"
      },
      "source": [
        "# Problem files\n",
        "\n",
        "The problem file should be prepared in text.\n",
        "\n",
        "First 9 lines express the problem.  \n",
        "Empty cell is expressed by 0. \n",
        "\n",
        "After reading the 81 figures, the program does not care for the remaining part.\n",
        "You can write additional comments there.\n"
      ]
    },
    {
      "cell_type": "code",
      "metadata": {
        "id": "RC7kg3C3Uf4F",
        "colab_type": "code",
        "colab": {}
      },
      "source": [
        "%%writefile p5252.txt\n",
        "0 2 0  9 0 0  0 0 6\n",
        "1 0 0  0 0 0  0 9 0\n",
        "0 0 8  0 0 7  0 0 0\n",
        "\n",
        "5 0 0  0 0 0  7 0 0\n",
        "0 0 7  8 0 0  1 0 0\n",
        "0 0 9  4 0 0  0 0 2\n",
        "\n",
        "0 0 0  2 0 0  4 0 0\n",
        "0 6 0  0 0 0  0 0 3\n",
        "3 0 0  0 0 5  0 8 0\n",
        "\n",
        "Taken from:\n",
        "http://www.sudoku.name/puzzles/jp/5252/f0fcf351df4eb6786e9bb6fc4e2dee02#5252\n",
        "High level ++\n",
        "\n",
        "Result\n",
        "\n",
        "0 .2.9....6\n",
        "1 1......9.\n",
        "2 ..8..7...\n",
        "3 5.....7..\n",
        "4 ..78..1..\n",
        "5 ..94....2\n",
        "6 ...2..4..\n",
        "7 .6......3\n",
        "8 3....5.8.\n",
        "readboard: empty cells = 59\n",
        "======== 0 ========\n",
        "0 423918576\n",
        "1 176523894\n",
        "2 958647321\n",
        "3 512396748\n",
        "4 647852139\n",
        "5 839471652\n",
        "6 781239465\n",
        "7 265784913\n",
        "8 394165287\n",
        "===================\n",
        "Number of the answers: 1\n",
        "Time = 0.029590 [sec]\n"
      ],
      "execution_count": null,
      "outputs": []
    },
    {
      "cell_type": "code",
      "metadata": {
        "id": "Htl1W1qYZ02K",
        "colab_type": "code",
        "colab": {}
      },
      "source": [
        "%%writefile p22833.txt\n",
        "0 0 0  0 9 0  0 0 0\n",
        "0 8 9  0 0 0  3 4 0\n",
        "7 0 0  8 0 3  0 0 2\n",
        "\n",
        "0 1 0  0 0 0  0 6 0\n",
        "0 0 8  3 0 4  7 0 0\n",
        "0 7 0  0 0 0  0 5 0\n",
        "\n",
        "8 0 0  5 0 7  0 0 1\n",
        "0 5 4  0 0 0  9 7 0\n",
        "0 0 0  0 2 0  0 0 0\n",
        "\n",
        "https://www.sudoku.name/puzzles/jp/22833/42fe880812925e520249e808937738d2\n",
        "#22833\n",
        "High level ++\n"
      ],
      "execution_count": null,
      "outputs": []
    },
    {
      "cell_type": "code",
      "metadata": {
        "id": "zAwMOW5oe3Qp",
        "colab_type": "code",
        "colab": {}
      },
      "source": [
        "%%writefile p22833-cut1.txt\n",
        "0 0 0  0 9 0  0 0 0\n",
        "0 8 9  0 0 0  3 4 0\n",
        "7 0 0  8 0 3  0 0 2\n",
        "\n",
        "0 1 0  0 0 0  0 6 0\n",
        "0 0 8  3 0 4  7 0 0\n",
        "0 7 0  0 0 0  0 5 0\n",
        "\n",
        "8 0 0  5 0 7  0 0 0\n",
        "0 5 4  0 0 0  9 7 0\n",
        "0 0 0  0 2 0  0 0 0\n",
        "\n",
        "https://www.sudoku.name/puzzles/jp/22833/42fe880812925e520249e808937738d2\n",
        "#22833 \n",
        "High level ++\n",
        "remove \"1\" at (9,7) and see how many answers available"
      ],
      "execution_count": null,
      "outputs": []
    },
    {
      "cell_type": "code",
      "metadata": {
        "id": "d4RVnNt6jiKR",
        "colab_type": "code",
        "colab": {}
      },
      "source": [
        "%%writefile p22833-cut4.txt\n",
        "0 0 0  0 9 0  0 0 0\n",
        "0 8 9  0 0 0  3 4 0\n",
        "7 0 0  8 0 3  0 0 2\n",
        "\n",
        "0 1 0  0 0 0  0 6 0\n",
        "0 0 8  3 0 4  7 0 0\n",
        "0 7 0  0 0 0  0 5 0\n",
        "\n",
        "0 0 0  0 0 0  0 0 0\n",
        "0 5 4  0 0 0  9 7 0\n",
        "0 0 0  0 2 0  0 0 0\n",
        "\n",
        "https://www.sudoku.name/puzzles/jp/22833/42fe880812925e520249e808937738d2\n",
        "#22833 \n",
        "High level ++\n",
        "remove all the figures at 7th row and see how many answers available\n"
      ],
      "execution_count": null,
      "outputs": []
    },
    {
      "cell_type": "markdown",
      "metadata": {
        "id": "DY_MbwoPf_9h",
        "colab_type": "text"
      },
      "source": [
        "# Problems\n",
        "\n",
        "1. Relationship between computation time and problem level  \n",
        "Prepare at least three differnet difficulty level problems and measure the computation times (to measure precisely, you should run 5-10 times for each).\n",
        "Discuss your findings on the relationship between computation time and problem level.\n",
        "\n",
        "2. Unique answer\n",
        "By removing one or more fixed figures in a problem, you will see the answer is getting none-unique (accepts multiple answers). However, in some cases, there are some cases that the answer is still unique. What is the aim of leaving such figures in the problem?\n",
        "\n",
        "3. xy2b() function  \n",
        "Explain why xy2b() can tell the appropriate 3x3 block by giving (x,y) position. You should mention C language property.\n",
        "\n",
        "4. (9!)<sup>9</sup> x 2 x 9<sup>2</sup>  \n",
        "Try to express (9!)<sup>9</sup> x 2 x 9<sup>2</sup> in the form of s x 10<sup>t</sup> Rough estimate is acceptable.\n",
        "\n",
        "5. X-SUDOKU  \n",
        "There is a variation of number place where two diagonal lines have the same limitation too. It is called X-SUDOKU. Problems could be found at [Puzzle madness](https://puzzlemadness.co.uk/xsudoku). Develop the program to give the answer to X-SUDOKU problem based on NumberPlace_E.c program.\n",
        "\n"
      ]
    },
    {
      "cell_type": "markdown",
      "metadata": {
        "id": "cZ-1SycnqxVa",
        "colab_type": "text"
      },
      "source": [
        "#**Course Info**\n",
        "\n",
        "https://github.com/kameda-yoshinari/DataAlgo-T  \n",
        "Course: Data structure and algorithm  \n",
        "Department of Engineering Systems, University of Tsukuba,Japan.  \n",
        "Author: KAMEDA, Yoshinari  \n",
        "2020.05.19. -"
      ]
    },
    {
      "cell_type": "markdown",
      "metadata": {
        "id": "QH73UQSrJ6ma",
        "colab_type": "text"
      },
      "source": [
        "# Memo\n",
        "\n",
        "Answer example of X-SUDOKU (X-Number place)."
      ]
    }
  ]
}