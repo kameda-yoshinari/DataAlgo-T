{
  "nbformat": 4,
  "nbformat_minor": 0,
  "metadata": {
    "colab": {
      "name": "DataAlgo-T(007) Longest Path",
      "provenance": [],
      "collapsed_sections": [],
      "authorship_tag": "ABX9TyM76Hs+Av+xqCz3u8Dhq7AP",
      "include_colab_link": true
    },
    "kernelspec": {
      "name": "python3",
      "display_name": "Python 3"
    }
  },
  "cells": [
    {
      "cell_type": "markdown",
      "metadata": {
        "id": "view-in-github",
        "colab_type": "text"
      },
      "source": [
        "<a href=\"https://colab.research.google.com/github/kameda-yoshinari/DataAlgo-T/blob/master/DataAlgo_T(007)_Longest_Path.ipynb\" target=\"_parent\"><img src=\"https://colab.research.google.com/assets/colab-badge.svg\" alt=\"Open In Colab\"/></a>"
      ]
    },
    {
      "cell_type": "markdown",
      "metadata": {
        "id": "yRmydXneMgT8",
        "colab_type": "text"
      },
      "source": [
        "# 4. Path Problem in Graph\n",
        "\n",
        "A path from Vertex A to Vertex B is a seris of vercies and the associated edges between the vertices. In direct graph, the direction should be the same from the source vertex A to the destination vertex B.\n",
        "\n",
        "A path may visit the same vertex several times, and it may include cycle(s).\n",
        "\n",
        "However, we usually assume that a vertex appers in a path at most once (and no cycles). It is called a simple path.\n",
        "\n",
        "In this section, we lern two typical path problems -- longest path and shortest path.\n",
        "\n",
        "# 4.1. Longest Path Problem\n",
        "\n",
        "Learn the algorithm to find the longest path in a given graph.\n",
        "\n",
        "**Reminder**  \n",
        "On github, rendering might not be in good shape.  \n",
        "To see the expected layout, open this page in Google Colaboratory.\n",
        "To run one specific code cell in colab, click the icon on the left part or just type Ctrl + Enter.  \n"
      ]
    },
    {
      "cell_type": "markdown",
      "metadata": {
        "id": "CdQdV_MJIlce",
        "colab_type": "text"
      },
      "source": [
        "# Preparation\n",
        "\n",
        "Connect the Jupyter environment and invoke a runtime. \n",
        "Mount your Google Drive by the procedure below.  \n",
        "Change directory to the mounted point and make it as the working folder.  \n",
        "By then, files are preserved even after you terminate the runtime environment."
      ]
    },
    {
      "cell_type": "code",
      "metadata": {
        "id": "DMtqXRXJIPMR",
        "colab_type": "code",
        "colab": {}
      },
      "source": [
        "!echo \"Mounting your Google Drive\"\n",
        "from google.colab import drive \n",
        "drive.mount('/content/drive')"
      ],
      "execution_count": null,
      "outputs": []
    },
    {
      "cell_type": "code",
      "metadata": {
        "id": "SABzmuELIaj2",
        "colab_type": "code",
        "colab": {}
      },
      "source": [
        "!echo \"Make a working folder and chnage directory to it\"\n",
        "%cd /content/drive/My\\ Drive\n",
        "%mkdir -p DataAlgo-T/007\n",
        "%cd       DataAlgo-T/007\n",
        "!ls"
      ],
      "execution_count": null,
      "outputs": []
    },
    {
      "cell_type": "markdown",
      "metadata": {
        "id": "NINxYWNgOSaw",
        "colab_type": "text"
      },
      "source": [
        "Here we consider weighted graphs that are directed and that do not have cycles.  \n",
        "Weights are positive value, and they are attahed to edges. \n",
        "\n",
        "Consider Graph G5 as an example.  \n",
        "8 vertices, directed, no cycles.  \n",
        "(Graph G4 can be treated as a weighted graph with value 1 for every edge.)  \n",
        "In this example, weights are integer, but any positive value is allowed."
      ]
    },
    {
      "cell_type": "markdown",
      "metadata": {
        "id": "tErWQzIr6Ttp",
        "colab_type": "text"
      },
      "source": [
        "![da2020-graph5](https://user-images.githubusercontent.com/45651568/84226060-bfe2cd00-ab1b-11ea-8493-9b077d00e569.jpg)"
      ]
    },
    {
      "cell_type": "code",
      "metadata": {
        "id": "rz4_9z4rOQu4",
        "colab_type": "code",
        "colab": {}
      },
      "source": [
        "%%writefile graph5.h\n",
        "// 8 nodes, directed, no cycle.\n",
        "#define N 8\n",
        "int edge[N][N] = {\n",
        "//   0 1 2 3 4 5 6 7\n",
        "\t{0,4,0,0,2,0,0,0}, // 0\n",
        "\t{0,0,0,0,0,0,1,0}, // 1\n",
        "\t{0,0,0,3,0,0,3,0}, // 2\n",
        "\t{0,0,0,0,0,0,0,5}, // 3\n",
        "\t{0,0,0,0,0,2,0,0}, // 4\n",
        "\t{0,0,0,0,0,0,0,0}, // 5\n",
        "\t{0,0,0,0,0,4,0,1}, // 6\n",
        "\t{0,0,0,0,0,0,0,0}  // 7\n",
        "};"
      ],
      "execution_count": null,
      "outputs": []
    },
    {
      "cell_type": "markdown",
      "metadata": {
        "id": "4s3BWazcz1FB",
        "colab_type": "text"
      },
      "source": [
        "# Algorithm to solve the longest path problem\n",
        "\n",
        "**Explanation**\n",
        "\n",
        "The longest path problem is to find a path of maximum length in a given graph.  \n",
        "The path should not include the same vertex twice. \n",
        "Length of a path is defined by the sum of the edge weights in the path.  \n",
        "\n",
        "This means the longest path should be found per graph.\n",
        "\n",
        "A weight of an edge between vertex A and vertex B is denoted edge(A,B).  \n",
        "\n",
        "Suppose we think of a vertex K in a given graph.  \n",
        "Let's say that the maximum length of the paths that ends at K is denoted by W(K).\n",
        "Then, the definition of the problem is to find the vertex K_max and its W(K_max) where W(K_max) is the longest for all the vertices in the graph\n",
        "\n",
        "Here, we assume that we are processing the vertex T.\n",
        "We also assume all the W(S) have been obtained for all the vertices S that are located at source (upper) side of Vertex T.  \n",
        "The source side can be determined by executing the topological sorting in advance.  \n",
        "\n",
        "Then, W(D) should be calculated by:\n",
        "> W(D) = max ( W(S) + edge(S,D) )   \n",
        "> for any S in the source side of D  \n",
        "\n",
        "After we obtain all the W(D) for any vertice D in the graph, finally we find the largerst W(K_max) by just scanning all the W(D).\n",
        "\n",
        "Therefore, the algorithm to solve the longest path problem should be three-folded.\n",
        "\n",
        "1. Obtain the vertex order list of topological sorting on a given graph.\n",
        "2. From the source side of the list, take up a vertex D, and calculate W(D) towards the destination side.\n",
        "3. Find the maximum length W(K_max) among all the vertices.\n",
        "\n",
        "**Implementation**\n",
        "\n",
        "As for the topological sorting, we reuse the program in the previous section.  \n",
        "FYI, the longest path of Graph G5 weighs 9.  \n",
        "Longest Path Value = 9  \n",
        "5 <- 6 <- 1 <- 0 <- Go"
      ]
    },
    {
      "cell_type": "markdown",
      "metadata": {
        "id": "0_o0avWIHZqC",
        "colab_type": "text"
      },
      "source": [
        "# C Program to solve the longest path problem\n",
        "\n",
        "**Purpose**\n",
        "\n",
        "Obtain the weight of the longest path and its vertex list in a given direct, acyclic graph.  \n",
        "\n",
        "**Explanation**\n",
        "\n",
        "The program consists of three parts.\n",
        "\n",
        "1. Topological sorting\n",
        "2. Calculating W(K) for all the vertices \n",
        "3. Finding the maximum value of W()\n",
        "\n",
        "**Program**\n",
        "\n",
        "The program has three corresponding functions. \n",
        "\n",
        "**Remarks**\n",
        "\n",
        "The third part could be implemented in the second part if you wish.\n",
        "The program has some extra variables and statements to show the vertex list of the longest path."
      ]
    },
    {
      "cell_type": "code",
      "metadata": {
        "id": "Eo2CM8EqZi97",
        "colab_type": "code",
        "colab": {}
      },
      "source": [
        "%%writefile longestpath_E.c\n",
        "// Topological Sorting\n",
        "// kameda[at]ccs.tsukuba.ac.jp, 2020.\n",
        "#include <stdio.h>\n",
        "#include \"graph5.h\"\n",
        "\n",
        "// Structured variable for vertex\n",
        "typedef struct {\n",
        "\tint W;   //  The largest cost of the paths that ends at this vertex.\n",
        "\tint src; //  The source (adjacent) vertex. It is the last part of the longest path to this vertex.\n",
        "} ppath; \n",
        "\n",
        "\n",
        "int tsort[N];  // Vertex list of the topological sorting result\n",
        "int num_tsort = 0; // Number of vertices in the tsort[]\n",
        "ppath path[N]; // Memory to remember the longest path\n",
        "\n",
        "int listed[N];  // 0 Not yet, 1 listed\n",
        "\n",
        "// Step 1: Topological sorting / reuse of DFS main bod by recursive calls\n",
        "void dfs(int CurrentRoom){\n",
        "    int RoomToCheck;\n",
        "\n",
        "\t// It is recognized as being listed.\n",
        "\tlisted[CurrentRoom] = 1;\n",
        "\n",
        "    // Choose next\n",
        "\tfor (RoomToCheck = 0; RoomToCheck < N; RoomToCheck++) {\n",
        "        if (edge[CurrentRoom][RoomToCheck] != 0 && listed[RoomToCheck] == 0) \n",
        "\t\t\tdfs(RoomToCheck);\n",
        "\t}\n",
        "\n",
        "\t// Topological sorting\n",
        "\tprintf(\"Listing: %d\\n\", CurrentRoom);\n",
        "\n",
        "\t// And record the vertex list\n",
        "\ttsort[num_tsort] = CurrentRoom;\n",
        "\tnum_tsort++;\n",
        "\n",
        "\treturn;\n",
        "}\n",
        "\n",
        "// Step 2: Calculate W() from the source side to the destination side\n",
        "void findlongest (void) {\n",
        "\tint p; // The index in the vertex list tsort[]\n",
        "\tint d; // Vertex ID number to process\n",
        "\n",
        "\t// Cleaning up the arrays\n",
        "\t{\n",
        "\t\tint i;\n",
        "\t\tfor (i = 0; i < N; i++) {\n",
        "\t\t\tpath[i].W = 0; // 0 means no path to this vertex\n",
        "\t\t\tpath[i].src = -1; // Vertex number -1 indicates no source-side (adjacent) vertex \n",
        "\t\t}\n",
        "\t}\n",
        "\t\n",
        "\t// Take up a vertex from the end of tsort[] (i.e. starting from the source side in the vertex list)\n",
        "\tfor (p = N-1; p >= 0; p--) {\n",
        "\t\tint s;\n",
        "\t\td = tsort[p];\n",
        "\t\tfor (s = 0; s < N; s++) {\n",
        "\t\t\tif (edge[s][d] > 0 && path[s].W + edge[s][d] > path[d].W) {\n",
        "\t\t\t\tpath[d].W = path[s].W + edge[s][d];\n",
        "\t\t\t\tpath[d].src = s;\n",
        "\t\t\t}\n",
        "\t\t}\n",
        "\t}\n",
        "\n",
        "\t// Show the result of this function\n",
        "\tprintf(\"Node  : \");\n",
        "\tfor (d = 0; d < N; d++) \n",
        "\t\tprintf(\"%3d \", d);\n",
        "\tprintf(\"\\n\");\n",
        "\tprintf(\"Weight: \");\n",
        "\tfor (d = 0; d < N; d++) \n",
        "\t\tprintf(\"%3d \", path[d].W);\n",
        "\tprintf(\"\\n\");\n",
        "\tprintf(\"Src   : \");\n",
        "\tfor (d = 0; d < N; d++) \n",
        "\t\tprintf(\"%3d \", path[d].src);\n",
        "\tprintf(\"\\n\");\n",
        "\n",
        "\treturn;\n",
        "}\n",
        "\n",
        "// Step 3: Find the maximum weight (of the longest path path) \n",
        "void findfinalsolution (void) {\n",
        "  \tint Kmax; // Ending vertex of the longest path\n",
        "\tint i;\n",
        "\n",
        "\t// Tentative vertex candidate (of longest path)\n",
        "\t// Set Vertex 0 tentatively\n",
        "\tKmax = 0;\n",
        "\n",
        "\t// find the actual ending vertex of the longest path\n",
        "\tfor (i = 1; i < N; i++) {\n",
        "\t\tif (path[i].W > path[Kmax].W)\n",
        "\t\t\tKmax = i;\n",
        "\t}\n",
        "\n",
        "\t// Show the longest path\n",
        "\tprintf(\"Longest Path Value = %d\\n\", path[Kmax].W);\n",
        "\tfor (i = Kmax; i >= 0; i = path[i].src)\n",
        "\t\tprintf(\"%d <- \", i);\n",
        "\tprintf(\"Go\\n\");\n",
        "}\n",
        "\n",
        "// Main function\n",
        "int main(int argc, char *argv[]){\n",
        "\tint StartingNode;\n",
        "\tint i;\n",
        "\n",
        "\tprintf(\"Step 1. Topological sorting.\\n\");\n",
        "\tfor (StartingNode = 0; StartingNode < N; StartingNode++) {\n",
        "\t\tif (listed[StartingNode] == 0) {\n",
        "\t\t\tdfs(StartingNode);\n",
        "\t\t}\n",
        "\t}\n",
        "\tprintf(\"  Result of Topological sorting: \");\n",
        "\tfor (i = 0; i < N; i++)\n",
        "\t\tprintf(\"%d \", tsort[i]);\n",
        "\tprintf(\"\\n\");\n",
        "\n",
        "\tprintf(\"Step 2. Calculating W().\\n\");\n",
        "\tfindlongest();\n",
        "\n",
        "\tprintf(\"Step 3. Find the longest path.\\n\");\n",
        "\tfindfinalsolution();\n",
        "\n",
        "  return 0;\n",
        "}"
      ],
      "execution_count": null,
      "outputs": []
    },
    {
      "cell_type": "markdown",
      "metadata": {
        "id": "zhechXUNbvva",
        "colab_type": "text"
      },
      "source": [
        "Compile it and check no errors."
      ]
    },
    {
      "cell_type": "code",
      "metadata": {
        "id": "5gxNiHT-bvEd",
        "colab_type": "code",
        "colab": {}
      },
      "source": [
        "!gcc -Wall -o  longestpath_E longestpath_E.c"
      ],
      "execution_count": null,
      "outputs": []
    },
    {
      "cell_type": "markdown",
      "metadata": {
        "id": "CxBI4UbEcB9L",
        "colab_type": "text"
      },
      "source": [
        "Run the program."
      ]
    },
    {
      "cell_type": "code",
      "metadata": {
        "id": "O3zzVD4tcA3h",
        "colab_type": "code",
        "colab": {}
      },
      "source": [
        "!./longestpath_E"
      ],
      "execution_count": null,
      "outputs": []
    },
    {
      "cell_type": "markdown",
      "metadata": {
        "id": "DY_MbwoPf_9h",
        "colab_type": "text"
      },
      "source": [
        "# Problems\n",
        "\n",
        "1. Vertex list of the longest path  \n",
        "longestpath_E.c program includes a trick to show the longest path. Point out the corresponding part of the trick and explain why it can show the vertex list (such as \"5 <- 6 <- 1 <- 0 <- Go\").\n",
        "> See the ppath structure. ppath.src works as if it is a linked list.\n",
        "\n",
        "2. Computation amount  \n",
        "Discuss the computation amount of time and space of longestpath_E.c program.\n",
        "> Time: O(N^2)，Space: O(N^2)\n",
        "\n",
        "3. With cycles  \n",
        "In this section, we assume the graph does not have cycles. By then, the given program can correctly show the answer. However, the problem definition of the longest path could allow cycles in the graph.  Investigate the algorithm that can handle directed graph with cycles (directed, cycle graphs). You are encouraged to survey it in libraries and/or the internet.\n",
        "> Omitted. Actually this is NP-hard and the algorithm should be bruteforce.\n",
        "\n"
      ]
    },
    {
      "cell_type": "markdown",
      "metadata": {
        "id": "fnhzgpFmYWTp",
        "colab_type": "text"
      },
      "source": [
        "#**Course Info**\n",
        "\n",
        "https://github.com/kameda-yoshinari/DataAlgo-T  \n",
        "Course: Data structure and algorithm  \n",
        "Department of Engineering Systems, University of Tsukuba,Japan.  \n",
        "Author: KAMEDA, Yoshinari  \n",
        "2020.05.19. -  "
      ]
    }
  ]
}